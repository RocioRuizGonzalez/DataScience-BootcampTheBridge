{
 "cells": [
  {
   "cell_type": "code",
   "execution_count": 4,
   "id": "3159fdce",
   "metadata": {},
   "outputs": [],
   "source": [
    "import pandas as pd\n",
    "import os"
   ]
  },
  {
   "cell_type": "code",
   "execution_count": 5,
   "id": "e55ea07a",
   "metadata": {},
   "outputs": [
    {
     "name": "stdout",
     "output_type": "stream",
     "text": [
      "C:\\Users\\rocio\\Documents\\RR_DataScience-BootcampTheBridge\\3-Machine Learning\\4-Deep Learning\\2-Redes Convolucionales\n"
     ]
    }
   ],
   "source": [
    "print(os.getcwd())"
   ]
  },
  {
   "cell_type": "code",
   "execution_count": 11,
   "id": "0136f487",
   "metadata": {},
   "outputs": [],
   "source": [
    "ls_train_files=pd.read_csv(\"C:\\\\Users\\\\rocio\\\\Documents\\\\RR_DataScience-BootcampTheBridge\\\\3-Machine Learning\\\\4-Deep Learning\\\\2-Redes Convolucionales\\\\train_files.csv\")"
   ]
  },
  {
   "cell_type": "code",
   "execution_count": 12,
   "id": "ea6c018d",
   "metadata": {},
   "outputs": [],
   "source": [
    "ls_test_files=pd.read_csv(\"C:\\\\Users\\\\rocio\\\\Documents\\\\RR_DataScience-BootcampTheBridge\\\\3-Machine Learning\\\\4-Deep Learning\\\\2-Redes Convolucionales\\\\test_files.csv\")"
   ]
  },
  {
   "cell_type": "code",
   "execution_count": 13,
   "id": "fce7c4b7",
   "metadata": {},
   "outputs": [],
   "source": [
    "ls_train_files=ls_train_files[\"filename\"].tolist()\n",
    "ls_test_files=ls_test_files[\"filename\"].tolist()"
   ]
  },
  {
   "cell_type": "code",
   "execution_count": 14,
   "id": "3a0f0c1b",
   "metadata": {},
   "outputs": [],
   "source": [
    "def copy_img(ls_files,from_path,to_path): \n",
    "    import shutil\n",
    "    for file in ls_files: \n",
    "        shutil.copy(from_path + file,to_path)"
   ]
  },
  {
   "cell_type": "code",
   "execution_count": 18,
   "id": "bb5cb412",
   "metadata": {},
   "outputs": [],
   "source": [
    "ROOT_PATH = \"C:\\\\Users\\\\rocio\\\\Downloads\\\\dogs-vs-cats\\\\\"\n",
    "\n",
    "TRAIN_PATH_TOT = ROOT_PATH + \"train\\\\\"\n",
    "TEST_PATH_TOT = ROOT_PATH + \"test\\\\test\\\\\"\n",
    "\n",
    "MINI_TRAIN_PATH = ROOT_PATH + \"mini_train\\\\\"\n",
    "MINI_TEST_PATH = ROOT_PATH + \"mini_test\\\\\"\n",
    "\n",
    "TRAIN_PATH = TRAIN_PATH_TOT"
   ]
  },
  {
   "cell_type": "code",
   "execution_count": 19,
   "id": "875a4848",
   "metadata": {},
   "outputs": [],
   "source": [
    "copy_img(ls_train_files, TRAIN_PATH_TOT, MINI_TRAIN_PATH)\n",
    "copy_img(ls_test_files, TRAIN_PATH_TOT, MINI_TEST_PATH)"
   ]
  },
  {
   "cell_type": "code",
   "execution_count": null,
   "id": "35986233",
   "metadata": {},
   "outputs": [],
   "source": []
  }
 ],
 "metadata": {
  "kernelspec": {
   "display_name": "Python 3 (ipykernel)",
   "language": "python",
   "name": "python3"
  },
  "language_info": {
   "codemirror_mode": {
    "name": "ipython",
    "version": 3
   },
   "file_extension": ".py",
   "mimetype": "text/x-python",
   "name": "python",
   "nbconvert_exporter": "python",
   "pygments_lexer": "ipython3",
   "version": "3.7.4"
  }
 },
 "nbformat": 4,
 "nbformat_minor": 5
}
