{
 "cells": [
  {
   "cell_type": "markdown",
   "metadata": {
    "_cell_guid": "39b08738-02bc-4f7f-bfa5-f0e8afb94037",
    "_uuid": "40228e8478617fa52cb27da39bedbc4d2eea8831"
   },
   "source": [
    "## **Predicting Housing Prices for regions in the USA.**\n",
    "\n",
    "The data contains the following columns:\n",
    "\n",
    "* 'Avg. Area Income': Avg. Income of residents of the city house is located in.\n",
    "* 'Avg. Area House Age': Avg Age of Houses in same city\n",
    "* 'Avg. Area Number of Rooms': Avg Number of Rooms for Houses in same city\n",
    "* 'Avg. Area Number of Bedrooms': Avg Number of Bedrooms for Houses in same city\n",
    "* 'Area Population': Population of city house is located in\n",
    "* 'Price': Price that the house sold at\n",
    "* 'Address': Address for the house"
   ]
  },
  {
   "cell_type": "code",
   "execution_count": 1,
   "metadata": {
    "_cell_guid": "4afddcca-ebe2-4b81-9bcf-700841c8cd9c",
    "_uuid": "a41cbd7e7ee45d1859b75c11db843b2ca1ce06ef"
   },
   "outputs": [],
   "source": [
    "# importing librarires\n",
    "import numpy as np # linear algebra\n",
    "import pandas as pd # data processing, CSV file I/O (e.g. pd.read_csv)\n",
    "import matplotlib.pyplot as plt\n",
    "import seaborn as sns\n",
    "sns.set_style('whitegrid')"
   ]
  },
  {
   "cell_type": "code",
   "execution_count": 2,
   "metadata": {
    "_cell_guid": "499a4b39-04ab-4fae-82e9-51255ee1cf8b",
    "_uuid": "df7d07be0d1051cdf43415d65fb1f4b13bac86c6"
   },
   "outputs": [
    {
     "data": {
      "text/html": [
       "<div>\n",
       "<style scoped>\n",
       "    .dataframe tbody tr th:only-of-type {\n",
       "        vertical-align: middle;\n",
       "    }\n",
       "\n",
       "    .dataframe tbody tr th {\n",
       "        vertical-align: top;\n",
       "    }\n",
       "\n",
       "    .dataframe thead th {\n",
       "        text-align: right;\n",
       "    }\n",
       "</style>\n",
       "<table border=\"1\" class=\"dataframe\">\n",
       "  <thead>\n",
       "    <tr style=\"text-align: right;\">\n",
       "      <th></th>\n",
       "      <th>Avg. Area Income</th>\n",
       "      <th>Avg. Area House Age</th>\n",
       "      <th>Avg. Area Number of Rooms</th>\n",
       "      <th>Avg. Area Number of Bedrooms</th>\n",
       "      <th>Area Population</th>\n",
       "      <th>Price</th>\n",
       "      <th>Address</th>\n",
       "    </tr>\n",
       "  </thead>\n",
       "  <tbody>\n",
       "    <tr>\n",
       "      <th>0</th>\n",
       "      <td>79545.458574</td>\n",
       "      <td>5.682861</td>\n",
       "      <td>7.009188</td>\n",
       "      <td>4.09</td>\n",
       "      <td>23086.800503</td>\n",
       "      <td>1.059034e+06</td>\n",
       "      <td>208 Michael Ferry Apt. 674\\r\\nLaurabury, NE 37...</td>\n",
       "    </tr>\n",
       "    <tr>\n",
       "      <th>1</th>\n",
       "      <td>79248.642455</td>\n",
       "      <td>6.002900</td>\n",
       "      <td>6.730821</td>\n",
       "      <td>3.09</td>\n",
       "      <td>40173.072174</td>\n",
       "      <td>1.505891e+06</td>\n",
       "      <td>188 Johnson Views Suite 079\\r\\nLake Kathleen, ...</td>\n",
       "    </tr>\n",
       "    <tr>\n",
       "      <th>2</th>\n",
       "      <td>61287.067179</td>\n",
       "      <td>5.865890</td>\n",
       "      <td>8.512727</td>\n",
       "      <td>5.13</td>\n",
       "      <td>36882.159400</td>\n",
       "      <td>1.058988e+06</td>\n",
       "      <td>9127 Elizabeth Stravenue\\r\\nDanieltown, WI 064...</td>\n",
       "    </tr>\n",
       "    <tr>\n",
       "      <th>3</th>\n",
       "      <td>63345.240046</td>\n",
       "      <td>7.188236</td>\n",
       "      <td>5.586729</td>\n",
       "      <td>3.26</td>\n",
       "      <td>34310.242831</td>\n",
       "      <td>1.260617e+06</td>\n",
       "      <td>USS Barnett\\r\\nFPO AP 44820</td>\n",
       "    </tr>\n",
       "    <tr>\n",
       "      <th>4</th>\n",
       "      <td>59982.197226</td>\n",
       "      <td>5.040555</td>\n",
       "      <td>7.839388</td>\n",
       "      <td>4.23</td>\n",
       "      <td>26354.109472</td>\n",
       "      <td>6.309435e+05</td>\n",
       "      <td>USNS Raymond\\r\\nFPO AE 09386</td>\n",
       "    </tr>\n",
       "  </tbody>\n",
       "</table>\n",
       "</div>"
      ],
      "text/plain": [
       "   Avg. Area Income  Avg. Area House Age  Avg. Area Number of Rooms  \\\n",
       "0      79545.458574             5.682861                   7.009188   \n",
       "1      79248.642455             6.002900                   6.730821   \n",
       "2      61287.067179             5.865890                   8.512727   \n",
       "3      63345.240046             7.188236                   5.586729   \n",
       "4      59982.197226             5.040555                   7.839388   \n",
       "\n",
       "   Avg. Area Number of Bedrooms  Area Population         Price  \\\n",
       "0                          4.09     23086.800503  1.059034e+06   \n",
       "1                          3.09     40173.072174  1.505891e+06   \n",
       "2                          5.13     36882.159400  1.058988e+06   \n",
       "3                          3.26     34310.242831  1.260617e+06   \n",
       "4                          4.23     26354.109472  6.309435e+05   \n",
       "\n",
       "                                             Address  \n",
       "0  208 Michael Ferry Apt. 674\\r\\nLaurabury, NE 37...  \n",
       "1  188 Johnson Views Suite 079\\r\\nLake Kathleen, ...  \n",
       "2  9127 Elizabeth Stravenue\\r\\nDanieltown, WI 064...  \n",
       "3                        USS Barnett\\r\\nFPO AP 44820  \n",
       "4                       USNS Raymond\\r\\nFPO AE 09386  "
      ]
     },
     "execution_count": 2,
     "metadata": {},
     "output_type": "execute_result"
    }
   ],
   "source": [
    "# loading csv data to dataframe \n",
    "USA_Housing = pd.read_csv('data/USA_Housing.csv')\n",
    "# checking out the Data\n",
    "USA_Housing.head()\n"
   ]
  },
  {
   "cell_type": "code",
   "execution_count": 4,
   "metadata": {
    "_cell_guid": "8ce3aa20-a38a-4eec-8c49-f737d0de3b76",
    "_uuid": "9c566b7f3356b0d66f0b9c6213f38b42b343cb9f",
    "tags": []
   },
   "outputs": [
    {
     "data": {
      "text/plain": [
       "Avg. Area Income                float64\n",
       "Avg. Area House Age             float64\n",
       "Avg. Area Number of Rooms       float64\n",
       "Avg. Area Number of Bedrooms    float64\n",
       "Area Population                 float64\n",
       "Price                           float64\n",
       "Address                          object\n",
       "dtype: object"
      ]
     },
     "execution_count": 4,
     "metadata": {},
     "output_type": "execute_result"
    }
   ],
   "source": [
    "#checking columns and total records\n",
    "USA_Housing.dtypes"
   ]
  },
  {
   "cell_type": "markdown",
   "metadata": {
    "_cell_guid": "87810e67-48af-4eda-b000-6ba92b68340b",
    "_uuid": "655d6deb9b354bb3997090ae09418b85609884fb"
   },
   "source": [
    " **Generating descriptive statistics that summarize the central tendency, dispersion and shape of a dataset’s distribution, excluding NaN value.\n",
    "**"
   ]
  },
  {
   "cell_type": "code",
   "execution_count": 3,
   "metadata": {},
   "outputs": [
    {
     "data": {
      "text/html": [
       "<div>\n",
       "<style scoped>\n",
       "    .dataframe tbody tr th:only-of-type {\n",
       "        vertical-align: middle;\n",
       "    }\n",
       "\n",
       "    .dataframe tbody tr th {\n",
       "        vertical-align: top;\n",
       "    }\n",
       "\n",
       "    .dataframe thead th {\n",
       "        text-align: right;\n",
       "    }\n",
       "</style>\n",
       "<table border=\"1\" class=\"dataframe\">\n",
       "  <thead>\n",
       "    <tr style=\"text-align: right;\">\n",
       "      <th></th>\n",
       "      <th>Avg. Area Income</th>\n",
       "      <th>Avg. Area House Age</th>\n",
       "      <th>Avg. Area Number of Rooms</th>\n",
       "      <th>Avg. Area Number of Bedrooms</th>\n",
       "      <th>Area Population</th>\n",
       "      <th>Price</th>\n",
       "      <th>Address</th>\n",
       "    </tr>\n",
       "  </thead>\n",
       "  <tbody>\n",
       "    <tr>\n",
       "      <th>0</th>\n",
       "      <td>79545.458574</td>\n",
       "      <td>5.682861</td>\n",
       "      <td>7.009188</td>\n",
       "      <td>4.09</td>\n",
       "      <td>23086.800503</td>\n",
       "      <td>1.059034e+06</td>\n",
       "      <td>208 Michael Ferry Apt. 674\\r\\nLaurabury, NE 37...</td>\n",
       "    </tr>\n",
       "    <tr>\n",
       "      <th>1</th>\n",
       "      <td>79248.642455</td>\n",
       "      <td>6.002900</td>\n",
       "      <td>6.730821</td>\n",
       "      <td>3.09</td>\n",
       "      <td>40173.072174</td>\n",
       "      <td>1.505891e+06</td>\n",
       "      <td>188 Johnson Views Suite 079\\r\\nLake Kathleen, ...</td>\n",
       "    </tr>\n",
       "    <tr>\n",
       "      <th>2</th>\n",
       "      <td>61287.067179</td>\n",
       "      <td>5.865890</td>\n",
       "      <td>8.512727</td>\n",
       "      <td>5.13</td>\n",
       "      <td>36882.159400</td>\n",
       "      <td>1.058988e+06</td>\n",
       "      <td>9127 Elizabeth Stravenue\\r\\nDanieltown, WI 064...</td>\n",
       "    </tr>\n",
       "    <tr>\n",
       "      <th>3</th>\n",
       "      <td>63345.240046</td>\n",
       "      <td>7.188236</td>\n",
       "      <td>5.586729</td>\n",
       "      <td>3.26</td>\n",
       "      <td>34310.242831</td>\n",
       "      <td>1.260617e+06</td>\n",
       "      <td>USS Barnett\\r\\nFPO AP 44820</td>\n",
       "    </tr>\n",
       "    <tr>\n",
       "      <th>4</th>\n",
       "      <td>59982.197226</td>\n",
       "      <td>5.040555</td>\n",
       "      <td>7.839388</td>\n",
       "      <td>4.23</td>\n",
       "      <td>26354.109472</td>\n",
       "      <td>6.309435e+05</td>\n",
       "      <td>USNS Raymond\\r\\nFPO AE 09386</td>\n",
       "    </tr>\n",
       "  </tbody>\n",
       "</table>\n",
       "</div>"
      ],
      "text/plain": [
       "   Avg. Area Income  Avg. Area House Age  Avg. Area Number of Rooms  \\\n",
       "0      79545.458574             5.682861                   7.009188   \n",
       "1      79248.642455             6.002900                   6.730821   \n",
       "2      61287.067179             5.865890                   8.512727   \n",
       "3      63345.240046             7.188236                   5.586729   \n",
       "4      59982.197226             5.040555                   7.839388   \n",
       "\n",
       "   Avg. Area Number of Bedrooms  Area Population         Price  \\\n",
       "0                          4.09     23086.800503  1.059034e+06   \n",
       "1                          3.09     40173.072174  1.505891e+06   \n",
       "2                          5.13     36882.159400  1.058988e+06   \n",
       "3                          3.26     34310.242831  1.260617e+06   \n",
       "4                          4.23     26354.109472  6.309435e+05   \n",
       "\n",
       "                                             Address  \n",
       "0  208 Michael Ferry Apt. 674\\r\\nLaurabury, NE 37...  \n",
       "1  188 Johnson Views Suite 079\\r\\nLake Kathleen, ...  \n",
       "2  9127 Elizabeth Stravenue\\r\\nDanieltown, WI 064...  \n",
       "3                        USS Barnett\\r\\nFPO AP 44820  \n",
       "4                       USNS Raymond\\r\\nFPO AE 09386  "
      ]
     },
     "execution_count": 3,
     "metadata": {},
     "output_type": "execute_result"
    }
   ],
   "source": [
    "df_housing=USA_Housing.copy()\n",
    "df_housing.head()"
   ]
  },
  {
   "cell_type": "code",
   "execution_count": 4,
   "metadata": {
    "_cell_guid": "d76c0b52-60a6-463a-82e8-5b37a6b12505",
    "_uuid": "a18b840ef25937bb6a8b93d0b04aff9e9dff8b9b"
   },
   "outputs": [],
   "source": [
    "df_housing.drop(columns=\"Address\",inplace=True)\n"
   ]
  },
  {
   "cell_type": "code",
   "execution_count": 5,
   "metadata": {},
   "outputs": [
    {
     "data": {
      "text/html": [
       "<div>\n",
       "<style scoped>\n",
       "    .dataframe tbody tr th:only-of-type {\n",
       "        vertical-align: middle;\n",
       "    }\n",
       "\n",
       "    .dataframe tbody tr th {\n",
       "        vertical-align: top;\n",
       "    }\n",
       "\n",
       "    .dataframe thead th {\n",
       "        text-align: right;\n",
       "    }\n",
       "</style>\n",
       "<table border=\"1\" class=\"dataframe\">\n",
       "  <thead>\n",
       "    <tr style=\"text-align: right;\">\n",
       "      <th></th>\n",
       "      <th>Avg. Area Income</th>\n",
       "      <th>Avg. Area House Age</th>\n",
       "      <th>Avg. Area Number of Rooms</th>\n",
       "      <th>Avg. Area Number of Bedrooms</th>\n",
       "      <th>Area Population</th>\n",
       "      <th>Price</th>\n",
       "    </tr>\n",
       "  </thead>\n",
       "  <tbody>\n",
       "    <tr>\n",
       "      <th>0</th>\n",
       "      <td>79545.458574</td>\n",
       "      <td>5.682861</td>\n",
       "      <td>7.009188</td>\n",
       "      <td>4.09</td>\n",
       "      <td>23086.800503</td>\n",
       "      <td>1.059034e+06</td>\n",
       "    </tr>\n",
       "    <tr>\n",
       "      <th>1</th>\n",
       "      <td>79248.642455</td>\n",
       "      <td>6.002900</td>\n",
       "      <td>6.730821</td>\n",
       "      <td>3.09</td>\n",
       "      <td>40173.072174</td>\n",
       "      <td>1.505891e+06</td>\n",
       "    </tr>\n",
       "    <tr>\n",
       "      <th>2</th>\n",
       "      <td>61287.067179</td>\n",
       "      <td>5.865890</td>\n",
       "      <td>8.512727</td>\n",
       "      <td>5.13</td>\n",
       "      <td>36882.159400</td>\n",
       "      <td>1.058988e+06</td>\n",
       "    </tr>\n",
       "    <tr>\n",
       "      <th>3</th>\n",
       "      <td>63345.240046</td>\n",
       "      <td>7.188236</td>\n",
       "      <td>5.586729</td>\n",
       "      <td>3.26</td>\n",
       "      <td>34310.242831</td>\n",
       "      <td>1.260617e+06</td>\n",
       "    </tr>\n",
       "    <tr>\n",
       "      <th>4</th>\n",
       "      <td>59982.197226</td>\n",
       "      <td>5.040555</td>\n",
       "      <td>7.839388</td>\n",
       "      <td>4.23</td>\n",
       "      <td>26354.109472</td>\n",
       "      <td>6.309435e+05</td>\n",
       "    </tr>\n",
       "  </tbody>\n",
       "</table>\n",
       "</div>"
      ],
      "text/plain": [
       "   Avg. Area Income  Avg. Area House Age  Avg. Area Number of Rooms  \\\n",
       "0      79545.458574             5.682861                   7.009188   \n",
       "1      79248.642455             6.002900                   6.730821   \n",
       "2      61287.067179             5.865890                   8.512727   \n",
       "3      63345.240046             7.188236                   5.586729   \n",
       "4      59982.197226             5.040555                   7.839388   \n",
       "\n",
       "   Avg. Area Number of Bedrooms  Area Population         Price  \n",
       "0                          4.09     23086.800503  1.059034e+06  \n",
       "1                          3.09     40173.072174  1.505891e+06  \n",
       "2                          5.13     36882.159400  1.058988e+06  \n",
       "3                          3.26     34310.242831  1.260617e+06  \n",
       "4                          4.23     26354.109472  6.309435e+05  "
      ]
     },
     "execution_count": 5,
     "metadata": {},
     "output_type": "execute_result"
    }
   ],
   "source": [
    "df_housing.head()"
   ]
  },
  {
   "cell_type": "markdown",
   "metadata": {
    "_cell_guid": "6794ac1f-314c-4ea0-8ba5-846af088f796",
    "_uuid": "2b29b661fedaf0996cb6611f1b9266ca2acf0c0a"
   },
   "source": [
    "## **Exploratory Data Analysis**\n",
    "\n",
    "\n",
    "**Visualizing the Entire Data using pairplot**\n",
    "\n",
    "Exploring types of relationship across the entire dataset"
   ]
  },
  {
   "cell_type": "code",
   "execution_count": null,
   "metadata": {
    "_cell_guid": "6f974993-1d64-4609-8bd3-1706803ce65f",
    "_uuid": "cbbb789ff8f4008140eae0c7c4adb1a44040115a"
   },
   "outputs": [],
   "source": []
  },
  {
   "cell_type": "markdown",
   "metadata": {
    "_cell_guid": "bddc4904-7efb-4908-918b-d6fbc121f61c",
    "_uuid": "acb72d9982bd0cfc576ef98e0d3f3ed0b0714f50"
   },
   "source": [
    "## **Distribution of Housing Price Across USA**"
   ]
  },
  {
   "cell_type": "code",
   "execution_count": null,
   "metadata": {
    "_cell_guid": "2490599a-6697-450d-9023-de9cf8984580",
    "_uuid": "b4422e7a9dea5637f81896db69f9fbf05477783a"
   },
   "outputs": [],
   "source": []
  },
  {
   "cell_type": "code",
   "execution_count": null,
   "metadata": {
    "_cell_guid": "7d3b7184-c402-466e-838c-1aee80e44a97",
    "_uuid": "8e0e0981fd053bf585ac03835c54a66f56717c24"
   },
   "outputs": [],
   "source": [
    "#Displaying correlation among all the columns \n",
    "df_housing.corr()"
   ]
  },
  {
   "cell_type": "markdown",
   "metadata": {
    "_cell_guid": "0a9e9e3d-706e-4344-ba63-5062a9d2381d",
    "_uuid": "aefd7c0cb13223fdecf7f596772fd4bc3616b8ad"
   },
   "source": [
    "## **Displaying correlation among all the columns using Heat Map**\n"
   ]
  },
  {
   "cell_type": "code",
   "execution_count": 6,
   "metadata": {
    "_cell_guid": "5eaf9095-f4a1-4d4b-bf9f-59ca3b99e89f",
    "_uuid": "0982f0877b4101fdf1e577161025d1bd3960ab41"
   },
   "outputs": [
    {
     "data": {
      "text/plain": [
       "<AxesSubplot:>"
      ]
     },
     "execution_count": 6,
     "metadata": {},
     "output_type": "execute_result"
    },
    {
     "data": {
      "image/png": "[encoded data removed]",
      "text/plain": [
       "<Figure size 640x480 with 2 Axes>"
      ]
     },
     "metadata": {},
     "output_type": "display_data"
    }
   ],
   "source": [
    "sns.heatmap(df_housing.corr(),annot=True,vmin=-1,vmax=1)"
   ]
  },
  {
   "cell_type": "markdown",
   "metadata": {
    "_cell_guid": "9be82a37-6e10-4c6a-acb1-f4c08b2ecb4a",
    "_uuid": "449bcb976ab031fda3834e0c0b9a7a0370377df8"
   },
   "source": [
    "## **Training a Linear Regression Model**\n",
    "\n",
    "[](http://)We will need to first split up our data into an X array that contains the features to train on, and a y array with the target variable, in this case the Price column. We will toss out the Address column because it only has text info that the linear regression model can't use.\n",
    "\n",
    "### X and y arrays"
   ]
  },
  {
   "cell_type": "code",
   "execution_count": 6,
   "metadata": {
    "_cell_guid": "9947efd6-52a1-43f0-bd11-b7b993c1f60e",
    "_uuid": "5bb4d56e492fbf7c04fda4edb22891c3d53f3559"
   },
   "outputs": [
    {
     "data": {
      "text/plain": [
       "Index(['Avg. Area Income', 'Avg. Area House Age', 'Avg. Area Number of Rooms',\n",
       "       'Avg. Area Number of Bedrooms', 'Area Population', 'Price'],\n",
       "      dtype='object')"
      ]
     },
     "execution_count": 6,
     "metadata": {},
     "output_type": "execute_result"
    }
   ],
   "source": [
    "#Getting all Coulmn names\n",
    "df_housing.columns"
   ]
  },
  {
   "cell_type": "markdown",
   "metadata": {},
   "source": [
    "y = a + b1*X + b2*X"
   ]
  },
  {
   "cell_type": "code",
   "execution_count": 7,
   "metadata": {
    "_cell_guid": "633cf4c6-9adc-44d0-8698-84c7c6113551",
    "_uuid": "f8215a5800c6fadc3e1ddfdc2ea57675bb21c6fc"
   },
   "outputs": [],
   "source": [
    "# Columns as Features\n",
    "X = df_housing[['Avg. Area Income', 'Avg. Area House Age', 'Avg. Area Number of Rooms',\n",
    "       'Avg. Area Number of Bedrooms', 'Area Population']]"
   ]
  },
  {
   "cell_type": "code",
   "execution_count": 8,
   "metadata": {
    "_cell_guid": "71a57750-199a-405f-9839-e5499059f1cf",
    "_uuid": "4173965bca7c30b5e9d47b2b467c31b42d3da03b"
   },
   "outputs": [],
   "source": [
    "# Price is my Target Variable, what we trying to predict\n",
    "y = df_housing['Price']"
   ]
  },
  {
   "cell_type": "code",
   "execution_count": 9,
   "metadata": {},
   "outputs": [
    {
     "data": {
      "text/html": [
       "<div>\n",
       "<style scoped>\n",
       "    .dataframe tbody tr th:only-of-type {\n",
       "        vertical-align: middle;\n",
       "    }\n",
       "\n",
       "    .dataframe tbody tr th {\n",
       "        vertical-align: top;\n",
       "    }\n",
       "\n",
       "    .dataframe thead th {\n",
       "        text-align: right;\n",
       "    }\n",
       "</style>\n",
       "<table border=\"1\" class=\"dataframe\">\n",
       "  <thead>\n",
       "    <tr style=\"text-align: right;\">\n",
       "      <th></th>\n",
       "      <th>Avg. Area Income</th>\n",
       "      <th>Avg. Area House Age</th>\n",
       "      <th>Avg. Area Number of Rooms</th>\n",
       "      <th>Avg. Area Number of Bedrooms</th>\n",
       "      <th>Area Population</th>\n",
       "    </tr>\n",
       "  </thead>\n",
       "  <tbody>\n",
       "    <tr>\n",
       "      <th>0</th>\n",
       "      <td>79545.458574</td>\n",
       "      <td>5.682861</td>\n",
       "      <td>7.009188</td>\n",
       "      <td>4.09</td>\n",
       "      <td>23086.800503</td>\n",
       "    </tr>\n",
       "    <tr>\n",
       "      <th>1</th>\n",
       "      <td>79248.642455</td>\n",
       "      <td>6.002900</td>\n",
       "      <td>6.730821</td>\n",
       "      <td>3.09</td>\n",
       "      <td>40173.072174</td>\n",
       "    </tr>\n",
       "    <tr>\n",
       "      <th>2</th>\n",
       "      <td>61287.067179</td>\n",
       "      <td>5.865890</td>\n",
       "      <td>8.512727</td>\n",
       "      <td>5.13</td>\n",
       "      <td>36882.159400</td>\n",
       "    </tr>\n",
       "    <tr>\n",
       "      <th>3</th>\n",
       "      <td>63345.240046</td>\n",
       "      <td>7.188236</td>\n",
       "      <td>5.586729</td>\n",
       "      <td>3.26</td>\n",
       "      <td>34310.242831</td>\n",
       "    </tr>\n",
       "    <tr>\n",
       "      <th>4</th>\n",
       "      <td>59982.197226</td>\n",
       "      <td>5.040555</td>\n",
       "      <td>7.839388</td>\n",
       "      <td>4.23</td>\n",
       "      <td>26354.109472</td>\n",
       "    </tr>\n",
       "    <tr>\n",
       "      <th>...</th>\n",
       "      <td>...</td>\n",
       "      <td>...</td>\n",
       "      <td>...</td>\n",
       "      <td>...</td>\n",
       "      <td>...</td>\n",
       "    </tr>\n",
       "    <tr>\n",
       "      <th>4995</th>\n",
       "      <td>60567.944140</td>\n",
       "      <td>7.830362</td>\n",
       "      <td>6.137356</td>\n",
       "      <td>3.46</td>\n",
       "      <td>22837.361035</td>\n",
       "    </tr>\n",
       "    <tr>\n",
       "      <th>4996</th>\n",
       "      <td>78491.275435</td>\n",
       "      <td>6.999135</td>\n",
       "      <td>6.576763</td>\n",
       "      <td>4.02</td>\n",
       "      <td>25616.115489</td>\n",
       "    </tr>\n",
       "    <tr>\n",
       "      <th>4997</th>\n",
       "      <td>63390.686886</td>\n",
       "      <td>7.250591</td>\n",
       "      <td>4.805081</td>\n",
       "      <td>2.13</td>\n",
       "      <td>33266.145490</td>\n",
       "    </tr>\n",
       "    <tr>\n",
       "      <th>4998</th>\n",
       "      <td>68001.331235</td>\n",
       "      <td>5.534388</td>\n",
       "      <td>7.130144</td>\n",
       "      <td>5.44</td>\n",
       "      <td>42625.620156</td>\n",
       "    </tr>\n",
       "    <tr>\n",
       "      <th>4999</th>\n",
       "      <td>65510.581804</td>\n",
       "      <td>5.992305</td>\n",
       "      <td>6.792336</td>\n",
       "      <td>4.07</td>\n",
       "      <td>46501.283803</td>\n",
       "    </tr>\n",
       "  </tbody>\n",
       "</table>\n",
       "<p>5000 rows × 5 columns</p>\n",
       "</div>"
      ],
      "text/plain": [
       "      Avg. Area Income  Avg. Area House Age  Avg. Area Number of Rooms  \\\n",
       "0         79545.458574             5.682861                   7.009188   \n",
       "1         79248.642455             6.002900                   6.730821   \n",
       "2         61287.067179             5.865890                   8.512727   \n",
       "3         63345.240046             7.188236                   5.586729   \n",
       "4         59982.197226             5.040555                   7.839388   \n",
       "...                ...                  ...                        ...   \n",
       "4995      60567.944140             7.830362                   6.137356   \n",
       "4996      78491.275435             6.999135                   6.576763   \n",
       "4997      63390.686886             7.250591                   4.805081   \n",
       "4998      68001.331235             5.534388                   7.130144   \n",
       "4999      65510.581804             5.992305                   6.792336   \n",
       "\n",
       "      Avg. Area Number of Bedrooms  Area Population  \n",
       "0                             4.09     23086.800503  \n",
       "1                             3.09     40173.072174  \n",
       "2                             5.13     36882.159400  \n",
       "3                             3.26     34310.242831  \n",
       "4                             4.23     26354.109472  \n",
       "...                            ...              ...  \n",
       "4995                          3.46     22837.361035  \n",
       "4996                          4.02     25616.115489  \n",
       "4997                          2.13     33266.145490  \n",
       "4998                          5.44     42625.620156  \n",
       "4999                          4.07     46501.283803  \n",
       "\n",
       "[5000 rows x 5 columns]"
      ]
     },
     "execution_count": 9,
     "metadata": {},
     "output_type": "execute_result"
    }
   ],
   "source": [
    "X"
   ]
  },
  {
   "cell_type": "code",
   "execution_count": 10,
   "metadata": {},
   "outputs": [
    {
     "data": {
      "text/plain": [
       "0       1.059034e+06\n",
       "1       1.505891e+06\n",
       "2       1.058988e+06\n",
       "3       1.260617e+06\n",
       "4       6.309435e+05\n",
       "            ...     \n",
       "4995    1.060194e+06\n",
       "4996    1.482618e+06\n",
       "4997    1.030730e+06\n",
       "4998    1.198657e+06\n",
       "4999    1.298950e+06\n",
       "Name: Price, Length: 5000, dtype: float64"
      ]
     },
     "execution_count": 10,
     "metadata": {},
     "output_type": "execute_result"
    }
   ],
   "source": [
    "y"
   ]
  },
  {
   "cell_type": "markdown",
   "metadata": {
    "_cell_guid": "2e3608c6-f1a5-4842-94f7-055a62a76860",
    "_uuid": "50907f122ca73e22537f17474350b2a6d45ed173"
   },
   "source": [
    "## **Training the Model**\n",
    "\n",
    "Now that we've explored the data a bit, let's go ahead and split the data into training and testing sets.\n"
   ]
  },
  {
   "cell_type": "code",
   "execution_count": 12,
   "metadata": {
    "_cell_guid": "517f5fa6-0b7c-4dac-9ee4-af2d3f00e8a4",
    "_uuid": "32ab8878f1023ee5069d2b02669101bf06dfc35b"
   },
   "outputs": [
    {
     "data": {
      "text/plain": [
       "4000.0"
      ]
     },
     "execution_count": 12,
     "metadata": {},
     "output_type": "execute_result"
    }
   ],
   "source": [
    "X.shape[0]*0.8"
   ]
  },
  {
   "cell_type": "code",
   "execution_count": 11,
   "metadata": {},
   "outputs": [],
   "source": [
    "X_train,X_test=X.iloc[:4000],X.iloc[4000:]\n",
    "y_train,y_test=y[:4000],y[4000:]"
   ]
  },
  {
   "cell_type": "code",
   "execution_count": 12,
   "metadata": {},
   "outputs": [
    {
     "data": {
      "image/png": "[encoded data removed]",
      "text/plain": [
       "<Figure size 640x480 with 1 Axes>"
      ]
     },
     "metadata": {},
     "output_type": "display_data"
    }
   ],
   "source": [
    "fig,ax=plt.subplots(1,1)\n",
    "y_train.hist(ax=ax)\n",
    "y_test.hist(ax=ax);"
   ]
  },
  {
   "cell_type": "code",
   "execution_count": 13,
   "metadata": {},
   "outputs": [],
   "source": [
    "from sklearn.model_selection import train_test_split\n",
    "\n",
    "X_train,X_test,y_train,y_test=train_test_split(X,\n",
    "                                                y,\n",
    "                                                train_size=0.8,\n",
    "                                                random_state=0)\n"
   ]
  },
  {
   "cell_type": "code",
   "execution_count": 14,
   "metadata": {},
   "outputs": [
    {
     "data": {
      "image/png": "[encoded data removed]",
      "text/plain": [
       "<Figure size 640x480 with 1 Axes>"
      ]
     },
     "metadata": {},
     "output_type": "display_data"
    }
   ],
   "source": [
    "fig,ax=plt.subplots(1,1)\n",
    "y_train.hist(ax=ax)\n",
    "y_test.hist(ax=ax)\n",
    "plt.title(\"Distribuciones target y test\");"
   ]
  },
  {
   "cell_type": "code",
   "execution_count": null,
   "metadata": {},
   "outputs": [],
   "source": []
  },
  {
   "cell_type": "code",
   "execution_count": 15,
   "metadata": {
    "_cell_guid": "e605abf7-6166-465e-a9dc-a9d96b2c3012",
    "_uuid": "3ab04a9368f6500bedec7c0325a38c46d137a007"
   },
   "outputs": [],
   "source": [
    "#importing the Linear Regression Algorithm\n",
    "from sklearn.linear_model import LinearRegression"
   ]
  },
  {
   "cell_type": "code",
   "execution_count": 16,
   "metadata": {
    "_cell_guid": "36099f3b-4b4f-4a38-a3f2-e1b9000f505c",
    "_uuid": "8519b12790d7944488c5e0e7efd6c192b6ee2e47"
   },
   "outputs": [
    {
     "name": "stdout",
     "output_type": "stream",
     "text": [
      "LinearRegression()\n",
      "<class 'sklearn.linear_model._base.LinearRegression'>\n"
     ]
    }
   ],
   "source": [
    "#creating LinearRegression Object\n",
    "lm=LinearRegression()\n",
    "print(lm)\n",
    "print(type(lm))"
   ]
  },
  {
   "cell_type": "code",
   "execution_count": 17,
   "metadata": {},
   "outputs": [
    {
     "ename": "NotFittedError",
     "evalue": "This LinearRegression instance is not fitted yet. Call 'fit' with appropriate arguments before using this estimator.",
     "output_type": "error",
     "traceback": [
      "\u001b[1;31m---------------------------------------------------------------------------\u001b[0m",
      "\u001b[1;31mNotFittedError\u001b[0m                            Traceback (most recent call last)",
      "\u001b[1;32m~\\AppData\\Local\\Temp\\ipykernel_17340\\4010702094.py\u001b[0m in \u001b[0;36m<module>\u001b[1;34m\u001b[0m\n\u001b[1;32m----> 1\u001b[1;33m \u001b[0mlm\u001b[0m\u001b[1;33m.\u001b[0m\u001b[0mpredict\u001b[0m\u001b[1;33m(\u001b[0m\u001b[0mX_test\u001b[0m\u001b[1;33m)\u001b[0m\u001b[1;33m\u001b[0m\u001b[1;33m\u001b[0m\u001b[0m\n\u001b[0m",
      "\u001b[1;32mc:\\users\\rocio\\appdata\\local\\programs\\python\\python37\\lib\\site-packages\\sklearn\\linear_model\\_base.py\u001b[0m in \u001b[0;36mpredict\u001b[1;34m(self, X)\u001b[0m\n\u001b[0;32m    360\u001b[0m             \u001b[0mReturns\u001b[0m \u001b[0mpredicted\u001b[0m \u001b[0mvalues\u001b[0m\u001b[1;33m.\u001b[0m\u001b[1;33m\u001b[0m\u001b[1;33m\u001b[0m\u001b[0m\n\u001b[0;32m    361\u001b[0m         \"\"\"\n\u001b[1;32m--> 362\u001b[1;33m         \u001b[1;32mreturn\u001b[0m \u001b[0mself\u001b[0m\u001b[1;33m.\u001b[0m\u001b[0m_decision_function\u001b[0m\u001b[1;33m(\u001b[0m\u001b[0mX\u001b[0m\u001b[1;33m)\u001b[0m\u001b[1;33m\u001b[0m\u001b[1;33m\u001b[0m\u001b[0m\n\u001b[0m\u001b[0;32m    363\u001b[0m \u001b[1;33m\u001b[0m\u001b[0m\n\u001b[0;32m    364\u001b[0m     \u001b[0m_preprocess_data\u001b[0m \u001b[1;33m=\u001b[0m \u001b[0mstaticmethod\u001b[0m\u001b[1;33m(\u001b[0m\u001b[0m_preprocess_data\u001b[0m\u001b[1;33m)\u001b[0m\u001b[1;33m\u001b[0m\u001b[1;33m\u001b[0m\u001b[0m\n",
      "\u001b[1;32mc:\\users\\rocio\\appdata\\local\\programs\\python\\python37\\lib\\site-packages\\sklearn\\linear_model\\_base.py\u001b[0m in \u001b[0;36m_decision_function\u001b[1;34m(self, X)\u001b[0m\n\u001b[0;32m    341\u001b[0m \u001b[1;33m\u001b[0m\u001b[0m\n\u001b[0;32m    342\u001b[0m     \u001b[1;32mdef\u001b[0m \u001b[0m_decision_function\u001b[0m\u001b[1;33m(\u001b[0m\u001b[0mself\u001b[0m\u001b[1;33m,\u001b[0m \u001b[0mX\u001b[0m\u001b[1;33m)\u001b[0m\u001b[1;33m:\u001b[0m\u001b[1;33m\u001b[0m\u001b[1;33m\u001b[0m\u001b[0m\n\u001b[1;32m--> 343\u001b[1;33m         \u001b[0mcheck_is_fitted\u001b[0m\u001b[1;33m(\u001b[0m\u001b[0mself\u001b[0m\u001b[1;33m)\u001b[0m\u001b[1;33m\u001b[0m\u001b[1;33m\u001b[0m\u001b[0m\n\u001b[0m\u001b[0;32m    344\u001b[0m \u001b[1;33m\u001b[0m\u001b[0m\n\u001b[0;32m    345\u001b[0m         \u001b[0mX\u001b[0m \u001b[1;33m=\u001b[0m \u001b[0mself\u001b[0m\u001b[1;33m.\u001b[0m\u001b[0m_validate_data\u001b[0m\u001b[1;33m(\u001b[0m\u001b[0mX\u001b[0m\u001b[1;33m,\u001b[0m \u001b[0maccept_sparse\u001b[0m\u001b[1;33m=\u001b[0m\u001b[1;33m[\u001b[0m\u001b[1;34m\"csr\"\u001b[0m\u001b[1;33m,\u001b[0m \u001b[1;34m\"csc\"\u001b[0m\u001b[1;33m,\u001b[0m \u001b[1;34m\"coo\"\u001b[0m\u001b[1;33m]\u001b[0m\u001b[1;33m,\u001b[0m \u001b[0mreset\u001b[0m\u001b[1;33m=\u001b[0m\u001b[1;32mFalse\u001b[0m\u001b[1;33m)\u001b[0m\u001b[1;33m\u001b[0m\u001b[1;33m\u001b[0m\u001b[0m\n",
      "\u001b[1;32mc:\\users\\rocio\\appdata\\local\\programs\\python\\python37\\lib\\site-packages\\sklearn\\utils\\validation.py\u001b[0m in \u001b[0;36mcheck_is_fitted\u001b[1;34m(estimator, attributes, msg, all_or_any)\u001b[0m\n\u001b[0;32m   1220\u001b[0m \u001b[1;33m\u001b[0m\u001b[0m\n\u001b[0;32m   1221\u001b[0m     \u001b[1;32mif\u001b[0m \u001b[1;32mnot\u001b[0m \u001b[0mfitted\u001b[0m\u001b[1;33m:\u001b[0m\u001b[1;33m\u001b[0m\u001b[1;33m\u001b[0m\u001b[0m\n\u001b[1;32m-> 1222\u001b[1;33m         \u001b[1;32mraise\u001b[0m \u001b[0mNotFittedError\u001b[0m\u001b[1;33m(\u001b[0m\u001b[0mmsg\u001b[0m \u001b[1;33m%\u001b[0m \u001b[1;33m{\u001b[0m\u001b[1;34m\"name\"\u001b[0m\u001b[1;33m:\u001b[0m \u001b[0mtype\u001b[0m\u001b[1;33m(\u001b[0m\u001b[0mestimator\u001b[0m\u001b[1;33m)\u001b[0m\u001b[1;33m.\u001b[0m\u001b[0m__name__\u001b[0m\u001b[1;33m}\u001b[0m\u001b[1;33m)\u001b[0m\u001b[1;33m\u001b[0m\u001b[1;33m\u001b[0m\u001b[0m\n\u001b[0m\u001b[0;32m   1223\u001b[0m \u001b[1;33m\u001b[0m\u001b[0m\n\u001b[0;32m   1224\u001b[0m \u001b[1;33m\u001b[0m\u001b[0m\n",
      "\u001b[1;31mNotFittedError\u001b[0m: This LinearRegression instance is not fitted yet. Call 'fit' with appropriate arguments before using this estimator."
     ]
    }
   ],
   "source": [
    "lm.predict(X_test)"
   ]
  },
  {
   "cell_type": "code",
   "execution_count": 18,
   "metadata": {
    "_cell_guid": "e6b9fddf-67c4-4cc9-9387-0d92418bb1c8",
    "_uuid": "be32db6f168500931a2472a8a124a4f05170ad44"
   },
   "outputs": [
    {
     "data": {
      "text/plain": [
       "LinearRegression()"
      ]
     },
     "execution_count": 18,
     "metadata": {},
     "output_type": "execute_result"
    }
   ],
   "source": [
    "#Training the Data Model\n",
    "lm.fit(X_train,y_train)"
   ]
  },
  {
   "cell_type": "code",
   "execution_count": 22,
   "metadata": {},
   "outputs": [
    {
     "data": {
      "text/plain": [
       "Index(['Avg. Area Income', 'Avg. Area House Age', 'Avg. Area Number of Rooms',\n",
       "       'Avg. Area Number of Bedrooms', 'Area Population'],\n",
       "      dtype='object')"
      ]
     },
     "execution_count": 22,
     "metadata": {},
     "output_type": "execute_result"
    }
   ],
   "source": [
    "X_train.columns"
   ]
  },
  {
   "cell_type": "code",
   "execution_count": 23,
   "metadata": {},
   "outputs": [
    {
     "data": {
      "text/plain": [
       "array([2.16604083e+01, 1.65809651e+05, 1.20329408e+05, 2.19309558e+03,\n",
       "       1.52858855e+01])"
      ]
     },
     "execution_count": 23,
     "metadata": {},
     "output_type": "execute_result"
    }
   ],
   "source": [
    "lm.coef_"
   ]
  },
  {
   "cell_type": "code",
   "execution_count": null,
   "metadata": {},
   "outputs": [],
   "source": [
    "#están en direferentes escalas, hay que normalizar"
   ]
  },
  {
   "cell_type": "code",
   "execution_count": 21,
   "metadata": {},
   "outputs": [
    {
     "data": {
      "text/plain": [
       "-2646630.531055915"
      ]
     },
     "execution_count": 21,
     "metadata": {},
     "output_type": "execute_result"
    }
   ],
   "source": [
    "#Ordenada en el origen\n",
    "lm.intercept_"
   ]
  },
  {
   "cell_type": "markdown",
   "metadata": {
    "_cell_guid": "b998c215-f4cd-4702-ad9b-d84fef38dcb8",
    "_uuid": "1c1d9d1bd6278f877243b6b4cd50f57c233d955a"
   },
   "source": [
    " ## **Model Evaluation**\n",
    "\n",
    "\n",
    "Let's evaluate the model by checking out it's coefficients "
   ]
  },
  {
   "cell_type": "markdown",
   "metadata": {},
   "source": [
    "y = a + bX + ..."
   ]
  },
  {
   "cell_type": "code",
   "execution_count": null,
   "metadata": {
    "_cell_guid": "bfb731df-105a-45de-8cab-81fa8246711a",
    "_uuid": "53e58674f9aa4fdcc3045ce94d05d76e84f42ffa",
    "tags": []
   },
   "outputs": [],
   "source": [
    "#Displaying the Intercept\n"
   ]
  },
  {
   "cell_type": "code",
   "execution_count": 24,
   "metadata": {},
   "outputs": [
    {
     "name": "stdout",
     "output_type": "stream",
     "text": [
      "[ 971305.2171559   954717.19848519  907561.62786802  493251.36603036\n",
      "  717846.54075563 1050147.83569695  712749.72523197  786730.4082839\n",
      " 1804401.07723572 1538824.53251444  743185.11443127 1145962.64546488\n",
      " 2121930.18782563  974081.46956725 1152109.89196311  875083.71232263\n",
      " 1105054.7286904   801503.1250512  1205004.32935661 1408921.31567666\n",
      " 1140508.64862889 1063287.89778645 1436698.66412557 1176185.01193253\n",
      " 1297298.51186765 1120654.6510134  1118341.02405208 1372882.33712619\n",
      " 1589401.18137743 1194289.3119116  1562677.3593149  2007793.98911753\n",
      "  891709.15981124 1326060.16200968 1184356.85325293  749141.68806501\n",
      " 1082944.09149544 1579298.12680208 1260383.5718463  1334423.40010874\n",
      " 1596862.94057499  961444.39684258 1219893.2168558  1115884.15833105\n",
      " 1034764.41129303 1702297.11628962 1016847.82240769 1618322.2183224\n",
      " 1153795.04960978 1382385.98827114 1338769.10448418 1581866.14643428\n",
      " 1491357.72887399 1724937.99993238 1217735.15243508  575665.92632134\n",
      " 1211928.06024174 1431260.90487693  815735.28689451 1700198.89313438\n",
      " 1648427.43930724 1618652.51333417 1205677.61463299 1323690.06023839\n",
      " 1191813.2389125  1161160.86251576  929088.01651164 1491973.96180533\n",
      " 1316037.66618448 1132302.47616309 1223101.36972641 1667918.08810138\n",
      "  484169.04413909 1186512.86381394 1998236.99581753 1861732.81733589\n",
      " 1769696.69828889 1364841.90176733 1292985.3006855  1278679.68964901\n",
      " 1066978.74332822 1266274.27048292 1633386.16032286 1051942.68846625\n",
      " 1054859.35182106 1225847.66181098 1243616.86657849 1169512.30470807\n",
      " 1710947.30330662 1377068.745921   1027395.15518824  985298.10741096\n",
      " 1227026.56661455 1578752.21969485  977652.97012644 1468429.660574\n",
      " 1640022.9151039  1077576.79588919  823618.39317836  895338.2487672\n",
      " 1570451.7608837  1426564.33049911  626107.03643136  774255.08056212\n",
      " 1454942.62479635 1115225.94010704 1823613.95795172 1041390.00113526\n",
      " 1491426.05317185 1250689.18879032 1306730.09417261 1535563.46435628\n",
      "  940746.49486081 1011980.89144486  865342.90815045 1034704.80308648\n",
      " 1279334.8194755   926995.47263999 1119900.03423973 1326787.77648173\n",
      " 1331090.31699746  777092.09179014  843343.63433926 1403843.44698729\n",
      " 1411935.91632801 1467542.50405514  871585.3576263   584497.64872086\n",
      " 1071128.45154392 1197265.18986923  642740.03742133 1595315.0635979\n",
      "  973150.87536143  887787.30159713 1338877.75332582 1121881.52248297\n",
      "  896936.73295204 1773799.16276532 1550191.15454943  962908.15561773\n",
      " 1731089.47738922  746548.54668544 1129317.11668114 1370434.20669738\n",
      " 1458667.52968932 1331356.78381806 1372057.56523088 1092655.48857623\n",
      " 1008085.79856405 1511633.24954384 1072998.85484223  765885.13013802\n",
      "  839120.98289416  953706.5995836   715752.48003936  640663.93344658\n",
      " 1012192.98491999 1843836.03265312  791368.83726558 1154525.52498996\n",
      " 1027656.37904895 1046299.65044576 1398732.58402442 1725126.99092003\n",
      " 1415896.61072995 1308664.095588   1058827.37182224 1003952.82956711\n",
      " 1675950.2165618  1293829.31858872 1854729.81863333 1073505.24469169\n",
      "  967685.05459197 1739822.98449074 1463348.39132869 1559883.12033953\n",
      " 1336156.31963864 1393155.10300234 1468849.43328733 1485580.22607116\n",
      " 1054295.98727639 1746310.75472367 1685759.20852408  474613.47077869\n",
      " 1239263.39279529 1122460.75580059 1122588.51024473  949617.08154548\n",
      " 1332751.25209363  867471.9999259  1243863.2862415  1848520.25339839\n",
      " 1093375.73099539  392453.84297811 1247669.27107883 1466373.84141729\n",
      " 1555627.97498563 1136460.76205583 1223408.78954732  787776.62715059\n",
      " 1170788.81338468 1322774.61128508  949278.44323652  859612.68244684\n",
      " 1127738.09129734  956214.84839442 1848110.6163914  1385711.67904093\n",
      " 1383982.04803308 1177927.46480661  758401.63036362 1539801.91640406\n",
      "  831244.61120636 1208746.98543608 1007407.28277506  892002.23785873\n",
      "  942619.05104229 1118045.43332532 1311238.90981167 1258753.0603341\n",
      " 1582323.37834061 1044401.22563093  871035.83664588 1269139.34154604\n",
      " 1812456.98692773  926333.44984731 1146777.26930907  961964.95785197\n",
      " 1266980.34219873 1475710.1597936  1822893.51047392   93814.8303884\n",
      "  628807.33289635  545604.78063727 1592069.39335949  797210.74120767\n",
      " 1283695.13158103  912127.80348948  812361.63383963 1236495.67722112\n",
      " 1026399.44315096 1981360.27243555 1045698.75999003 1539754.95541576\n",
      " 1372985.32628757 1117665.81839601 2034551.46451393 1327940.7190344\n",
      " 1342534.78778594 1758156.8746705  1520992.1099026   989734.28169742\n",
      " 1356938.53258886 1059330.49094227 1271959.04345201 1487997.05844014\n",
      "  957930.34099855 1578013.61506096 1445059.59037071 1332806.11700013\n",
      " 1336952.76978902  689621.87945101  572568.02510118 1720113.87612646\n",
      "  774730.87746738  625977.36004705  931893.50657491 1057207.71969626\n",
      " 1060908.66701115 1150294.45316895  919554.84690628 1313576.09177643\n",
      "  896428.34379145 1618563.10392808 1649712.84040056 1291359.98304733\n",
      " 1517987.89648105  903674.69506165 1286053.8144098  1322455.03468129\n",
      " 1331911.81894102 1325237.57238422  897213.97806473 1213378.29509702\n",
      " 1250546.02156579 1590567.07838321 1520859.25245174 1400773.76602423\n",
      "  811509.27371561 1044494.91778727 1092961.06329176 1745170.42105672\n",
      "  607389.81233478 1826714.24210529 1360596.24642352 1649648.27742126\n",
      " 1240684.30535488 1453939.58129449 1271979.96265862  375180.46471021\n",
      "  699975.76355814 1571366.11605971 1505902.22710056 1405032.33735797\n",
      " 1896360.38261168  850728.11665055 2098674.66313671 1245730.937874\n",
      " 1923946.66613077 1459752.77278296 1477492.54661607  798720.66823747\n",
      " 1341537.96292817 1374996.94121715  776620.11197815  938815.41957372\n",
      " 1181663.24069117 1705225.051256   1309594.97316412 1627668.69920375\n",
      " 1097547.44686488  464822.912898   1668485.79610759 1022828.107712\n",
      " 1463881.21748639 1373369.69126782 1073549.84240953 1528671.24375348\n",
      " 1919082.26278647 1306447.2993211  1051696.27225043 1086331.25872559\n",
      " 1109983.03351093 1415314.96164733 1719514.92226184 1517830.53755644\n",
      " 1515266.36099229 1118501.52488572 1382558.65114058 1595175.87465357\n",
      " 1121400.34682862 1192177.4979646  1125404.39675403  972206.22330498\n",
      "  532449.00767057  824282.33497222  958117.45813712 1152124.21310074\n",
      " 1443159.24744296 1044389.33814831 1042574.81673501 1059863.21069117\n",
      " 1024633.74670554 1011798.16149337 1173665.57166668  614469.40546307\n",
      " 1140476.99103474 1074448.11172498 1073402.36837779  952823.35285677\n",
      " 1720571.9919624  1842743.28425225 1034525.15134005  902507.1950019\n",
      " 1124142.0853341  1083077.75055287 1311550.10973344 1417700.77521042\n",
      "  975164.03736237 1582955.66571778 1106518.32213153 1627019.73871232\n",
      "  858020.28589071  934376.61063801 1732583.46713133  901825.59153486\n",
      "  997451.79284574 1030564.10376841 1248034.73954938  426601.04923183\n",
      " 1364023.80769545 1548067.82353749 1512060.11892525 1050404.78840032\n",
      " 1472602.16320074 1672777.88528825  780289.88164072 1526769.65643454\n",
      " 1525420.84088661 1532066.40089947  830510.81460009 1966781.74367355\n",
      " 1143981.78609009 1225305.72200975  663032.81853593 1376830.22804862\n",
      " 1826004.33228326 1392055.05655212 1163439.19793258  998776.90752459\n",
      " 1844317.85520368  878142.09984601 2007991.67099556  776328.14997471\n",
      " 1675958.68877399 1862758.79301022 1575281.49690612 1217073.75002617\n",
      "  870433.38876488 1296884.24991661 1133423.22853369 1344004.96082779\n",
      " 1742880.53093374  932654.88572305 1538030.11081387 1495221.38656624\n",
      "  307682.96963426 1840777.67555229 1144883.05677685  713358.29842676\n",
      " 1927934.46510388  944094.83192957 1201308.02950157  954614.40978796\n",
      " 1590003.93468881 1044697.94464093 1815369.48754589 1717214.71417961\n",
      "  531635.74342394  879234.60803862  664024.45845241 1474872.34883801\n",
      " 1499697.26043058 1177590.65819082 1558819.45218118 1072824.46005367\n",
      " 1101923.31582704 1083204.65809991 1056829.53783332 1759843.71543672\n",
      " 1743190.96256642  698518.15426001  883028.48926251  540039.57741277\n",
      " 1232529.88470997  952505.62415963  811635.33025565 1155533.68926731\n",
      " 2091979.10837612 1057588.16198053  682585.51294726 1300766.62874534\n",
      " 1284751.94688177 1050294.72908342 1784281.78597192  827219.57420855\n",
      " 1433953.92540158 1272618.02915677  526702.29082941 1438855.82137104\n",
      " 1230264.08282551 1450213.62118978 1130574.7084957   941649.70738096\n",
      " 1438158.32006557 1180372.56557771 1231067.73545765 1528132.24744689\n",
      " 1521667.26537982  776997.52208926 1224137.77919583  917499.21960929\n",
      " 1349071.21469222 1459208.92039668 1230831.5440986  1465802.61607195\n",
      " 1405830.65066745  549343.78064562 1491754.42114421 1647016.31670406\n",
      " 1294352.63482608 1347429.82458343  762841.15175677 1151857.96496598\n",
      " 1191126.95311012 1960906.71500533 1032477.86922855 1695523.41439198\n",
      "  905789.98823469 1796761.04962938 1304251.40112555 1313875.44515979\n",
      "  917414.36979779 1402840.50754542  664963.46909653 1295806.29085543\n",
      " 1276640.81279113 1427831.78553254 1163479.78060278  970737.86808829\n",
      " 1638837.75201685 1033457.80844334 1228731.34030667 1284591.57462294\n",
      " 1024459.83506718 1236202.29326989 1642536.00413508 1299175.79987016\n",
      "  619532.95638727 1225709.49534349  982143.66231979 1773808.32523718\n",
      "  671159.17019953  907747.85622111 1326731.01788604 1195476.77413486\n",
      "  709384.6126573  1613967.89714753 1348375.14416227 1364571.69701281\n",
      "  890188.75416334 1061107.65257151 1256636.32391917 1210238.84724903\n",
      " 1164891.05225817 1637228.66569153 1362188.48108819 1698913.7525915\n",
      " 1551022.76969349 1502815.37423785 1516636.85255134 1600201.94626273\n",
      "  740151.19335228 1596786.07550495 1041211.47118324 1273553.35618012\n",
      "  652338.27964481 1263079.50394857  566084.54958799 1757287.55274529\n",
      " 1756378.72431096  843828.23463343 1973008.49209457 1407054.60709466\n",
      "  886990.74921932 1223614.87833015 1795987.03612849 1185000.94535141\n",
      " 1443608.89838406 1554844.59769779 1186099.79526752 1781093.1937112\n",
      " 1505651.08460171  935724.87161475 1031159.93994047 1373574.64145854\n",
      " 1750340.86182699 1602904.38717988  842991.85033271  392243.98803571\n",
      " 1553617.14686226 1496383.53167603  690077.34383859 1473885.25537963\n",
      " 1484261.75552994 1280691.71954603 1760508.48234302 1343469.05243082\n",
      " 1502705.7422781  1512245.42086784 1336114.18042559 1193155.45403045\n",
      " 1296208.15351649 1460991.5488457   802078.98551988 1500438.99851835\n",
      " 1552957.47677039 1279508.92444162 1599478.56006981 1518540.83902362\n",
      " 1477364.07083178 1743560.84117917 1104107.88967091 1600552.16706938\n",
      " 1567395.78676393 1216242.87562977 1324993.05987998 1172166.12616349\n",
      " 1050376.40001704 1409099.18402258  941933.44609854 1431259.86200582\n",
      " 1332042.74230965 1425401.33215824 1494130.48062039 1010806.78029942\n",
      " 1134536.17525974  985147.33089484 1833234.33310933 1356849.8533832\n",
      "  828853.76943205 1429732.2743276  1665043.34842069 1191326.24899648\n",
      "  722807.6854257   460051.08168156 1796296.04537891 1343643.49783694\n",
      " 1646729.19972645  918192.51355575  799932.27320856 1048233.43851898\n",
      " 1266180.59821865  419230.38008912 1885940.75911702  851799.5588573\n",
      " 1225428.39014292  897680.18001919  950462.62933423 1470859.80814419\n",
      " 1461191.049443   1004066.90611657 1391887.62444429  911706.74855348\n",
      " 1184959.41924427 1647719.32644509 1625512.10120163 1144042.70914021\n",
      " 1261049.40451494 1274791.74167049 1418752.01034448 1284658.60361415\n",
      " 1288525.58320496 1345049.65901876 1297717.72985382 1407417.46164295\n",
      " 1220724.38905143  630120.95111299 1341325.65628208 1807227.90908013\n",
      " 1143307.13691656  909974.81563461 1083093.77988762 1507212.88878409\n",
      " 1521912.97621639 1063713.29660106  570864.40296353 1369592.67146203\n",
      " 1197998.57900753 1917140.48544081 1174105.60646156 1271032.48969984\n",
      " 1482056.70965575 1551702.15957206 1285591.37226075 1114882.89216738\n",
      " 1006670.13988628 1331319.39509275 1123954.82168414 1337325.52758457\n",
      " 1183777.62288682 1155169.28446489 1586338.23536684 1378184.54607818\n",
      " 1169079.62095905 1355346.61966282 1301405.33923213 1407300.49330525\n",
      "  688780.24376624 1209226.41073872 1361960.01142842  831167.01909394\n",
      "  822699.49615508 1544296.18427965  918761.6766862  1357987.42221009\n",
      "  649235.01781141 1371146.4424851   985591.10107079 1520386.28988714\n",
      "  947769.16973389 1096564.15147795 1412709.64470315 1492576.74471259\n",
      " 1221733.13770593 1204372.4110372  1288755.4268898   942129.46876626\n",
      " 1196407.36438182 1451124.92558574 1529890.92012732 1718440.25374363\n",
      " 1585872.34213103 1488243.94891653 1429225.40025392  850388.87839071\n",
      " 1125889.66348471 1247501.35729706  692579.30210517 1095083.41553669\n",
      " 1124859.95233097 1122478.41541495 1313777.33611531 1385678.00744713\n",
      " 1627726.38960125  620376.91221208  793338.28673893  854770.92416232\n",
      " 1586063.72687048 1350079.29545729  488303.31825089  608889.13971126\n",
      " 1317266.90094971  890422.71302939 1713039.07387372 1409068.90647387\n",
      "  710662.38704509 1348957.48273874 1645571.38677669 1083801.21444941\n",
      " 1488964.61604489  972166.11803759 1666446.85310958  805073.8957218\n",
      " 1386700.07172666 1013924.76489663 1824821.63746525  918921.74854847\n",
      "  837027.63048171 1371859.08193112 1445084.4748698  1045074.69350254\n",
      " 1398202.39224114  663085.97249795 1732885.76402031 1269378.65809803\n",
      "  872081.65322077 1109486.80392824  618152.32046952 1632242.48249242\n",
      "  914470.32574708 1030566.98336041 1137367.48511717 1094214.05486032\n",
      "  977091.7836588  1201273.85910241 1470267.9657143  1392439.62675186\n",
      " 1342886.77409531 1227340.03189851 1037341.02838164  915409.15796983\n",
      " 1837577.36449234  924746.0068176  1376004.4044944  1481341.16558059\n",
      " 1285824.64926908  929804.80599606 1180625.05967567 1406495.54408535\n",
      " 1236540.67063582 1290024.14985516 1143932.31189417 1306824.80620084\n",
      " 1380655.14061085 1479076.76482544  853912.7207307  1543677.53379235\n",
      " 1049805.3297245   498356.84042583 1468430.21091252 1679104.19951772\n",
      "  960843.24573008 1268905.97725695 1140752.7695236  1241260.82612047\n",
      " 1486588.84241652 2126683.34020302 1685168.09056562  799143.84583252\n",
      " 1293122.85661029 1892340.88478288  987343.87600789 1301873.02869609\n",
      " 1353903.80440248 1138092.36374006  936327.52143485 1239387.81840205\n",
      "  853829.00667932 1492757.00039315 1044115.13713006 1156835.70593431\n",
      " 1879262.69325509  781684.81581696  987546.31889415  709303.58936142\n",
      " 1700953.56193126 1754380.47560181 1147246.17286665  852884.88037272\n",
      " 1154858.39895822 1389028.18242685 1459219.29946385 1269821.29078348\n",
      " 1501059.60488857 1121056.42184826 1136777.17188995 1212323.88925698\n",
      "  767063.26697509  557449.86889258  951219.00007414 1874795.11520832\n",
      "  913539.93890207 1743611.83557639 1174968.93512402 1311542.22936497\n",
      " 1510360.67995358 1700587.07297867  973183.68709409  720408.19988214\n",
      " 1196510.78923782 1571837.02690157 1704961.32193926 1605036.34798948\n",
      " 1527695.15752696 1466766.46787869  919592.40155202  768042.87790326\n",
      " 1101317.79036762 1430060.76554022  912860.40392253 1326301.7794324\n",
      " 1462743.67090748  524061.3748461  1501196.93279326 1193951.7251117\n",
      " 1822413.39516701 1722241.82799594  886417.82319116 1555300.19462818\n",
      " 1133221.02671552 1826635.91599287 1035101.72339611 1818881.34871397\n",
      " 1247285.53248428  767750.69745374 1651078.13444673 1605175.74034682\n",
      "  982290.88230751 1395995.29373954 1618066.99320036  543129.48356844\n",
      " 1127266.90349638 1051014.77645486 1362733.81965445 1063835.23623312\n",
      " 1252145.48142174 1415441.41629559 1133041.70921688 1520315.23328538\n",
      " 1026138.86458357 1631133.86255502  965924.45957964 1349968.47658622\n",
      " 1005612.77818355 1268627.77242531 1436520.803421    642632.51576809\n",
      " 1235867.8619432   683359.00968053 1075528.28292505 1087330.14189365\n",
      " 1255771.49489322 1075153.34095478 1425254.042602   1778037.8429153\n",
      " 1169537.30238973 1039427.34155202  612936.59367129 1212998.84466692\n",
      " 1501263.53151443  778419.94863229 1393872.49206997 1544549.91671941\n",
      " 1050130.05870537 1364547.24231928 1435067.37478235  594791.01046595\n",
      " 2085028.38736125 1293122.94970322 1355025.79990373 1165043.06663536\n",
      " 1141132.80411646 1379151.57572696 1233399.03201855 1343698.07946251\n",
      " 1143818.22737816 1227985.50962521  738800.7177945  1053312.27080116\n",
      " 1905361.8087604   989673.3401261  2210044.24882655 1983047.16383708\n",
      " 1828306.35898995 1558367.23574619 1095967.75624293 1302139.72845997\n",
      " 1050039.80932909 1105410.40892647 1511860.02583833 1063401.49757584\n",
      " 1650320.7047469  1253821.21005045 1115460.09316326 1002823.07123975\n",
      " 1310022.15135418  852234.07341891 1564959.89743891 1235263.56985879\n",
      " 1470458.28562074 1408951.28693331 1299984.85514858 1398384.05948581\n",
      "  788478.15591494 1239080.27122098 1803557.24082492  876094.09129542\n",
      " 1066321.91390415  757241.42293537 1288667.1005304  1961897.55795845\n",
      " 1021252.30003941 1620648.06669991 1278703.51172756 1052998.98493735\n",
      " 1178974.8637508  1581481.63947492 1417883.55448171 1110065.76275307\n",
      " 1753160.43193466 1233970.63127275 1105302.73321247 1098433.58570794\n",
      " 1329439.73530893 1063562.12342525  722106.45202279 1724476.2629916\n",
      "  705097.1646026  1364841.07116041  973869.90732772 1399815.89293478\n",
      " 1277566.61011153 2294562.24645494  984317.16626458  991057.21440876\n",
      " 1044887.37507382 1210335.8817094  1374937.65807572 1127343.21370303\n",
      "  218278.39528968 1568965.29495019 1092186.09287969 1491537.11269837\n",
      " 1302442.68271762 1669130.65879424  919527.77643095  873196.81553824\n",
      " 1146982.94993663 1078887.8238403  1432200.55316195 1041356.07251328\n",
      " 1426898.88391987  862716.57359967  857283.7215597   756283.85247034\n",
      " 1395613.99263382 1337262.2500726   644459.53875993 1244153.84749397\n",
      "  840194.2411113  1486242.07430321  701057.519615    576157.06430869\n",
      " 1448317.19249532 1661959.56123527 1095431.37293404 1440271.75755702\n",
      "  755354.56167562 1097494.89619948 1376273.75780081 1116910.32015891\n",
      " 1377637.39827201  773656.33641774 1490557.02479534  839124.36806477\n",
      " 1142524.54838556  498613.22649864 1235227.73923946 1156382.32736452]\n"
     ]
    }
   ],
   "source": [
    "y_hat=lm.predict(X_test)\n",
    "print (y_hat)"
   ]
  },
  {
   "cell_type": "code",
   "execution_count": 25,
   "metadata": {
    "_cell_guid": "5b39c8b9-242f-4fb7-aacf-db6e6b089383",
    "_uuid": "7c18eb3337b7d3b783ea0d24852197bbc74321f2"
   },
   "outputs": [],
   "source": [
    "df_test_preds=X_test.copy()\n",
    "df_test_preds[\"preds\"]=y_hat"
   ]
  },
  {
   "cell_type": "code",
   "execution_count": 26,
   "metadata": {},
   "outputs": [
    {
     "data": {
      "text/plain": [
       "<AxesSubplot:>"
      ]
     },
     "execution_count": 26,
     "metadata": {},
     "output_type": "execute_result"
    },
    {
     "data": {
      "image/png": "[encoded data removed]",
      "text/plain": [
       "<Figure size 640x480 with 1 Axes>"
      ]
     },
     "metadata": {},
     "output_type": "display_data"
    }
   ],
   "source": [
    "df_test_preds[\"preds\"].hist()"
   ]
  },
  {
   "cell_type": "markdown",
   "metadata": {
    "_cell_guid": "2068ce9e-711f-4d7f-a4d8-7c9ad15227da",
    "_uuid": "c1aebaee6b43d1a52f95cef159636bed5af0d761"
   },
   "source": [
    "**Interpreting the coefficients:**\n",
    "\n",
    "- Holding all other features fixed, a 1 unit increase in **Avg. Area Income** is associated with an **increase of \\$21.62**.\n",
    "- Holding all other features fixed, a 1 unit increase in **Avg. Area House Age** is associated with an **increase of \\$165590.39**.\n",
    "- Holding all other features fixed, a 1 unit increase in **Avg. Area Number of Rooms** is associated with an **increase of \\$119827.78**.\n",
    "- Holding all other features fixed, a 1 unit increase in **Avg. Area Number of Bedrooms** is associated with an **increase of \\$2361.09**.\n",
    "- Holding all other features fixed, a 1 unit increase in **Area Population** is associated with an **increase of \\$15.21**.\n"
   ]
  },
  {
   "cell_type": "code",
   "execution_count": 29,
   "metadata": {},
   "outputs": [
    {
     "name": "stdout",
     "output_type": "stream",
     "text": [
      "                            OLS Regression Results                            \n",
      "==============================================================================\n",
      "Dep. Variable:                  Price   R-squared:                       0.919\n",
      "Model:                            OLS   Adj. R-squared:                  0.919\n",
      "Method:                 Least Squares   F-statistic:                     9044.\n",
      "Date:                Mon, 21 Nov 2022   Prob (F-statistic):               0.00\n",
      "Time:                        12:47:39   Log-Likelihood:                -51755.\n",
      "No. Observations:                4000   AIC:                         1.035e+05\n",
      "Df Residuals:                    3994   BIC:                         1.036e+05\n",
      "Df Model:                           5                                         \n",
      "Covariance Type:            nonrobust                                         \n",
      "================================================================================================\n",
      "                                   coef    std err          t      P>|t|      [0.025      0.975]\n",
      "------------------------------------------------------------------------------------------------\n",
      "const                        -2.647e+06   1.91e+04   -138.228      0.000   -2.68e+06   -2.61e+06\n",
      "Avg. Area Income                21.6604      0.149    144.946      0.000      21.367      21.953\n",
      "Avg. Area House Age           1.658e+05   1598.673    103.717      0.000    1.63e+05    1.69e+05\n",
      "Avg. Area Number of Rooms     1.203e+05   1779.180     67.632      0.000    1.17e+05    1.24e+05\n",
      "Avg. Area Number of Bedrooms  2193.0956   1461.592      1.500      0.134    -672.440    5058.631\n",
      "Area Population                 15.2859      0.161     94.837      0.000      14.970      15.602\n",
      "==============================================================================\n",
      "Omnibus:                        4.735   Durbin-Watson:                   2.016\n",
      "Prob(Omnibus):                  0.094   Jarque-Bera (JB):                4.353\n",
      "Skew:                          -0.034   Prob(JB):                        0.113\n",
      "Kurtosis:                       2.854   Cond. No.                     9.42e+05\n",
      "==============================================================================\n",
      "\n",
      "Notes:\n",
      "[1] Standard Errors assume that the covariance matrix of the errors is correctly specified.\n",
      "[2] The condition number is large, 9.42e+05. This might indicate that there are\n",
      "strong multicollinearity or other numerical problems.\n"
     ]
    }
   ],
   "source": [
    "import statsmodels.api as sm\n",
    "\n",
    "X2 = sm.add_constant(X_train)\n",
    "est = sm.OLS(y_train, X2)\n",
    "est2 = est.fit()\n",
    "print(est2.summary())"
   ]
  },
  {
   "cell_type": "markdown",
   "metadata": {
    "_cell_guid": "154749cb-5fc3-41f2-ba42-3b8d00c9383c",
    "_uuid": "311d8ce9f893ba490d63fec7e7ab72fe8197ee57"
   },
   "source": [
    "## **Predictions from our Model**\n",
    "\n",
    "Let's grab predictions off our test set and see how well it did!"
   ]
  },
  {
   "cell_type": "code",
   "execution_count": null,
   "metadata": {},
   "outputs": [],
   "source": [
    "X_test"
   ]
  },
  {
   "cell_type": "code",
   "execution_count": 30,
   "metadata": {},
   "outputs": [],
   "source": [
    "y_hat=lm.predict(X_test)"
   ]
  },
  {
   "cell_type": "code",
   "execution_count": null,
   "metadata": {
    "_cell_guid": "70353e22-4691-431f-b79e-def0e162ba69",
    "_uuid": "a8122dab1ca74f007caeec4a2f8bc874e90da602"
   },
   "outputs": [],
   "source": []
  },
  {
   "cell_type": "code",
   "execution_count": null,
   "metadata": {},
   "outputs": [],
   "source": []
  },
  {
   "cell_type": "markdown",
   "metadata": {
    "_cell_guid": "bcfa7a0f-b686-4354-a30c-d528e5d399bd",
    "_uuid": "823b56a976fd6bee5e91558dd79a75927b1ee9c9"
   },
   "source": [
    "## **Residual Histogram**\n",
    "\n",
    "**Ploting a histogram of the residuals and making sure it looks normally distributed.** If not, linear regression is nos appropiate for this analysis. Normally distribution of residuals is an assumption for Linear Regression."
   ]
  },
  {
   "cell_type": "code",
   "execution_count": 31,
   "metadata": {
    "_cell_guid": "fdf61a9d-604b-4d7d-8592-b4a2b23e3aab",
    "_uuid": "c20291641abe589d074fa8469a92efb87fdf9aca"
   },
   "outputs": [
    {
     "data": {
      "text/plain": [
       "<seaborn.axisgrid.FacetGrid at 0x1e16e944708>"
      ]
     },
     "execution_count": 31,
     "metadata": {},
     "output_type": "execute_result"
    },
    {
     "data": {
      "image/png": "[encoded data removed]",
      "text/plain": [
       "<Figure size 500x500 with 1 Axes>"
      ]
     },
     "metadata": {},
     "output_type": "display_data"
    }
   ],
   "source": [
    "res= y_test-y_hat\n",
    "sns.displot(res)\n",
    "plt.title(\"Distribución de los residuos en test\")"
   ]
  },
  {
   "cell_type": "code",
   "execution_count": 32,
   "metadata": {},
   "outputs": [
    {
     "data": {
      "text/plain": [
       "<seaborn.axisgrid.FacetGrid at 0x1e17065af48>"
      ]
     },
     "execution_count": 32,
     "metadata": {},
     "output_type": "execute_result"
    },
    {
     "data": {
      "image/png": "[encoded data removed]",
      "text/plain": [
       "<Figure size 500x500 with 1 Axes>"
      ]
     },
     "metadata": {},
     "output_type": "display_data"
    }
   ],
   "source": [
    "res2=y_train-lm.predict(X_train)\n",
    "sns.displot(res2)"
   ]
  },
  {
   "cell_type": "markdown",
   "metadata": {
    "_cell_guid": "4b1d4254-1bf6-40f2-b542-a83d7af37a7e",
    "_uuid": "7a90d53d89145b7e3234192dd1721221e27eef0f"
   },
   "source": [
    "**Calculating the Mean Absolute Error, Mean Squared Error, and the Root Mean Squared Error**\n",
    "\n",
    "- **MAE** is the easiest to understand, because it's the average error.\n",
    "- **MSE** is more popular than MAE, because MSE \"punishes\" larger errors, which tends to be useful in the real world.\n",
    "- **RMSE** is even more popular than MSE, because RMSE is interpretable in the \"y\" units.\n",
    "\n",
    "All of these are **loss functions**, because we want to minimize them."
   ]
  },
  {
   "cell_type": "code",
   "execution_count": 33,
   "metadata": {},
   "outputs": [],
   "source": [
    "y_hat_train=lm.predict(X_train)"
   ]
  },
  {
   "cell_type": "code",
   "execution_count": 37,
   "metadata": {
    "_cell_guid": "22c82573-8927-452e-81fd-d05a08ce8ab3",
    "_uuid": "437c31ff994f4306ea482af4cd4e7d3249e4d481"
   },
   "outputs": [
    {
     "name": "stdout",
     "output_type": "stream",
     "text": [
      "MAE Train:81040.87\n",
      "MAE Test:82657.95\n"
     ]
    }
   ],
   "source": [
    "def mae_hm(y_true,y_pred):\n",
    "    return np.mean(np.abs(y_true-y_pred))\n",
    "    \n",
    "print(f\"MAE Train:{mae_hm(y_train,y_hat_train):.2f}\")\n",
    "print(f\"MAE Test:{mae_hm(y_test,y_hat):.2f}\")"
   ]
  },
  {
   "cell_type": "code",
   "execution_count": 39,
   "metadata": {
    "_cell_guid": "a9ab78ac-5e05-46bb-8cf3-4bd527634824",
    "_uuid": "18fb337c53bab99260f860d682f191752adfb0b0",
    "tags": []
   },
   "outputs": [
    {
     "name": "stdout",
     "output_type": "stream",
     "text": [
      "MSE Train:10139634425.11\n",
      "MSE Test:10549721686.16\n"
     ]
    }
   ],
   "source": [
    "def mse_hm(y_true,y_pred):\n",
    "    return np.mean((y_true-y_pred)**2)\n",
    "\n",
    "print(f\"MSE Train:{mse_hm(y_train,y_hat_train):.2f}\")\n",
    "print(f\"MSE Test:{mse_hm(y_test,y_hat):.2f}\")"
   ]
  },
  {
   "cell_type": "code",
   "execution_count": 43,
   "metadata": {},
   "outputs": [
    {
     "name": "stdout",
     "output_type": "stream",
     "text": [
      "RMSE Train:100695.75\n",
      "RMSE Test:102711.84\n"
     ]
    }
   ],
   "source": [
    "def rmse_hm(y_true,y_pred):\n",
    "    return np.sqrt(np.mean((y_true-y_pred)**2))\n",
    "\n",
    "print(f\"RMSE Train:{rmse_hm(y_train,y_hat_train):.2f}\")\n",
    "print(f\"RMSE Test:{rmse_hm(y_test,y_hat):.2f}\")"
   ]
  },
  {
   "cell_type": "code",
   "execution_count": 44,
   "metadata": {},
   "outputs": [
    {
     "data": {
      "text/plain": [
       "91.8840114090963"
      ]
     },
     "execution_count": 44,
     "metadata": {},
     "output_type": "execute_result"
    }
   ],
   "source": [
    "# R^2\n",
    "lm.score(X_train, y_train) * 100 # Entrenamiento"
   ]
  },
  {
   "cell_type": "code",
   "execution_count": 45,
   "metadata": {},
   "outputs": [
    {
     "data": {
      "text/plain": [
       "91.46454505138068"
      ]
     },
     "execution_count": 45,
     "metadata": {},
     "output_type": "execute_result"
    }
   ],
   "source": [
    "lm.score(X_test, y_test) * 100  # Test"
   ]
  },
  {
   "cell_type": "code",
   "execution_count": 49,
   "metadata": {},
   "outputs": [
    {
     "name": "stdout",
     "output_type": "stream",
     "text": [
      "MSE Train:10139634425.11\n",
      "MAE Train:81040.87\n",
      "R^2 Train:0.92\n",
      "MSE Test:10549721686.16\n",
      "MAE Test:82657.95\n",
      "R^2 Test:0.91\n"
     ]
    }
   ],
   "source": [
    "from sklearn.metrics import mean_absolute_error,mean_squared_error,r2_score\n",
    "\n",
    "print(f\"MSE Train:{mean_squared_error(y_train,y_hat_train):.2f}\")\n",
    "print(f\"MAE Train:{mean_absolute_error(y_train,y_hat_train):.2f}\")\n",
    "print(f\"R^2 Train:{r2_score(y_train,y_hat_train):.2f}\")\n",
    "\n",
    "print(f\"MSE Test:{mean_squared_error(y_test,y_hat):.2f}\")\n",
    "print(f\"MAE Test:{mean_absolute_error(y_test,y_hat):.2f}\")\n",
    "print(f\"R^2 Test:{r2_score(y_test,y_hat):.2f}\")"
   ]
  },
  {
   "cell_type": "markdown",
   "metadata": {},
   "source": [
    "## Feature importance"
   ]
  },
  {
   "cell_type": "code",
   "execution_count": null,
   "metadata": {},
   "outputs": [],
   "source": []
  },
  {
   "cell_type": "markdown",
   "metadata": {},
   "source": [
    "y = w1.X1 + w2.X2 + w3.X3\n",
    "\n",
    "One extra room increases the price (Y) in 2300, and one extra dollar un area income increases price in 21. This is the meaning of the coefficents, bur **does it mean that the number of bedrooms is much important than the area income?**\n",
    "\n",
    "Absolutly no. You must standarize the coefficents for better understanding the importance of each one. Two options:\n",
    "1. Standarize features before training\n",
    "2. Multiply each feature coefficent by it's standard deviation value and divide by the target standard deviation."
   ]
  },
  {
   "cell_type": "code",
   "execution_count": null,
   "metadata": {},
   "outputs": [],
   "source": [
    "stdevs = []\n",
    "for i in X_train.columns:\n",
    "    stdev = USA_Housing[i].std()\n",
    "    stdevs.append(stdev)\n",
    "\n",
    "features[\"stdev\"] = np.array(stdevs).reshape(-1,1)\n",
    "features[\"importance\"] = features[\"coefficient\"] * features[\"stdev\"]\n",
    "features['importance_standarized'] = features['importance'] / y_train.std()\n",
    "features"
   ]
  },
  {
   "cell_type": "code",
   "execution_count": null,
   "metadata": {},
   "outputs": [],
   "source": [
    "import matplotlib.pyplot as plt\n",
    "features = features.sort_values('importance_standarized', ascending=True)\n",
    "plt.barh(features.index, features.importance_standarized);"
   ]
  },
  {
   "cell_type": "markdown",
   "metadata": {},
   "source": [
    "## Removing noise\n",
    "Let's try a new model without the `Avg. Area Number of Bedrooms`"
   ]
  },
  {
   "cell_type": "code",
   "execution_count": null,
   "metadata": {},
   "outputs": [],
   "source": [
    "X = USA_Housing[['Avg. Area Income', 'Avg. Area House Age',\n",
    "                 'Avg. Area Number of Rooms', 'Area Population']]\n",
    "\n",
    "y = USA_Housing['Price']\n",
    "\n",
    "\n",
    "from sklearn.model_selection import train_test_split\n",
    "X_train, X_test, y_train, y_test = train_test_split(X,\n",
    "                                                    y,\n",
    "                                                    test_size=0.3,\n",
    "                                                    random_state=42)\n",
    "\n",
    "lm = LinearRegression(n_jobs=-1) \n",
    "lm.fit(X_train, y_train)\n",
    "\n",
    "predictions = lm.predict(X_test)\n",
    "predictions\n",
    "\n",
    "# A little bit lower without Avg. Area Number of Bedrooms\n",
    "print('MAE:', metrics.mean_absolute_error(y_test, predictions))\n",
    "print('MSE:', metrics.mean_squared_error(y_test, predictions))\n",
    "print('RMSE:', np.sqrt(metrics.mean_squared_error(y_test, predictions)))"
   ]
  }
 ],
 "metadata": {
  "kernelspec": {
   "display_name": "Python 3 (ipykernel)",
   "language": "python",
   "name": "python3"
  },
  "language_info": {
   "codemirror_mode": {
    "name": "ipython",
    "version": 3
   },
   "file_extension": ".py",
   "mimetype": "text/x-python",
   "name": "python",
   "nbconvert_exporter": "python",
   "pygments_lexer": "ipython3",
   "version": "3.7.4"
  }
 },
 "nbformat": 4,
 "nbformat_minor": 4
}
