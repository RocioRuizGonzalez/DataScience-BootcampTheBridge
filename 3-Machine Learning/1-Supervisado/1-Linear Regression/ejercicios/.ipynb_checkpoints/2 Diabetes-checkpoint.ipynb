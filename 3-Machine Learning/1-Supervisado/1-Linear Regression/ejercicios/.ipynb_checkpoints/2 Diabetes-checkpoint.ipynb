{
 "cells": [
  {
   "cell_type": "markdown",
   "metadata": {
    "id": "W0OtVb5B1TQl"
   },
   "source": [
    "# Linear regression in diabetes dataset\n",
    "\n",
    "Let's explore the datasets that are included in this Python library. These datasets have been cleaned and formatted for use in ML algorithms."
   ]
  },
  {
   "cell_type": "markdown",
   "metadata": {
    "id": "fWmsqmLW1TQm"
   },
   "source": [
    "First, we will load the diabetes dataset. Do this in the cell below by importing the datasets and then loading the dataset  to the `diabetes` variable using the `load_diabetes()` function ([documentation](https://scikit-learn.org/stable/modules/generated/sklearn.datasets.load_diabetes.html))."
   ]
  },
  {
   "cell_type": "code",
   "execution_count": 10,
   "metadata": {},
   "outputs": [],
   "source": [
    "import numpy as np\n",
    "import pandas as pd\n",
    "from sklearn.linear_model import LinearRegression\n",
    "from sklearn.preprocessing import StandardScaler\n",
    "import matplotlib as plt\n",
    "import seaborn as sns"
   ]
  },
  {
   "cell_type": "code",
   "execution_count": 11,
   "metadata": {
    "id": "AfEHsQb51TQn"
   },
   "outputs": [],
   "source": [
    "from sklearn.datasets import load_diabetes\n",
    "diabetes = load_diabetes()"
   ]
  },
  {
   "cell_type": "markdown",
   "metadata": {
    "id": "3ZcJUMYR1TQq"
   },
   "source": [
    "Let's explore this variable by looking at the different attributes (keys) of `diabetes`. Note that the `load_diabetes` function does not return dataframes. It returns you a Python dictionary."
   ]
  },
  {
   "cell_type": "code",
   "execution_count": 12,
   "metadata": {
    "id": "fBHVqmj21TQq"
   },
   "outputs": [
    {
     "name": "stdout",
     "output_type": "stream",
     "text": [
      "dict_keys(['data', 'target', 'frame', 'DESCR', 'feature_names', 'data_filename', 'target_filename', 'data_module'])\n"
     ]
    }
   ],
   "source": [
    "print(diabetes.keys())"
   ]
  },
  {
   "cell_type": "markdown",
   "metadata": {
    "id": "8VoqURQ91TQs"
   },
   "source": [
    "#### The next step is to read the description of the dataset. \n",
    "\n",
    "Print the description in the cell below using the `DESCR` attribute of the `diabetes` variable. Read the data description carefully to fully understand what each column represents.\n",
    "\n",
    "*Hint: If your output is ill-formatted by displaying linebreaks as `\\n`, it means you are not using the `print` function.*"
   ]
  },
  {
   "cell_type": "code",
   "execution_count": 13,
   "metadata": {
    "id": "d1g9Qp_d1TQt"
   },
   "outputs": [
    {
     "name": "stdout",
     "output_type": "stream",
     "text": [
      ".. _diabetes_dataset:\n",
      "\n",
      "Diabetes dataset\n",
      "----------------\n",
      "\n",
      "Ten baseline variables, age, sex, body mass index, average blood\n",
      "pressure, and six blood serum measurements were obtained for each of n =\n",
      "442 diabetes patients, as well as the response of interest, a\n",
      "quantitative measure of disease progression one year after baseline.\n",
      "\n",
      "**Data Set Characteristics:**\n",
      "\n",
      "  :Number of Instances: 442\n",
      "\n",
      "  :Number of Attributes: First 10 columns are numeric predictive values\n",
      "\n",
      "  :Target: Column 11 is a quantitative measure of disease progression one year after baseline\n",
      "\n",
      "  :Attribute Information:\n",
      "      - age     age in years\n",
      "      - sex\n",
      "      - bmi     body mass index\n",
      "      - bp      average blood pressure\n",
      "      - s1      tc, total serum cholesterol\n",
      "      - s2      ldl, low-density lipoproteins\n",
      "      - s3      hdl, high-density lipoproteins\n",
      "      - s4      tch, total cholesterol / HDL\n",
      "      - s5      ltg, possibly log of serum triglycerides level\n",
      "      - s6      glu, blood sugar level\n",
      "\n",
      "Note: Each of these 10 feature variables have been mean centered and scaled by the standard deviation times `n_samples` (i.e. the sum of squares of each column totals 1).\n",
      "\n",
      "Source URL:\n",
      "https://www4.stat.ncsu.edu/~boos/var.select/diabetes.html\n",
      "\n",
      "For more information see:\n",
      "Bradley Efron, Trevor Hastie, Iain Johnstone and Robert Tibshirani (2004) \"Least Angle Regression,\" Annals of Statistics (with discussion), 407-499.\n",
      "(https://web.stanford.edu/~hastie/Papers/LARS/LeastAngle_2002.pdf)\n"
     ]
    }
   ],
   "source": [
    "print(diabetes[\"DESCR\"])"
   ]
  },
  {
   "cell_type": "markdown",
   "metadata": {
    "id": "O6k5D9QE1TQv"
   },
   "source": [
    "#### Based on the data description, answer the following questions:\n",
    "\n",
    "1. How many attributes are there in the data? What do they mean?\n",
    "\n",
    "1. What is the relation between `diabetes['data']` and `diabetes['target']`?\n",
    "\n",
    "1. How many records are there in the data?"
   ]
  },
  {
   "cell_type": "markdown",
   "metadata": {
    "id": "t_wDCcuA1TQv"
   },
   "source": [
    "1. How many attributes are there in the data? What do they mean?\n",
    "\n",
    "First 10 columns\n",
    "\n",
    "Attribute Information:\n",
    "      - age     age in years\n",
    "      - sex\n",
    "      - bmi     body mass index\n",
    "      - bp      average blood pressure\n",
    "      - s1      tc, total serum cholesterol\n",
    "      - s2      ldl, low-density lipoproteins\n",
    "      - s3      hdl, high-density lipoproteins\n",
    "      - s4      tch, total cholesterol / HDL\n",
    "      - s5      ltg, possibly log of serum triglycerides level\n",
    "      - s6      glu, blood sugar level\n"
   ]
  },
  {
   "cell_type": "markdown",
   "metadata": {},
   "source": [
    "1. What is the relation between `diabetes['data']` and `diabetes['target']`?"
   ]
  },
  {
   "cell_type": "markdown",
   "metadata": {},
   "source": [
    "diabetes[\"data\"] son nuestras X y `diabetes['target']` nuestra Y"
   ]
  },
  {
   "cell_type": "markdown",
   "metadata": {},
   "source": [
    "1. How many records are there in the data?"
   ]
  },
  {
   "cell_type": "markdown",
   "metadata": {},
   "source": [
    "Hay 10 features"
   ]
  },
  {
   "cell_type": "markdown",
   "metadata": {
    "id": "_fnxxzud1TQy"
   },
   "source": [
    "#### Now explore what are contained in the *data* portion as well as the *target* portion of `diabetes`. \n",
    "\n",
    "Scikit-learn typically takes in 2D numpy arrays as input (though pandas dataframes are also accepted). Inspect the shape of `data` and `target`. Confirm they are consistent with the data description."
   ]
  },
  {
   "cell_type": "code",
   "execution_count": 14,
   "metadata": {
    "id": "G9tNK6PN1TQy"
   },
   "outputs": [
    {
     "name": "stdout",
     "output_type": "stream",
     "text": [
      "(442, 10)\n"
     ]
    }
   ],
   "source": [
    "print(diabetes[\"data\"].shape)"
   ]
  },
  {
   "cell_type": "code",
   "execution_count": 15,
   "metadata": {},
   "outputs": [
    {
     "name": "stdout",
     "output_type": "stream",
     "text": [
      "(442,)\n"
     ]
    }
   ],
   "source": [
    "print(diabetes[\"target\"].shape)"
   ]
  },
  {
   "cell_type": "markdown",
   "metadata": {
    "id": "HKrj3jpE1TQ0"
   },
   "source": [
    "## Buliding a regression model"
   ]
  },
  {
   "cell_type": "markdown",
   "metadata": {
    "id": "lCMo9-2n1TQ1"
   },
   "source": [
    "The data have already been split to predictor (*data*) and response (*target*) variables. Given this information, we'll apply what we have previously learned about linear regression and apply the algorithm to the diabetes dataset.\n",
    "\n",
    "#### In the cell below, import the `linear_model` class from `sklearn`. "
   ]
  },
  {
   "cell_type": "code",
   "execution_count": 16,
   "metadata": {
    "id": "bpw0BAL61TQ1"
   },
   "outputs": [],
   "source": [
    "from sklearn.linear_model import LinearRegression"
   ]
  },
  {
   "cell_type": "markdown",
   "metadata": {
    "id": "ELTuxR4-1TQ3"
   },
   "source": [
    "#### Create a new instance of the linear regression model and assign the new instance to the variable `diabetes_model`."
   ]
  },
  {
   "cell_type": "code",
   "execution_count": 17,
   "metadata": {
    "id": "FiKLuOV31TQ4"
   },
   "outputs": [
    {
     "name": "stdout",
     "output_type": "stream",
     "text": [
      "LinearRegression()\n",
      "<class 'sklearn.linear_model._base.LinearRegression'>\n"
     ]
    }
   ],
   "source": [
    "diabetes_model=LinearRegression()\n",
    "print(diabetes_model)\n",
    "print(type(diabetes_model))"
   ]
  },
  {
   "cell_type": "markdown",
   "metadata": {
    "id": "pMegGI9b1TQ6"
   },
   "source": [
    "#### Next, let's split the training and test data.\n",
    "\n",
    "Define `diabetes_data_train`, `diabetes_target_train`, `diabetes_data_test`, and `diabetes_target_test`. Use the last 20 records for the test data and the rest for the training data."
   ]
  },
  {
   "cell_type": "code",
   "execution_count": 23,
   "metadata": {
    "id": "f5bYajfX1TQ6"
   },
   "outputs": [],
   "source": [
    "from sklearn.model_selection import train_test_split\n",
    "\n",
    "diabetes_data=diabetes[\"data\"]\n",
    "\n",
    "diabetes_target=diabetes[\"target\"]\n",
    "\n",
    "diabetes_data_train, diabetes_data_test = diabetes_data[:19], diabetes_data[20:]\n",
    "diabetes_target_train, diabetes_target_test = diabetes_target[:19], diabetes_target[20:]\n",
    "\n"
   ]
  },
  {
   "cell_type": "markdown",
   "metadata": {
    "id": "4D-zl19K1TQ8"
   },
   "source": [
    "Fit the training data and target to `diabetes_model`. Print the *intercept* and *coefficients* of the model."
   ]
  },
  {
   "cell_type": "code",
   "execution_count": 24,
   "metadata": {
    "id": "oqeWpyWb1TQ8"
   },
   "outputs": [
    {
     "data": {
      "text/plain": [
       "LinearRegression()"
      ]
     },
     "execution_count": 24,
     "metadata": {},
     "output_type": "execute_result"
    }
   ],
   "source": [
    "diabetes_model.fit(diabetes_data_train,diabetes_target_train)"
   ]
  },
  {
   "cell_type": "code",
   "execution_count": 28,
   "metadata": {},
   "outputs": [
    {
     "name": "stdout",
     "output_type": "stream",
     "text": [
      "151.2267168104745\n"
     ]
    }
   ],
   "source": [
    "print(diabetes_model.intercept_)"
   ]
  },
  {
   "cell_type": "code",
   "execution_count": 25,
   "metadata": {},
   "outputs": [
    {
     "name": "stdout",
     "output_type": "stream",
     "text": [
      "[  152.81658759   -71.07868677  -487.49457313  -607.29775123\n",
      "  6490.24924094 -5053.04725511 -3070.5919824   -942.70905154\n",
      "  -280.86303356  -391.58984185]\n"
     ]
    }
   ],
   "source": [
    "print(diabetes_model.coef_)"
   ]
  },
  {
   "cell_type": "markdown",
   "metadata": {
    "id": "7_Sll_FC1TQ-"
   },
   "source": [
    "#### Inspecting the results\n",
    "\n",
    "From the outputs you should have seen:\n",
    "\n",
    "- The intercept is a float number.\n",
    "- The coefficients are an array containing 10 float numbers.\n",
    "\n",
    "This is the linear regression model fitted to your training dataset.\n",
    "\n",
    "#### Using your fitted linear regression model, predict the *y* of `diabetes_data_test`."
   ]
  },
  {
   "cell_type": "code",
   "execution_count": 30,
   "metadata": {
    "id": "Mwi2oxgg1TQ_"
   },
   "outputs": [
    {
     "name": "stdout",
     "output_type": "stream",
     "text": [
      "[155.89779195  52.38375236  79.97211932 541.09499211  90.0982538\n",
      " 199.11164696 100.571712    77.89385827 227.17057643 202.95992713\n",
      "  88.18535039 167.55910287  -8.78323147  64.21403132 148.70738922\n",
      " 168.67592367 226.27907537 179.18129366 211.4339227  209.58955168\n",
      " 129.2266258  129.48861783 128.56474393  86.74677427 150.2429074\n",
      " 127.19068157 167.81376955 194.11509577  93.81300794 176.65657673\n",
      " 105.03189921 109.30401928 117.43991551  30.41304621  57.89714933\n",
      "  53.32576316 196.38976955 110.74286568  78.43858147 227.45921245\n",
      "  76.6600136  183.87385274  55.84685679 199.2447994  132.30504162\n",
      " 157.26718589 127.40344699 138.97086114 135.34382656  87.63791864\n",
      "  62.62838353  91.12816196 402.5680501  133.85679743  85.49068748\n",
      " 164.89269319  18.59031784 101.78468657 294.23168632  83.95083127\n",
      " 163.02535886 140.27266398  92.01557944 144.60105202 177.86406572\n",
      "  96.25972864 107.27223981 228.79749803  85.19735228  93.15981857\n",
      "  71.65744654 232.03364623  63.72742918 179.82283554  93.17838482\n",
      " 208.62057951 226.62669702  84.85547516 168.77646564 194.96321854\n",
      " 229.12542896  42.8800006  116.88292242 132.17524764  54.21282581\n",
      " 134.69974697 145.09524512  88.82614262 158.87747447  60.13256308\n",
      "  37.39113178 126.11462377  99.11097714 163.63399613 340.49814106\n",
      " 332.37353899  83.95965186 256.97410237 138.63664542 186.52537133\n",
      "  65.24421907 154.02123183 134.63347397  99.70699206  85.75468148\n",
      " 345.80401112  96.94067936 174.80637641 162.36452948 150.85185084\n",
      "  19.99257153 176.6440296  140.60980565  86.57463528  88.42448261\n",
      " 202.98286776 114.21177373  77.91512711  47.69827679 195.63292182\n",
      "  69.11501851 147.64267236 232.28980796  78.6719947  122.78763488\n",
      "  21.57921    126.68189685 131.82860469  91.85817616 282.20036326\n",
      "  67.78585042 110.19194637  82.49611089  77.54808696 159.04125086\n",
      " 146.80195923 114.94045743 172.52642294 193.43837677 171.65777448\n",
      " 194.16967183 232.83052389 101.3852349   -9.56731047 132.98837068\n",
      "  94.23104868 118.67723652 252.68595497 208.83655824 633.09959984\n",
      "  57.00417158 167.88483286 250.20889175 145.5904144  175.09309463\n",
      " 144.6639063   93.58951667 302.89773767 103.76528153 190.93822092\n",
      " 123.53083229 186.41906001 139.54166079 120.87848436 207.53100655\n",
      " 295.91410397 205.44440285  97.27025477 118.8232287  133.18680024\n",
      " 160.47851185 196.57889166 147.4094364  256.9584196  130.86442801\n",
      " 132.03878935 115.14744142 105.20558072  72.66856587 395.77328327\n",
      " 124.81113448  81.08949802 394.76860402 108.79314027  81.91421034\n",
      " 239.48012817 135.10538293 193.74351336  25.99785483  85.58239214\n",
      " 109.56755628 109.14136875 116.15211361 157.19664689  80.20543112\n",
      "  67.52426978 118.24704148 132.96117009 199.06713977 142.06727727\n",
      "  84.05381371 194.79920625 116.61406136 143.24165437 185.93848476\n",
      " 227.61682649 110.65676133  42.9140573  140.97511769 110.98085772\n",
      " 241.53216839 147.5906409  174.60719054 108.77960757 226.39845629\n",
      "  78.66796699 197.2067237  153.52152833  99.37309886 273.90858017\n",
      " 109.66624665  80.29109969  76.66834088  93.96123571  29.68628222\n",
      " 123.44518353 321.00312235 175.55052856 211.94924288 252.91808103\n",
      " 266.46029931 220.79555121 150.92050423 182.39132945 434.95129212\n",
      " 151.13887137 108.13825293 126.2576657   97.91055449  79.39340307\n",
      "  46.10508206   4.33706679  63.41768713 113.16732307  96.23639947\n",
      " 157.12258546  13.26794095 240.24825154  66.43248367 117.39746277\n",
      "  60.69197096  78.1924543  172.6369801  455.55529806 152.2615315\n",
      " 116.76898129 253.53705003  88.01442259 203.83402081 129.13890762\n",
      " 123.41490482 218.78105872 144.08930546 103.80491356 158.64077395\n",
      " 272.54028999  91.52173943 254.51693996  67.07136183 274.33505482\n",
      " 135.51704116 286.74564481  69.95781378  21.36550613 107.47858996\n",
      " 168.2328109  143.63786408 133.37427366 139.53289232 100.47997564\n",
      " 200.80026626  54.39691104 158.40314732 282.9407159  117.64461746\n",
      " 208.43526206  84.57607692 166.69954786 110.24992755 168.28057889\n",
      "  49.10699344 189.63721093 106.39262298 196.59200019 109.8507628\n",
      " 167.11899897 288.15875572 157.42735666 128.00679358  96.28779333\n",
      " 185.5682987  316.9243847  489.54253238 552.86274445 268.53047924\n",
      " 364.54241188 197.15461244  71.43941707 108.06969938 107.51439784\n",
      "  37.35328191 110.66542603 161.78520694 162.50263089  97.80739019\n",
      " 107.80587339 286.48099538  92.41714075 175.79184014 276.58630061\n",
      "  34.08924323  54.62737144  73.14693654   3.92229381 182.88775605\n",
      " 164.65702105 280.5782309  194.74833264  94.338394   129.54513335\n",
      " 154.92019353  88.3570539  100.92512952 695.42271187 293.13791181\n",
      "  49.02278743 135.42070278 212.49398036 111.42163027 102.55746791\n",
      " 112.83143875  35.06780136  20.73429074 154.35794615 120.90076622\n",
      " 196.14072185 216.24709184  89.69657578 315.77152816 124.96691121\n",
      " 129.4596997  540.13148825 120.59621411  68.49602262 183.71434824\n",
      " 113.12475364 224.52520944 150.3945311  192.51096391  42.72531601\n",
      "  37.23271993 204.43422743 452.86460454 121.77471156 237.63905175\n",
      "  63.47827089 105.09431249  99.24602794 188.55115537 143.0689763\n",
      " 365.65279472 116.84602532  66.14817837 129.86781501 577.08423684\n",
      " 204.95580427  44.38687838 220.68607225 298.07669637 188.1719019\n",
      " -31.33373423 101.28904537 164.88534509 225.7173591   32.01333934\n",
      "  90.36542087 184.0728424   71.05960966 229.24380607 155.82636642\n",
      " 331.95284093  82.13420808  36.04056588  87.08120414 275.79912669\n",
      " 170.42089313 -14.21351283  82.40491743 137.92009302  94.47412595\n",
      "  94.39358417 208.41930204 160.90010671 163.78202293 161.36186291\n",
      " 155.91249276 169.99772124  42.90537345 155.31507019 143.95993988\n",
      " 189.24699914  93.27770965 209.76591175  78.90185389  75.31513729\n",
      " 138.78785899 110.65522525 163.03351511 159.19884656  73.10798185\n",
      " 217.01203192 138.96813361]\n"
     ]
    }
   ],
   "source": [
    "y_hat=diabetes_model.predict(diabetes_data_test)\n",
    "print(y_hat)"
   ]
  },
  {
   "cell_type": "markdown",
   "metadata": {
    "id": "brjk_9PS1TRB"
   },
   "source": [
    "#### Print your `diabetes_target_test` and compare with the prediction. "
   ]
  },
  {
   "cell_type": "code",
   "execution_count": 31,
   "metadata": {
    "id": "c7YMpP_D1TRC"
   },
   "outputs": [
    {
     "name": "stdout",
     "output_type": "stream",
     "text": [
      "[ 68.  49.  68. 245. 184. 202. 137.  85. 131. 283. 129.  59. 341.  87.\n",
      "  65. 102. 265. 276. 252.  90. 100.  55.  61.  92. 259.  53. 190. 142.\n",
      "  75. 142. 155. 225.  59. 104. 182. 128.  52.  37. 170. 170.  61. 144.\n",
      "  52. 128.  71. 163. 150.  97. 160. 178.  48. 270. 202. 111.  85.  42.\n",
      " 170. 200. 252. 113. 143.  51.  52. 210.  65. 141.  55. 134.  42. 111.\n",
      "  98. 164.  48.  96.  90. 162. 150. 279.  92.  83. 128. 102. 302. 198.\n",
      "  95.  53. 134. 144. 232.  81. 104.  59. 246. 297. 258. 229. 275. 281.\n",
      " 179. 200. 200. 173. 180.  84. 121. 161.  99. 109. 115. 268. 274. 158.\n",
      " 107.  83. 103. 272.  85. 280. 336. 281. 118. 317. 235.  60. 174. 259.\n",
      " 178. 128.  96. 126. 288.  88. 292.  71. 197. 186.  25.  84.  96. 195.\n",
      "  53. 217. 172. 131. 214.  59.  70. 220. 268. 152.  47.  74. 295. 101.\n",
      " 151. 127. 237. 225.  81. 151. 107.  64. 138. 185. 265. 101. 137. 143.\n",
      " 141.  79. 292. 178.  91. 116.  86. 122.  72. 129. 142.  90. 158.  39.\n",
      " 196. 222. 277.  99. 196. 202. 155.  77. 191.  70.  73.  49.  65. 263.\n",
      " 248. 296. 214. 185.  78.  93. 252. 150.  77. 208.  77. 108. 160.  53.\n",
      " 220. 154. 259.  90. 246. 124.  67.  72. 257. 262. 275. 177.  71.  47.\n",
      " 187. 125.  78.  51. 258. 215. 303. 243.  91. 150. 310. 153. 346.  63.\n",
      "  89.  50.  39. 103. 308. 116. 145.  74.  45. 115. 264.  87. 202. 127.\n",
      " 182. 241.  66.  94. 283.  64. 102. 200. 265.  94. 230. 181. 156. 233.\n",
      "  60. 219.  80.  68. 332. 248.  84. 200.  55.  85.  89.  31. 129.  83.\n",
      " 275.  65. 198. 236. 253. 124.  44. 172. 114. 142. 109. 180. 144. 163.\n",
      " 147.  97. 220. 190. 109. 191. 122. 230. 242. 248. 249. 192. 131. 237.\n",
      "  78. 135. 244. 199. 270. 164.  72.  96. 306.  91. 214.  95. 216. 263.\n",
      " 178. 113. 200. 139. 139.  88. 148.  88. 243.  71.  77. 109. 272.  60.\n",
      "  54. 221.  90. 311. 281. 182. 321.  58. 262. 206. 233. 242. 123. 167.\n",
      "  63. 197.  71. 168. 140. 217. 121. 235. 245.  40.  52. 104. 132.  88.\n",
      "  69. 219.  72. 201. 110.  51. 277.  63. 118.  69. 273. 258.  43. 198.\n",
      " 242. 232. 175.  93. 168. 275. 293. 281.  72. 140. 189. 181. 209. 136.\n",
      " 261. 113. 131. 174. 257.  55.  84.  42. 146. 212. 233.  91. 111. 152.\n",
      " 120.  67. 310.  94. 183.  66. 173.  72.  49.  64.  48. 178. 104. 132.\n",
      " 220.  57.]\n"
     ]
    }
   ],
   "source": [
    "print(diabetes_target_test)"
   ]
  },
  {
   "cell_type": "markdown",
   "metadata": {
    "id": "6UON_L4F1TRD"
   },
   "source": [
    "#### Is `diabetes_target_test` exactly the same as the model prediction?"
   ]
  },
  {
   "cell_type": "code",
   "execution_count": 32,
   "metadata": {},
   "outputs": [
    {
     "name": "stdout",
     "output_type": "stream",
     "text": [
      "MAE: 77.926\n",
      "RMSE: 108.478\n",
      "R^2: -0.9418\n"
     ]
    }
   ],
   "source": [
    "from sklearn.metrics import mean_absolute_error,  mean_squared_error, r2_score\n",
    "\n",
    "print(f\"MAE: {mean_absolute_error(diabetes_target_test, y_hat):.3f}\")\n",
    "print(f\"RMSE: {np.sqrt(mean_squared_error(diabetes_target_test, y_hat)):.3f}\")\n",
    "print(f\"R^2: {r2_score(diabetes_target_test, y_hat):.4f}\")"
   ]
  },
  {
   "cell_type": "markdown",
   "metadata": {},
   "source": [
    "#### Which are the most important features?"
   ]
  },
  {
   "cell_type": "code",
   "execution_count": null,
   "metadata": {},
   "outputs": [],
   "source": []
  },
  {
   "cell_type": "code",
   "execution_count": null,
   "metadata": {},
   "outputs": [],
   "source": []
  }
 ],
 "metadata": {
  "colab": {
   "name": "Linear_regression_diabetes.ipynb",
   "provenance": []
  },
  "kernelspec": {
   "display_name": "Python 3 (ipykernel)",
   "language": "python",
   "name": "python3"
  },
  "language_info": {
   "codemirror_mode": {
    "name": "ipython",
    "version": 3
   },
   "file_extension": ".py",
   "mimetype": "text/x-python",
   "name": "python",
   "nbconvert_exporter": "python",
   "pygments_lexer": "ipython3",
   "version": "3.7.4"
  }
 },
 "nbformat": 4,
 "nbformat_minor": 4
}
