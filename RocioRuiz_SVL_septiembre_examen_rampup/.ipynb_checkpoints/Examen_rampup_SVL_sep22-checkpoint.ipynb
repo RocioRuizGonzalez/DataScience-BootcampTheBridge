{
 "cells": [
  {
   "cell_type": "markdown",
   "metadata": {},
   "source": [
    "# Examen Ramp-Up Sevilla Septiembre 2022"
   ]
  },
  {
   "cell_type": "markdown",
   "metadata": {},
   "source": [
    "**Aviso**: En todos los ejercicios se valorarán las buenas prácticas de programación como una parte importante de la calificación (comentarios, nombres de variables autoexplicativas)."
   ]
  },
  {
   "cell_type": "markdown",
   "metadata": {},
   "source": [
    "## Ejercicio 1: Tipos de Datos (4 puntos)"
   ]
  },
  {
   "cell_type": "markdown",
   "metadata": {},
   "source": [
    "En este ejercicio se va a crear una lista con los siguientes elementos. \n",
    "\n",
    "**IMPORTANTE**: En todos los casos, hacer print del resultado y del tipo.\n",
    "\n",
    "Primero, crearemos las variables que luego añadiremos a la lista. Las variables son las siguientes:\n",
    "\n",
    "1. Crea una variable llamada `edad` de tipo Integer que represente tu edad en años. \n",
    "2. Crea una variable llamada `nombre` de tipo String con tu nombre y otra `apellidos` con tus apellidos\n",
    "3. Concatena tu nombre seguido de un espacio en blanco y la inicial de tu primer apellido a partir de `nombre` y `apellidos`. Guárdala en `nombre_y_apellidos`.\n",
    "4. Crea una variable llamada `altura` con el valor de tu altura en metros de tipo float.\n",
    "5. Crea una variable llamada `tipo_ord` de tipo Boolean True si usas Windows y False si usas Mac.\n",
    "6. Crea una variable llamada `nada` de tipo None cuyo valor sea None.\n",
    "\n",
    "#### Listas\n",
    "8. Crea una variable llamada `lista_series` de tipo List que contenga las 5 series de TV que más te gusten. Cada elemento ha de ser de tipo String.\n",
    "9.  Añade todos estos elementos en una lista llamada `lista_examen` en el orden de aparición **usando métodos de lista**. \n",
    "10. Crea `lista_examen_mod_edad` idéntica a `lista_examen` pero sustituyendo la edad por la edad + 10.\n",
    "11. Elimina un elemento de `lista_examen_mod_edad` y guárdalo en una variable.\n",
    "\n",
    "#### Diccionarios\n",
    "11. Crea una variable llamada `dict_info` con dos keys y dos values. Una key es `ciudad`, teniendo como value la ciudad en la que vives. Otra key es `portal`, teniendo como value el número de tu calle.\n",
    "12. Muestra las claves, valores e items de `dict_info`\n",
    "13. Elimina un item usando su clave.\n",
    "\n",
    "#### Tuplas\n",
    "13. Crea una variable llamada `tupla_ropa` de tipo Tuple con la marca de la prenda superior, inferior y calzado que llevas puesto.\n",
    "14. Accede a los elementos de `tupla_ropa` y muéstralos por pantalla\n",
    "15. Convierte `tupla_ropa` en una lista `lista_ropa` usando la función necesaria para ello.\n"
   ]
  },
  {
   "cell_type": "code",
   "execution_count": 8,
   "metadata": {},
   "outputs": [
    {
     "name": "stdout",
     "output_type": "stream",
     "text": [
      "36\n",
      "<class 'int'>\n",
      "rocio\n",
      "<class 'str'>\n",
      "ruizgonzalez\n",
      "<class 'str'>\n",
      "rocio r\n",
      "<class 'str'>\n",
      "1.6\n",
      "<class 'float'>\n",
      "True\n",
      "<class 'bool'>\n",
      "None\n",
      "<class 'NoneType'>\n"
     ]
    }
   ],
   "source": [
    "# punto 1- Variable edad\n",
    "edad=int(36)\n",
    "print(edad)\n",
    "print(type(edad))\n",
    "\n",
    "# punto 2- Variable nombre\n",
    "nombre=str(\"rocio\")\n",
    "print(nombre)\n",
    "print(type(nombre))\n",
    "\n",
    "# punto 3- Variable apellidos\n",
    "apellidos=str(\"ruizgonzalez\")\n",
    "print(apellidos)\n",
    "print(type(apellidos))\n",
    "\n",
    "# punto 4- Variable nombre y apellidos\n",
    "nombre_y_apellidos=nombre+\" \"+apellidos[0]\n",
    "print(nombre_y_apellidos)\n",
    "print(type(nombre_y_apellidos))\n",
    "\n",
    "# punto 5- Variable altura\n",
    "altura=float(1.6)\n",
    "print(altura)\n",
    "print(type(altura))\n",
    "\n",
    "# punto 6- Variable tipo de ordenador\n",
    "tipo_ord=bool(True)\n",
    "print(tipo_ord)\n",
    "print(type(tipo_ord))\n",
    "\n",
    "# punto 7- Variable None\n",
    "nada=None\n",
    "print(nada)\n",
    "print(type(nada))"
   ]
  },
  {
   "cell_type": "code",
   "execution_count": 43,
   "metadata": {},
   "outputs": [
    {
     "name": "stdout",
     "output_type": "stream",
     "text": [
      "5\n",
      "[36, 'rocio', 'ruizgonzalez', 'rocio r', 1.6, True, None, ['The_Americans', 'Merli', 'Chernobil', 'El_desorden_que_dejas', 'Gambito_de_dama']]\n",
      "[46, 'rocio', 'ruizgonzalez', 'rocio r', 1.6, True, None, ['The_Americans', 'Merli', 'Chernobil', 'El_desorden_que_dejas', 'Gambito_de_dama']]\n",
      "[46, 'ruizgonzalez', 'rocio r', 1.6, True, None, ['The_Americans', 'Merli', 'Chernobil', 'El_desorden_que_dejas', 'Gambito_de_dama']]\n",
      "[46, 'ruizgonzalez', 'rocio r', 1.6, True, None, ['The_Americans', 'Merli', 'Chernobil', 'El_desorden_que_dejas', 'Gambito_de_dama']]\n"
     ]
    }
   ],
   "source": [
    "# Listas\n",
    "# punto 8- Lista series\n",
    "lista_series=[\"The_Americans\",\"Merli\",\"Chernobil\",\"El_desorden_que_dejas\",\"Gambito_de_dama\"]\n",
    "print(len(lista_series))\n",
    "\n",
    "# punto 9- Crear nueva lista, usando todas las variables anteriores\n",
    "lista_examen=[]\n",
    "lista_examen.insert(0,edad)\n",
    "lista_examen.insert(1,nombre)\n",
    "lista_examen.insert(2,apellidos)\n",
    "lista_examen.insert(3,nombre_y_apellidos)\n",
    "lista_examen.insert(4,altura)\n",
    "lista_examen.insert(5,tipo_ord)\n",
    "lista_examen.insert(6,nada)\n",
    "lista_examen.insert(7,lista_series)\n",
    "\n",
    "print(lista_examen)\n",
    "\n",
    "# punto 10- Modificar lista anterior, cambiando la edad\n",
    "lista_examen_mod_edad=list()\n",
    "lista_examen_mod_edad.append(edad+10)\n",
    "lista_examen_mod_edad.append(nombre)\n",
    "lista_examen_mod_edad.append(apellidos)\n",
    "lista_examen_mod_edad.append(nombre_y_apellidos)\n",
    "lista_examen_mod_edad.append(altura)\n",
    "lista_examen_mod_edad.append(tipo_ord)\n",
    "lista_examen_mod_edad.append(nada)\n",
    "lista_examen_mod_edad.append(lista_series)\n",
    "print(lista_examen_mod_edad)    \n",
    "\n",
    "# punto 11- Modificar lista anterior, eliminando un elemento (nombre)\n",
    "lista_examen_mod_edad.remove(\"rocio\")\n",
    "print(lista_examen_mod_edad)\n",
    "lista_examen_mod_elemento=list()\n",
    "lista_examen_mod_elemento.append(edad+10)\n",
    "lista_examen_mod_elemento.append(apellidos)\n",
    "lista_examen_mod_elemento.append(nombre_y_apellidos)\n",
    "lista_examen_mod_elemento.append(altura)\n",
    "lista_examen_mod_elemento.append(tipo_ord)\n",
    "lista_examen_mod_elemento.append(nada)\n",
    "lista_examen_mod_elemento.append(lista_series)\n",
    "print(lista_examen_mod_elemento)  \n"
   ]
  },
  {
   "cell_type": "code",
   "execution_count": 49,
   "metadata": {},
   "outputs": [
    {
     "name": "stdout",
     "output_type": "stream",
     "text": [
      "<class 'dict'>\n",
      "dict_keys(['ciudad', 'portal'])\n",
      "dict_values(['sevilla', 12])\n",
      "dict_items([('ciudad', 'sevilla'), ('portal', 12)])\n",
      "{'portal': 12}\n"
     ]
    }
   ],
   "source": [
    "# Diccionarios\n",
    "# punto 11- Crear diccionario\n",
    "dict_info={\"ciudad\":\"sevilla\", \"portal\":12}\n",
    "print(type(dict_info))\n",
    "\n",
    "# punto 12- Mostar keys, values, items\n",
    "print(dict_info.keys())\n",
    "print(dict_info.values())\n",
    "print(dict_info.items())\n",
    "\n",
    "# punto 13- Modificar valor usando su clave\n",
    "dict_info.pop(\"ciudad\")\n",
    "print(dict_info)"
   ]
  },
  {
   "cell_type": "code",
   "execution_count": 57,
   "metadata": {},
   "outputs": [
    {
     "name": "stdout",
     "output_type": "stream",
     "text": [
      "<class 'tuple'>\n",
      "mango\n",
      "zara\n",
      "lacoste\n",
      "['mango', 'zara', 'lacoste']\n",
      "<class 'list'>\n"
     ]
    }
   ],
   "source": [
    "# Tuplas\n",
    "# punto 13- Crear tupla\n",
    "tupla_ropa=(\"mango\",\"zara\",\"lacoste\")\n",
    "print(type(tupla_ropa))\n",
    "\n",
    "# punto 14- Mostrar elementos tupla\n",
    "print(tupla_ropa[0])\n",
    "print(tupla_ropa[1])\n",
    "print(tupla_ropa[2])\n",
    "\n",
    "#punto 15- Pasar tupla a lista\n",
    "lista_ropa=list(tupla_ropa)\n",
    "print(lista_ropa)\n",
    "print(type(lista_ropa))"
   ]
  },
  {
   "cell_type": "markdown",
   "metadata": {},
   "source": [
    "## Ejercicio 2: Funciones (1.5 puntos)"
   ]
  },
  {
   "cell_type": "markdown",
   "metadata": {},
   "source": [
    "1. Crea una función que, dado un input `x`, devuelva \n",
    "$$\n",
    "y = 4x + 2\n",
    "$$\n",
    "\n",
    "2. Crea una función que, dado un input `x`, devuelva \n",
    "$$\n",
    "y = 3x^2 + 4x + 2\n",
    "$$\n",
    "\n",
    "3. Dado el polinomio\n",
    "\n",
    "$$\n",
    "a_nx^n + a_{n-1}x^{n-1} + ... + a_1x + a_0\n",
    "$$\n",
    "\n",
    "Crea una función que reciba como input `x` y una lista de `[a_0, ..., a_n]` y devuelva el valor del polinomio en `x`.\n",
    "\n",
    "**Nota**: En caso de no poder con una función, hacerlo como se pueda.\n",
    "\n",
    "**Pista**: El primero cumple `n = 1` y los parámetros son `[2, 4]`. El segundo: `n = 2` y los parámetros `[2, 4, 3]`. Con esta información, intenta generalizar."
   ]
  },
  {
   "cell_type": "code",
   "execution_count": 8,
   "metadata": {},
   "outputs": [
    {
     "name": "stdout",
     "output_type": "stream",
     "text": [
      "10\n",
      "22\n",
      "22\n"
     ]
    }
   ],
   "source": [
    "# punto 1- y=4x+2\n",
    "def punto_1 (x):\n",
    "    y=(4*(x))+2\n",
    "    return y\n",
    "\n",
    "print (punto_1(2))\n",
    "\n",
    "# punto 2- y=3x^2+4x+2\n",
    "def punto_2 (x):\n",
    "    y=(3*(x)**2)+(4*(x))+2\n",
    "    return y\n",
    "\n",
    "print (punto_2(2))\n",
    "\n",
    "# punto 3- anx^n+an-1x^n-1+...+a1x+a0\n",
    "def punto_3 (x,poly):\n",
    "    for i in range(n): \n",
    "        Sum = poly[i] \n",
    "    for j in range(n - i - 1): \n",
    "        Sum = Sum * x  \n",
    "    \n",
    "    result = result + Sum\n",
    "\n",
    "print(result)\n"
   ]
  },
  {
   "cell_type": "markdown",
   "metadata": {},
   "source": [
    "## Ejercicio 3: Git (1 punto)"
   ]
  },
  {
   "cell_type": "markdown",
   "metadata": {},
   "source": [
    "Di si las siguientes afirmaciones son verdaderas o falsas. En caso de ser falsa, justifica tu respuesta.\n",
    "\n",
    "1. Git es un sistema de control de versiones\n",
    "2. Con `git pull` subimos los cambios al remoto\n",
    "3. En clase usamos `HTTP` como protocolo para comunicarnos con el remoto\n",
    "4. El README contiene la información resumida del proyecto\n",
    "5. Para trackear los ficheros hacemos `git commit`"
   ]
  },
  {
   "cell_type": "code",
   "execution_count": null,
   "metadata": {},
   "outputs": [],
   "source": [
    "# punto 1-Git es un sistema de control de versiones\n",
    "Verdadero\n",
    "\n",
    "# punto 2- Con git pull subimos los cambios al remoto\n",
    "Falso. Con (git pull) BAJAMOS los cambios al remoto\n",
    "\n",
    "# punto 3- En clase usamos HTTP como protocolo para comunicarnos con el remoto\n",
    "Falso. Usamos el protocolo SSH\n",
    "\n",
    "# punto 4- El README contiene la información resumida del proyecto\n",
    "Verdadero\n",
    "\n",
    "# punto 5- Para trackear los ficheros hacemos git commit\n",
    "Falso. Para trackear los ficheros usamos el comando (git add)"
   ]
  },
  {
   "cell_type": "markdown",
   "metadata": {},
   "source": [
    "## Ejercicio 4: Flujos de Control (1.5 puntos)"
   ]
  },
  {
   "cell_type": "markdown",
   "metadata": {},
   "source": [
    "1. Hacer un programa que permita saber si un año es bisiesto. Para que un año sea bisiesto debe ser divisible por 4 y no debe ser divisible por 100, excepto que también sea divisible por 400.\n",
    "2. Hacer un programa que, dado un número, nos diga si es Real o Entero.\n",
    "3. Declara una variable numérica que será una hora cualquiera del día. Implementa mediante sentencias `if/elif/else` la siguiente casuística:\n",
    "   * Si es entre las 0 y las 8, print \"Durmiendo\"\n",
    "   * Si es entre las 9 y las 18, print \"Trabajando\"\n",
    "   * Si es entre las 19 y las 21, print \"Clase\"\n",
    "   * Si es entre las 22 y las 24, print \"Descanso\"\n",
    "   * En cualquier otro caso, print \"Transporte o error\""
   ]
  },
  {
   "cell_type": "code",
   "execution_count": 75,
   "metadata": {},
   "outputs": [
    {
     "name": "stdout",
     "output_type": "stream",
     "text": [
      "Introduce un año: 2022\n",
      "El año no es bisiesto.\n"
     ]
    }
   ],
   "source": [
    "# punto 1- Programa que me diga si el año es bisiesto\n",
    "año = int(input('Introduce un año: '))\n",
    "\n",
    "if año % 4 == 0:\n",
    "    if año % 100 == 0:\n",
    "        if año % 400 == 0:\n",
    "            print('El año es bisiesto')\n",
    "        else:\n",
    "            print('El año no es bisiesto')\n",
    "    else:\n",
    "        print('El año es bisiesto.')\n",
    "else:\n",
    "    print('El año no es bisiesto.')"
   ]
  },
  {
   "cell_type": "code",
   "execution_count": 89,
   "metadata": {},
   "outputs": [
    {
     "name": "stdout",
     "output_type": "stream",
     "text": [
      "Ingrese dato: 6.3\n",
      "Seguramente es decimal 6.3\n",
      "<class 'str'>\n"
     ]
    }
   ],
   "source": [
    "# punto 2- Programa que me diga si el número es real o entero\n",
    "dato = input('Ingrese dato: ')\n",
    "\n",
    "if '.' in dato:\n",
    "    print(\"Seguramente es decimal\", dato)\n",
    "    print(type(dato))\n",
    "else:\n",
    "    print(\"Seguramente es entero\", dato)\n",
    "    print(type(dato))\n",
    "    "
   ]
  },
  {
   "cell_type": "code",
   "execution_count": 9,
   "metadata": {},
   "outputs": [
    {
     "name": "stdout",
     "output_type": "stream",
     "text": [
      "Introduzca la hora: 10\n",
      "10\n",
      "Trabajando\n"
     ]
    }
   ],
   "source": [
    "# punto 3- Ejercicio if/elif/else\n",
    "hour=int(input(\"Introduzca la hora: \"))\n",
    "print(hour)\n",
    "if (hour >= 0)&(hour<=8):\n",
    "    print(\"Durmiendo\")\n",
    "elif (hour>=9)&(hour<=18):\n",
    "    print(\"Trabajando\")\n",
    "elif (hour>=19)&(hour<=21):\n",
    "    print(\"Clase\")\n",
    "elif (hour>=22)&(hour<=24):\n",
    "    print(\"Descanso\")\n",
    "else:\n",
    "    print(\"Transporte o error\")"
   ]
  },
  {
   "cell_type": "markdown",
   "metadata": {},
   "source": [
    "## Ejercicio 5: Calculadora simple (2 Puntos)"
   ]
  },
  {
   "cell_type": "markdown",
   "metadata": {},
   "source": [
    "Construye un programa que:\n",
    "\n",
    "- Salude al usuario por su nombre\n",
    "- Le pregunte si quiere sumar, restar, multiplicar o dividir\n",
    "- Pida que introduzca 2 números de manera sucesiva\n",
    "- Devuelva el resultado de manera formal con un mensaje apropiado \n",
    "\n",
    "**Ayuda**: No se puede dividir por 0"
   ]
  },
  {
   "cell_type": "code",
   "execution_count": 20,
   "metadata": {},
   "outputs": [
    {
     "name": "stdout",
     "output_type": "stream",
     "text": [
      "Hola, introduzca su nombre:rocio\n",
      "Bienvenido rocio, introduzca su primer numero: 1\n",
      "Introduzca el segundo numero: 3\n",
      "\n",
      "    Dime, ¿qué quieres hacer?\n",
      "    \n",
      "    1) Sumar los dos números\n",
      "    2) Restar los dos números\n",
      "    3) Multiplicar los dos números\n",
      "    4) Dividir los dos números \n",
      "    \n",
      "Elige una opción: 3\n",
      " \n",
      "RESULTADO: El producto de 1.0 * 3.0 es igual a 3.0\n"
     ]
    }
   ],
   "source": [
    "saludo=input(\"Hola, introduzca su nombre:\")\n",
    "num_1=float(input(f\"Bienvenido {saludo}, introduzca su primer numero: \"))\n",
    "num_2=float(input(\"Introduzca el segundo numero: \"))\n",
    "while True:\n",
    "    print(\"\"\"\n",
    "    Dime, ¿qué quieres hacer?\n",
    "    \n",
    "    1) Sumar los dos números\n",
    "    2) Restar los dos números\n",
    "    3) Multiplicar los dos números\n",
    "    4) Dividir los dos números \n",
    "    \"\"\")\n",
    "    opcion = int(input(\"Elige una opción: \") ) \n",
    "    if opcion == 1:\n",
    "        print(\" \")\n",
    "        print(\"RESULTADO: La suma de\",num_1,\"+\",num_2,\"es igual a\",num_1+num_2)\n",
    "    elif opcion == 2:\n",
    "        print(\" \")\n",
    "        print(\"RESULTADO: La resta de\",num_1,\"-\",num_2,\"es igual a\",num_1-num_2)\n",
    "    elif opcion == 3:\n",
    "        print(\" \")\n",
    "        print(\"RESULTADO: El producto de\",num_1,\"*\",num_2,\"es igual a\",num_1*num_2)\n",
    "    elif opcion == 4:\n",
    "        print(\" \")\n",
    "        print(\"RESULTADO: El cociente de\",num_1,\"*\",num_2,\"es igual a\",num_1/num_2)\n",
    "    else:\n",
    "        print(\"Opción incorrecta\")\n",
    "    break\n",
    "    \n"
   ]
  },
  {
   "cell_type": "code",
   "execution_count": null,
   "metadata": {},
   "outputs": [],
   "source": [
    "Ha activado la CALCULADORA SIMPLE\n",
    "Bienvenido Alberto\n",
    "Primer número: 6.0\n",
    "Operación: +\n",
    "Segundo número: 5.0\n",
    "El resultado de 6.0 + 5.0 es 11.0"
   ]
  },
  {
   "cell_type": "markdown",
   "metadata": {},
   "source": [
    "## Ejercicio 6 (Subir Nota): Text Beautifier"
   ]
  },
  {
   "cell_type": "markdown",
   "metadata": {},
   "source": [
    "# Dado el string `\"HeyYy cOmo EstAas\"`:\n",
    "\n",
    "    - Pasa todo a minúsculas con el método adecuado de la clase `str`\n",
    "    - Pon las iniciales de cada palabra en mayúscula\n",
    "    - Convierte el string en una lista de palabras\n",
    "    - Elimina las `y`"
   ]
  },
  {
   "cell_type": "code",
   "execution_count": 8,
   "metadata": {},
   "outputs": [
    {
     "name": "stdout",
     "output_type": "stream",
     "text": [
      "heyyy como estaas\n"
     ]
    }
   ],
   "source": [
    "ejer_6=\"HeyYy cOmo EstAas\"\n",
    "\n",
    "# pasar a minuscula\n",
    "ejer_6_minuscula=ejer_6.lower()\n",
    "print(ejer_6_minuscula)\n"
   ]
  },
  {
   "cell_type": "code",
   "execution_count": 9,
   "metadata": {},
   "outputs": [
    {
     "name": "stdout",
     "output_type": "stream",
     "text": [
      "Heyyy Como Estaas\n"
     ]
    }
   ],
   "source": [
    "# iniciales de cada palabra en mayuscula\n",
    "ejer_6_letra_may=ejer_6.title()\n",
    "print(ejer_6_letra_may)"
   ]
  },
  {
   "cell_type": "code",
   "execution_count": 12,
   "metadata": {},
   "outputs": [
    {
     "name": "stdout",
     "output_type": "stream",
     "text": [
      "['HeyYy cOmo EstAas']\n",
      "<class 'list'>\n"
     ]
    }
   ],
   "source": [
    "# convertir el string en una lista de palabras\n",
    "ejer_6_lista=[ejer_6]\n",
    "print(ejer_6_lista)\n",
    "print(type(ejer_6_lista))"
   ]
  },
  {
   "cell_type": "code",
   "execution_count": 19,
   "metadata": {},
   "outputs": [
    {
     "name": "stdout",
     "output_type": "stream",
     "text": [
      "He cOmo EstAas\n"
     ]
    }
   ],
   "source": [
    "# eliminar las y\n",
    "characters = \"yY\"\n",
    "\n",
    "for x in range(len(characters)):\n",
    "    ejer_6=ejer_6.replace(characters[x],\"\")\n",
    "print(ejer_6)"
   ]
  },
  {
   "cell_type": "markdown",
   "metadata": {},
   "source": [
    "## Ejercicio Extra: Calculadora (Python Badge)"
   ]
  },
  {
   "cell_type": "markdown",
   "metadata": {},
   "source": [
    "Construye una calculadora que sea como la anterior pero:\n",
    "\n",
    "- Acepte tantos valores de entrada como queramos\n",
    "- Devuelva mensajes con las cuentas que se van haciendo.\n",
    "- Permita salir con una palabra clave (exit, quit, ...)"
   ]
  },
  {
   "cell_type": "code",
   "execution_count": null,
   "metadata": {},
   "outputs": [
    {
     "name": "stdout",
     "output_type": "stream",
     "text": [
      "Hola, introduzca su nombre:Rocio\n",
      "Bienvenido Rocio, introduzca su primer numero: 1\n",
      "Introduzca el segundo numero: 3\n",
      "\n",
      "    Dime, ¿qué quieres hacer?\n",
      "    \n",
      "    1) Sumar los dos números\n",
      "    2) Restar los dos números\n",
      "    3) Multiplicar los dos números\n",
      "    4) Dividir los dos números \n",
      "    5) Salir de la calculadora\n",
      "    \n",
      "Elige una opción: 3\n",
      " \n",
      "RESULTADO: El producto de,1.0,*,3.0,es igual a,3.0\n",
      "\n",
      "    Dime, ¿qué quieres hacer?\n",
      "    \n",
      "    1) Sumar los dos números\n",
      "    2) Restar los dos números\n",
      "    3) Multiplicar los dos números\n",
      "    4) Dividir los dos números \n",
      "    5) Salir de la calculadora\n",
      "    \n"
     ]
    }
   ],
   "source": [
    "saludo=input(\"Hola, introduzca su nombre:\")\n",
    "num_1=float(input(f\"Bienvenido {saludo}, introduzca su primer numero: \"))\n",
    "num_2=float(input(\"Introduzca el segundo numero: \"))\n",
    "while True:\n",
    "    print(\"\"\"\n",
    "    Dime, ¿qué quieres hacer?\n",
    "    \n",
    "    1) Sumar los dos números\n",
    "    2) Restar los dos números\n",
    "    3) Multiplicar los dos números\n",
    "    4) Dividir los dos números \n",
    "    5) Salir de la calculadora\n",
    "    \"\"\")\n",
    "    opcion = int(input(\"Elige una opción: \") ) \n",
    "    if opcion == 1:\n",
    "        print(\" \")\n",
    "        resultado_1=(f\"RESULTADO: La suma de,{num_1},+,{num_2},es igual a,{num_1+num_2}\")\n",
    "        print(resultado_1)\n",
    "    elif opcion == 2:\n",
    "        print(\" \")\n",
    "        resultado_2=(f\"RESULTADO: La resta de,{num_1},-,{num_2},es igual a,{num_1-num_2}\")\n",
    "        print(resultado_2)\n",
    "    elif opcion == 3:\n",
    "        print(\" \")\n",
    "        resultado_3=(f\"RESULTADO: El producto de,{num_1},*,{num_2},es igual a,{num_1*num_2}\")\n",
    "        print(resultado_3)\n",
    "    elif opcion == 4:\n",
    "        print(\" \")\n",
    "        resultado_4=(f\"RESULTADO: El cociente de,{num_1},/,{num_2},es igual a,{num_1/num_2}\")\n",
    "        print(resultado_4)\n",
    "    elif opcion == 5:\n",
    "        print (\" \")\n",
    "        resultado_5=(f\"Hasta pronto {saludo}\")\n",
    "        print (resultado_5)\n",
    "    else:\n",
    "        print(\"Opción incorrecta\")\n",
    "        \n",
    "    # No he terminado, ahora tendría que:\n",
    "       # - guardar ese número de resultado que sale\n",
    "        # - añadir otro input para que se introduzca otro número\n",
    "        # y así continuar\n",
    "   "
   ]
  },
  {
   "cell_type": "code",
   "execution_count": null,
   "metadata": {},
   "outputs": [],
   "source": []
  },
  {
   "cell_type": "code",
   "execution_count": null,
   "metadata": {},
   "outputs": [],
   "source": []
  }
 ],
 "metadata": {
  "interpreter": {
   "hash": "bbecac44435c2c981f643c81cfe05fa1d6ef605eda7f5952ee2b272fedf4993e"
  },
  "kernelspec": {
   "display_name": "Python 3 (ipykernel)",
   "language": "python",
   "name": "python3"
  },
  "language_info": {
   "codemirror_mode": {
    "name": "ipython",
    "version": 3
   },
   "file_extension": ".py",
   "mimetype": "text/x-python",
   "name": "python",
   "nbconvert_exporter": "python",
   "pygments_lexer": "ipython3",
   "version": "3.7.4"
  }
 },
 "nbformat": 4,
 "nbformat_minor": 2
}
