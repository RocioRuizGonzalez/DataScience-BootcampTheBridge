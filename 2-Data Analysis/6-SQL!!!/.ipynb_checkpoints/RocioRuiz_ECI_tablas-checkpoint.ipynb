{
 "cells": [
  {
   "cell_type": "code",
   "execution_count": 1,
   "id": "2174e202",
   "metadata": {},
   "outputs": [],
   "source": [
    "from getpass import getpass\n",
    "from mysql.connector import connect, Error"
   ]
  },
  {
   "cell_type": "code",
   "execution_count": 2,
   "id": "b1f777fb",
   "metadata": {},
   "outputs": [
    {
     "name": "stdout",
     "output_type": "stream",
     "text": [
      "Enter username: root\n",
      "Enter password: ········\n",
      "SUCCESSFUL\n",
      "\n",
      "\n"
     ]
    }
   ],
   "source": [
    "try:\n",
    "    conn = connect(\n",
    "                    host=\"localhost\",\n",
    "                    user=input(\"Enter username: \"),\n",
    "                    password=getpass(\"Enter password: \"),\n",
    "                    database=\"chinook\")\n",
    "         \n",
    "    print('SUCCESSFUL\\n\\n')\n",
    "except Error as e:\n",
    "    print(e)"
   ]
  },
  {
   "cell_type": "code",
   "execution_count": 3,
   "id": "e36feeb6",
   "metadata": {},
   "outputs": [
    {
     "data": {
      "text/plain": [
       "<mysql.connector.connection_cext.CMySQLConnection at 0x18c0dbb3dc8>"
      ]
     },
     "execution_count": 3,
     "metadata": {},
     "output_type": "execute_result"
    }
   ],
   "source": [
    "conn"
   ]
  },
  {
   "cell_type": "code",
   "execution_count": 4,
   "id": "c008a43e",
   "metadata": {},
   "outputs": [],
   "source": [
    "cursor = conn.cursor()\n",
    "cursor.execute(\"CREATE DATABASE eci\")"
   ]
  },
  {
   "cell_type": "code",
   "execution_count": 5,
   "id": "aa8d6498",
   "metadata": {},
   "outputs": [],
   "source": [
    "conn.close()"
   ]
  },
  {
   "cell_type": "code",
   "execution_count": 6,
   "id": "d674a55e",
   "metadata": {},
   "outputs": [
    {
     "name": "stdout",
     "output_type": "stream",
     "text": [
      "Enter username: root\n",
      "Enter password: ········\n",
      "SUCCESSFUL\n",
      "\n",
      "\n"
     ]
    }
   ],
   "source": [
    "try:\n",
    "    conn = connect(\n",
    "                    host=\"localhost\",\n",
    "                    user=input(\"Enter username: \"),\n",
    "                    password=getpass(\"Enter password: \"),\n",
    "                    database=\"eci\")\n",
    "         \n",
    "    print('SUCCESSFUL\\n\\n')\n",
    "except Error as e:\n",
    "    print(e)"
   ]
  },
  {
   "cell_type": "code",
   "execution_count": 7,
   "id": "b9d90c02",
   "metadata": {},
   "outputs": [],
   "source": [
    "cursor = conn.cursor()"
   ]
  },
  {
   "cell_type": "code",
   "execution_count": 8,
   "id": "c86c52b0",
   "metadata": {},
   "outputs": [],
   "source": [
    "cursor.execute(\"CREATE TABLE FAMILIA (ID_DPTO INT, COD_FAMILIA VARCHAR(255), DESC_FAMILIA VARCHAR(255))\")"
   ]
  },
  {
   "cell_type": "code",
   "execution_count": 16,
   "id": "22f7bbee",
   "metadata": {},
   "outputs": [],
   "source": [
    "cursor.execute(\"CREATE TABLE DEPARTAMENTO (ID_DPTO INT, DESC_DPTO VARCHAR(255))\")"
   ]
  },
  {
   "cell_type": "code",
   "execution_count": null,
   "id": "52360d36",
   "metadata": {},
   "outputs": [],
   "source": [
    "cursor.execute(\"CREATE TABLE ARTICULO (REFERENCIA VARCHAR(255),ID_DPTO INT, COD_FAMILIA VARCHAR(255), FECHA_ALTA DATE)\")"
   ]
  },
  {
   "cell_type": "code",
   "execution_count": 15,
   "id": "10e8747b",
   "metadata": {},
   "outputs": [],
   "source": [
    "cursor.execute(\"CREATE TABLE CAMPANIA (ID_CAMPANIA VARCHAR(255),TIPO VARCHAR(255),FECHA_CAMP DATE)\")"
   ]
  },
  {
   "cell_type": "code",
   "execution_count": 14,
   "id": "eea78df9",
   "metadata": {},
   "outputs": [],
   "source": [
    "cursor.execute(\"CREATE TABLE DEPTO_CAMPANIA (ID_DPTO INT, ID_CAMPANIA VARCHAR(255))\")"
   ]
  },
  {
   "cell_type": "code",
   "execution_count": 13,
   "id": "1e221228",
   "metadata": {},
   "outputs": [],
   "source": [
    "cursor.execute(\"CREATE TABLE VENTAS (TALON VARCHAR(255),REFERENCIA VARCHAR(255), PRECIO FLOAT, FECHA_VENTA DATE)\")"
   ]
  },
  {
   "cell_type": "code",
   "execution_count": 18,
   "id": "423d0bce",
   "metadata": {},
   "outputs": [],
   "source": [
    "cursor.execute (\"ALTER TABLE FAMILIA ADD PRIMARY KEY (ID_DPTO,COD_FAMILIA)\")"
   ]
  },
  {
   "cell_type": "code",
   "execution_count": 19,
   "id": "baf8db73",
   "metadata": {},
   "outputs": [],
   "source": [
    "cursor.execute (\"ALTER TABLE DEPARTAMENTO ADD PRIMARY KEY (ID_DPTO)\")"
   ]
  },
  {
   "cell_type": "code",
   "execution_count": 20,
   "id": "6f7011ce",
   "metadata": {},
   "outputs": [],
   "source": [
    "cursor.execute (\"ALTER TABLE ARTICULO ADD PRIMARY KEY (REFERENCIA)\")"
   ]
  },
  {
   "cell_type": "code",
   "execution_count": 22,
   "id": "3ad6aff7",
   "metadata": {},
   "outputs": [],
   "source": [
    "cursor.execute (\"ALTER TABLE CAMPANIA ADD PRIMARY KEY (ID_CAMPANIA)\")"
   ]
  },
  {
   "cell_type": "code",
   "execution_count": 24,
   "id": "22d85486",
   "metadata": {},
   "outputs": [],
   "source": [
    "cursor.execute (\"ALTER TABLE DEPTO_CAMPANIA ADD PRIMARY KEY (ID_DPTO,ID_CAMPANIA)\")"
   ]
  },
  {
   "cell_type": "code",
   "execution_count": 25,
   "id": "bc9c67ea",
   "metadata": {},
   "outputs": [],
   "source": [
    "cursor.execute (\"ALTER TABLE VENTAS ADD PRIMARY KEY (TALON)\")"
   ]
  },
  {
   "cell_type": "code",
   "execution_count": null,
   "id": "4659ff02",
   "metadata": {},
   "outputs": [],
   "source": []
  }
 ],
 "metadata": {
  "kernelspec": {
   "display_name": "Python 3 (ipykernel)",
   "language": "python",
   "name": "python3"
  },
  "language_info": {
   "codemirror_mode": {
    "name": "ipython",
    "version": 3
   },
   "file_extension": ".py",
   "mimetype": "text/x-python",
   "name": "python",
   "nbconvert_exporter": "python",
   "pygments_lexer": "ipython3",
   "version": "3.7.4"
  }
 },
 "nbformat": 4,
 "nbformat_minor": 5
}
