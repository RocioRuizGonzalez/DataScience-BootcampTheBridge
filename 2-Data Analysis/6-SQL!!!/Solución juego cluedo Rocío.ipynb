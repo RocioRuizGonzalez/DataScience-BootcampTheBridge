{
 "cells": [
  {
   "cell_type": "code",
   "execution_count": null,
   "id": "ba28cd4d",
   "metadata": {},
   "outputs": [],
   "source": [
    "SELECT date,type,description,city\n",
    "FROM crime_scene_report\n",
    "WHERE date=20180115 and type=\"murder\" and city =\"SQL City\"\n",
    "  "
   ]
  },
  {
   "cell_type": "code",
   "execution_count": null,
   "id": "4b95aa76",
   "metadata": {},
   "outputs": [],
   "source": [
    "SELECT name, address_number,address_street_name \n",
    "FROM person\n",
    "WHERE address_street_name=\"Northwestern Dr\" "
   ]
  },
  {
   "cell_type": "code",
   "execution_count": null,
   "id": "9d857346",
   "metadata": {},
   "outputs": [],
   "source": [
    "SELECT name, id\n",
    "FROM person\n",
    "WHERE name = \"Morty Schapiro\""
   ]
  },
  {
   "cell_type": "markdown",
   "id": "d6c7db14",
   "metadata": {},
   "source": [
    "I heard a gunshot and then saw a man run out. He had a \"Get Fit Now Gym\" bag. The membership number on the bag started with \"48Z\". Only gold members have those bags. The man got into a car with a plate that included \"H42W\"."
   ]
  },
  {
   "cell_type": "code",
   "execution_count": null,
   "id": "92d1e95f",
   "metadata": {},
   "outputs": [],
   "source": [
    "SELECT *\n",
    "FROM get_fit_now_member\n",
    "WHERE membership_status=\"gold\" and id LIKE \"48Z%\""
   ]
  },
  {
   "cell_type": "code",
   "execution_count": null,
   "id": "99497374",
   "metadata": {},
   "outputs": [],
   "source": [
    "id\tperson_id\tname\tmembership_start_date\tmembership_status\n",
    "48Z7A\t28819\tJoe Germuska\t20160305\tgold\n",
    "48Z55\t67318\tJeremy Bowers\t20160101\tgold"
   ]
  },
  {
   "cell_type": "code",
   "execution_count": null,
   "id": "58ca4a1f",
   "metadata": {},
   "outputs": [],
   "source": [
    "SELECT id, plate_number\n",
    "FROM drivers_license\n",
    "WHERE plate_number LIKE \"%H42W%\""
   ]
  },
  {
   "cell_type": "code",
   "execution_count": null,
   "id": "386cc346",
   "metadata": {},
   "outputs": [],
   "source": [
    "id\tplate_number\n",
    "183779\tH42W0X\n",
    "423327\t0H42W2\n",
    "664760\t4H42WR"
   ]
  },
  {
   "cell_type": "code",
   "execution_count": null,
   "id": "bb03aa01",
   "metadata": {},
   "outputs": [],
   "source": [
    "SELECT name, address_number,address_street_name \n",
    "FROM person\n",
    "WHERE address_street_name=\"Franklin Ave\" and name LIKE \"%Annabel%\""
   ]
  },
  {
   "cell_type": "code",
   "execution_count": null,
   "id": "34e073b6",
   "metadata": {},
   "outputs": [],
   "source": [
    "name\taddress_number\taddress_street_name\n",
    "Annabel Miller\t103\tFranklin Ave"
   ]
  },
  {
   "cell_type": "code",
   "execution_count": null,
   "id": "f28efc32",
   "metadata": {},
   "outputs": [],
   "source": [
    "SELECT name, id\n",
    "FROM person\n",
    "WHERE name = \"Annabel Miller\""
   ]
  },
  {
   "cell_type": "code",
   "execution_count": null,
   "id": "1c349e0f",
   "metadata": {},
   "outputs": [],
   "source": [
    "name\tid\n",
    "Annabel Miller\t16371"
   ]
  },
  {
   "cell_type": "code",
   "execution_count": null,
   "id": "0c720c93",
   "metadata": {},
   "outputs": [],
   "source": [
    "SELECT *\n",
    "FROM interview\n",
    "WHERE person_id = \"16371\""
   ]
  },
  {
   "cell_type": "markdown",
   "id": "e6252233",
   "metadata": {},
   "source": [
    "I saw the murder happen, and I recognized the killer from my gym when I was working out last week on January the 9th."
   ]
  },
  {
   "cell_type": "code",
   "execution_count": null,
   "id": "4caac96e",
   "metadata": {},
   "outputs": [],
   "source": [
    "SELECT *\n",
    "FROM facebook_event_checkin\n",
    "WHERE person_id = \"16371\""
   ]
  },
  {
   "cell_type": "code",
   "execution_count": null,
   "id": "a89de5b8",
   "metadata": {},
   "outputs": [],
   "source": [
    "person_id\tevent_id\tevent_name\tdate\n",
    "16371\t4719\tThe Funky Grooves Tour\t20180115"
   ]
  },
  {
   "cell_type": "code",
   "execution_count": null,
   "id": "89a81a13",
   "metadata": {},
   "outputs": [],
   "source": [
    "SELECT id,name,license_id\n",
    "FROM person\n",
    "WHERE id = \"28819\""
   ]
  },
  {
   "cell_type": "code",
   "execution_count": null,
   "id": "ee1ef7aa",
   "metadata": {},
   "outputs": [],
   "source": [
    "id\tname\tlicense_id\n",
    "28819\tJoe Germuska\t173289"
   ]
  },
  {
   "cell_type": "code",
   "execution_count": null,
   "id": "d7477c88",
   "metadata": {},
   "outputs": [],
   "source": [
    "SELECT id,name,license_id\n",
    "FROM person\n",
    "WHERE id = \"67318\""
   ]
  },
  {
   "cell_type": "code",
   "execution_count": null,
   "id": "8f562604",
   "metadata": {},
   "outputs": [],
   "source": [
    "id\tname\tlicense_id\n",
    "67318\tJeremy Bowers\t423327"
   ]
  },
  {
   "cell_type": "code",
   "execution_count": null,
   "id": "6db8c3f0",
   "metadata": {},
   "outputs": [],
   "source": [
    "SELECT id, plate_number\n",
    "FROM drivers_license\n",
    "WHERE id=\"423327\""
   ]
  },
  {
   "cell_type": "code",
   "execution_count": null,
   "id": "9ea08465",
   "metadata": {},
   "outputs": [],
   "source": [
    "id\tplate_number\n",
    "423327\t0H42W2"
   ]
  },
  {
   "cell_type": "code",
   "execution_count": null,
   "id": "f1407e8e",
   "metadata": {},
   "outputs": [],
   "source": [
    "SELECT id, plate_number\n",
    "FROM drivers_license\n",
    "WHERE id=\"173289\""
   ]
  },
  {
   "cell_type": "code",
   "execution_count": null,
   "id": "47e2532c",
   "metadata": {},
   "outputs": [],
   "source": [
    "No data"
   ]
  },
  {
   "cell_type": "code",
   "execution_count": null,
   "id": "91c67d3a",
   "metadata": {},
   "outputs": [],
   "source": [
    "JEREMY BOWERS"
   ]
  },
  {
   "cell_type": "code",
   "execution_count": null,
   "id": "36aa00df",
   "metadata": {},
   "outputs": [],
   "source": []
  },
  {
   "cell_type": "code",
   "execution_count": null,
   "id": "26f465d3",
   "metadata": {},
   "outputs": [],
   "source": []
  }
 ],
 "metadata": {
  "kernelspec": {
   "display_name": "Python 3 (ipykernel)",
   "language": "python",
   "name": "python3"
  },
  "language_info": {
   "codemirror_mode": {
    "name": "ipython",
    "version": 3
   },
   "file_extension": ".py",
   "mimetype": "text/x-python",
   "name": "python",
   "nbconvert_exporter": "python",
   "pygments_lexer": "ipython3",
   "version": "3.7.4"
  }
 },
 "nbformat": 4,
 "nbformat_minor": 5
}
