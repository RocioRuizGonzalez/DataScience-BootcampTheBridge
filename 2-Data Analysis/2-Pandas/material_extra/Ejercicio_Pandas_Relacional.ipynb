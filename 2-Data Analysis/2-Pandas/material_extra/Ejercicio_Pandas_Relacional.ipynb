{
 "cells": [
  {
   "cell_type": "markdown",
   "metadata": {},
   "source": [
    "# Ejercicio de repaso: BBDD Relacionales"
   ]
  },
  {
   "cell_type": "markdown",
   "metadata": {},
   "source": [
    "Ejercicio sacado directamente de una entrevista de trabajo para una conocida compañía de retail."
   ]
  },
  {
   "cell_type": "markdown",
   "metadata": {},
   "source": [
    "![tablas1](img/Tablas-1.png)\n",
    "![tablas3](./img/Tablas-3.png)"
   ]
  },
  {
   "cell_type": "markdown",
   "metadata": {},
   "source": [
    "## 1. Crea un DataFrame por cada tabla"
   ]
  },
  {
   "cell_type": "code",
   "execution_count": 98,
   "metadata": {},
   "outputs": [],
   "source": [
    "import numpy as np\n",
    "import pandas as pd"
   ]
  },
  {
   "cell_type": "code",
   "execution_count": 99,
   "metadata": {},
   "outputs": [
    {
     "name": "stdout",
     "output_type": "stream",
     "text": [
      "  ID_DPTO COD_FAMILIA   DESC_FAMILIA\n",
      "0       1         1F1       Pulseras\n",
      "1       1         1F1        Anillos\n",
      "2       2         2F1  Bolso de mano\n",
      "3       3         3F1        Nautico\n",
      "4       3         3F2      Sandalias\n",
      "5       4         4F1       Bermudas\n"
     ]
    }
   ],
   "source": [
    "familias = {\"ID_DPTO\": [\"1\", \"1\", \"2\", \"3\" ,\"3\",\"4\" ],\n",
    "            \"COD_FAMILIA\": [\"1F1\",\"1F1\", \"2F1\", \"3F1\", \"3F2\", \"4F1\" ],\n",
    "            \"DESC_FAMILIA\": [\"Pulseras\", \"Anillos\", \"Bolso de mano\", \"Nautico\", \"Sandalias\", \"Bermudas\"]}\n",
    "df_familias = pd.DataFrame(familias)\n",
    "print(df_familias)"
   ]
  },
  {
   "cell_type": "code",
   "execution_count": 100,
   "metadata": {},
   "outputs": [
    {
     "name": "stdout",
     "output_type": "stream",
     "text": [
      "  ID_DPTO  DESC_DPTO\n",
      "0       1    Joyeria\n",
      "1       2     Bolsos\n",
      "2       3  Zapatería\n",
      "3       4   BAÑO CAB\n"
     ]
    }
   ],
   "source": [
    "departamento = {\"ID_DPTO\": [\"1\",\"2\", \"3\", \"4\"],\n",
    "                \"DESC_DPTO\": [\"Joyeria\", \"Bolsos\", \"Zapatería\", \"BAÑO CAB\" ] }\n",
    "df_departamento = pd.DataFrame(departamento)\n",
    "print(df_departamento)"
   ]
  },
  {
   "cell_type": "code",
   "execution_count": 101,
   "metadata": {},
   "outputs": [
    {
     "name": "stdout",
     "output_type": "stream",
     "text": [
      "  REFERENCIA ID_DPTO COD_FAMILIA  FECHA_ALTA\n",
      "0          A       1         1F1  21/02/2010\n",
      "1          B       2         2F1  07/02/2014\n",
      "2          C       2         2F1  15/05/2014\n",
      "3          D       2         2F1  01/10/2005\n",
      "4          E       2         2F1  31/10/2010\n",
      "5          F       3         3F1  20/04/2001\n",
      "6          G       3         3F2  14/02/2015\n",
      "7          H       4         4F1  25/03/2009\n"
     ]
    }
   ],
   "source": [
    "articulos = {\"REFERENCIA\":[\"A\",\"B\", \"C\", \"D\", \"E\", \"F\", \"G\", \"H\" ],\n",
    "            \"ID_DPTO\": [\"1\",  \"2\", \"2\", \"2\", \"2\", \"3\", \"3\", \"4\"],\n",
    "            \"COD_FAMILIA\": [\"1F1\", \"2F1\", \"2F1\", \"2F1\", \"2F1\", \"3F1\", \"3F2\", \"4F1\"],\n",
    "            \"FECHA_ALTA\": [\"21/02/2010\", \"07/02/2014\", \"15/05/2014\", \"01/10/2005\", \"31/10/2010\",\"20/04/2001\", \"14/02/2015\", \"25/03/2009\" ] }\n",
    "df_articulos = pd.DataFrame(articulos)\n",
    "print(df_articulos)"
   ]
  },
  {
   "cell_type": "code",
   "execution_count": 102,
   "metadata": {},
   "outputs": [
    {
     "name": "stdout",
     "output_type": "stream",
     "text": [
      "  ID_CAMPANIA      TIPO  FECHA_CAMP\n",
      "0         CA1     VENTA   5/02/2012\n",
      "1         CA2     VENTA    4/2/2012\n",
      "2         CA3  POSVENTA   2/10/2009\n",
      "3         CA4     VENTA    6/5/2010\n",
      "4         CA5  POSVENTA  31/11/2010\n",
      "5         CA6  POSVENTA    7/2/2015\n"
     ]
    }
   ],
   "source": [
    "campanias = {'ID_CAMPANIA': ['CA1','CA2','CA3','CA4','CA5','CA6'],\n",
    "            'TIPO': ['VENTA','VENTA','POSVENTA','VENTA','POSVENTA','POSVENTA'],\n",
    "            'FECHA_CAMP': ['5/02/2012', '4/2/2012', '2/10/2009', '6/5/2010', '31/11/2010', '7/2/2015']}\n",
    "df_campanias= pd.DataFrame(campanias)\n",
    "print(df_campanias)"
   ]
  },
  {
   "cell_type": "code",
   "execution_count": 122,
   "metadata": {},
   "outputs": [
    {
     "name": "stdout",
     "output_type": "stream",
     "text": [
      "  ID_DPTO ID_CAMPANIA\n",
      "0       1         CA1\n",
      "1       1         CA4\n",
      "2       2         CA2\n",
      "3       3         CA2\n",
      "4       3         CA5\n",
      "5       3         CA6\n",
      "6       4         CA1\n",
      "7       4         CA2\n",
      "8       4         CA3\n",
      "9       4         CA6\n"
     ]
    }
   ],
   "source": [
    "depto_campania = {'ID_DPTO': [\"1\",\"1\",\"2\",\"3\",\"3\",\"3\",\"4\",\"4\",\"4\",\"4\"],\n",
    "                    'ID_CAMPANIA': ['CA1','CA4','CA2','CA2','CA5','CA6','CA1','CA2','CA3','CA6']}\n",
    "df_depto_campania=pd.DataFrame(depto_campania)\n",
    "print(df_depto_campania)"
   ]
  },
  {
   "cell_type": "code",
   "execution_count": 104,
   "metadata": {},
   "outputs": [
    {
     "name": "stdout",
     "output_type": "stream",
     "text": [
      "  TALON REFERENCIA  PRECIO FECHA_VENTA\n",
      "0    01          A   15.00   11/2/2012\n",
      "1    02          A   18.00   15/2/2012\n",
      "2    03          A   14.00   2/10/2013\n",
      "3    04          D   37.95    6/8/2010\n",
      "4    05          E  125.95  31/11/2010\n",
      "5    06          E  150.00    5/2/2011\n",
      "6    07          H   22.99   11/4/2010\n",
      "7    08          H   24.00    8/8/2011\n"
     ]
    }
   ],
   "source": [
    "ventas = {'TALON': ['01','02','03','04','05','06','07','08'],\n",
    "            'REFERENCIA': ['A','A','A','D','E','E','H','H'],\n",
    "            'PRECIO': [15,18,14,37.95,125.95,150,22.99,24],\n",
    "            'FECHA_VENTA': ['11/2/2012','15/2/2012','2/10/2013','6/8/2010','31/11/2010','5/2/2011','11/4/2010','8/8/2011']}\n",
    "df_ventas=pd.DataFrame(ventas)\n",
    "print(df_ventas)"
   ]
  },
  {
   "cell_type": "code",
   "execution_count": null,
   "metadata": {},
   "outputs": [],
   "source": [
    "df_articulos[\"FECHA_ALTA\"].timestamp\n",
    "df_campanias[\"FECHA_CAMP\"].timestamp\n",
    "df_ventas[\"FECHA_VENTA\"].timestamp"
   ]
  },
  {
   "cell_type": "markdown",
   "metadata": {},
   "source": [
    "## 2. Genera una consulta que obtenga la lista ordenada de todas las referencias sin venta"
   ]
  },
  {
   "cell_type": "code",
   "execution_count": 105,
   "metadata": {},
   "outputs": [
    {
     "data": {
      "text/plain": [
       "array(['B', 'C', 'F', 'G'], dtype=object)"
      ]
     },
     "execution_count": 105,
     "metadata": {},
     "output_type": "execute_result"
    }
   ],
   "source": [
    "referencias_en_ventas = df_ventas[\"REFERENCIA\"].unique()\n",
    "referencias_sin_venta=df_articulos[~df_articulos.REFERENCIA.isin(referencias_en_ventas)][\"REFERENCIA\"].unique()\n",
    "referencias_sin_venta\n"
   ]
  },
  {
   "cell_type": "markdown",
   "metadata": {},
   "source": [
    "## 3. Genera una consulta que obtenga las ventas comprendidas entre 2010 y 2011 (ambos incluidos), que estén asociados a una campaña de tipo VENTA y que sean del departamento de JOYERÍA."
   ]
  },
  {
   "cell_type": "code",
   "execution_count": 114,
   "metadata": {},
   "outputs": [
    {
     "data": {
      "text/html": [
       "<div>\n",
       "<style scoped>\n",
       "    .dataframe tbody tr th:only-of-type {\n",
       "        vertical-align: middle;\n",
       "    }\n",
       "\n",
       "    .dataframe tbody tr th {\n",
       "        vertical-align: top;\n",
       "    }\n",
       "\n",
       "    .dataframe thead th {\n",
       "        text-align: right;\n",
       "    }\n",
       "</style>\n",
       "<table border=\"1\" class=\"dataframe\">\n",
       "  <thead>\n",
       "    <tr style=\"text-align: right;\">\n",
       "      <th></th>\n",
       "      <th>REFERENCIA</th>\n",
       "      <th>ID_DPTO</th>\n",
       "      <th>COD_FAMILIA</th>\n",
       "      <th>FECHA_ALTA</th>\n",
       "      <th>DESC_DPTO</th>\n",
       "      <th>TALON</th>\n",
       "      <th>PRECIO</th>\n",
       "      <th>FECHA_VENTA</th>\n",
       "      <th>CLASIFICACION</th>\n",
       "    </tr>\n",
       "  </thead>\n",
       "  <tbody>\n",
       "  </tbody>\n",
       "</table>\n",
       "</div>"
      ],
      "text/plain": [
       "Empty DataFrame\n",
       "Columns: [REFERENCIA, ID_DPTO, COD_FAMILIA, FECHA_ALTA, DESC_DPTO, TALON, PRECIO, FECHA_VENTA, CLASIFICACION]\n",
       "Index: []"
      ]
     },
     "execution_count": 114,
     "metadata": {},
     "output_type": "execute_result"
    }
   ],
   "source": [
    "df_venta_art_joyeria = df_articulos.merge(df_departamento).merge(df_ventas)\n",
    "df_venta_art_joyeria = df_art[df_art.DESC_DPTO == \"Joyeria\"]\n",
    "\n",
    "df_camp_joyeria = df_campanias.merge(df_depto_campania).merge(df_departamento)\n",
    "df_camp_joyeria = df_camp_joyeria[df_camp_joyeria.DESC_DPTO == \"Joyeria\"]\n",
    "fechas_campanias_joyeria = df_camp_joyeria[\"FECHA_CAMP\"].unique()\n",
    "\n",
    "df_venta_art_joyeria[df_venta_art_joyeria.FECHA_VENTA.isin(fechas_campanias_joyeria)]"
   ]
  },
  {
   "cell_type": "markdown",
   "metadata": {},
   "source": [
    "## 4. Genere una consulta que cree un campo “co_ranking” que clasifique en orden ascendente las campañas según el total de venta, siendo 1 la campaña que más ha vendido y N la que menos. (N = Total de campañas)"
   ]
  },
  {
   "cell_type": "code",
   "execution_count": 135,
   "metadata": {},
   "outputs": [
    {
     "data": {
      "text/html": [
       "<div>\n",
       "<style scoped>\n",
       "    .dataframe tbody tr th:only-of-type {\n",
       "        vertical-align: middle;\n",
       "    }\n",
       "\n",
       "    .dataframe tbody tr th {\n",
       "        vertical-align: top;\n",
       "    }\n",
       "\n",
       "    .dataframe thead th {\n",
       "        text-align: right;\n",
       "    }\n",
       "</style>\n",
       "<table border=\"1\" class=\"dataframe\">\n",
       "  <thead>\n",
       "    <tr style=\"text-align: right;\">\n",
       "      <th></th>\n",
       "      <th>PRECIO</th>\n",
       "      <th>CO_RANKING</th>\n",
       "    </tr>\n",
       "    <tr>\n",
       "      <th>ID_CAMPANIA</th>\n",
       "      <th></th>\n",
       "      <th></th>\n",
       "    </tr>\n",
       "  </thead>\n",
       "  <tbody>\n",
       "  </tbody>\n",
       "</table>\n",
       "</div>"
      ],
      "text/plain": [
       "Empty DataFrame\n",
       "Columns: [PRECIO, CO_RANKING]\n",
       "Index: []"
      ]
     },
     "execution_count": 135,
     "metadata": {},
     "output_type": "execute_result"
    }
   ],
   "source": [
    "df_campanias_con_ventas=df_campanias[df_campanias.TIPO == \"VENTA\"]\n",
    "df_campanias_con_ventas\n",
    "\n",
    "df_ventas_en_campanias = df_campanias_con_ventas.merge(df_depto_campania).merge(df_articulos).merge(df_ventas)\n",
    "df_ventas_en_campanias = df_ventas_en_campanias[df_ventas_en_campanias.FECHA_VENTA == df_ventas_en_campanias.FECHA_CAMP]\n",
    "\n",
    "df_ranking_campania = df_ventas_en_campanias.groupby(\"ID_CAMPANIA\").sum()\n",
    "df_ranking_campania\n",
    "\n",
    "df_ranking_campania=df_ranking_campania.sort_values(by=\"PRECIO\")\n",
    "\n",
    "df_ranking_campania[\"CO_RANKING\"] = df_ranking_campania.apply (lambda fila: index+1, axis=1)\n",
    "#print(df_ranking_campania)\n",
    "df_ranking_campania\n"
   ]
  },
  {
   "cell_type": "markdown",
   "metadata": {},
   "source": [
    "## 5. Clasifique todas las ventas en Mayor, Igual o Menor precio respecto a la media de los precios de todas las ventas realizadas."
   ]
  },
  {
   "cell_type": "markdown",
   "metadata": {},
   "source": [
    "**Resultado**:\n",
    "\n",
    "\n",
    "![tablares](img/Tablas-4.png)"
   ]
  },
  {
   "cell_type": "code",
   "execution_count": 75,
   "metadata": {},
   "outputs": [
    {
     "name": "stdout",
     "output_type": "stream",
     "text": [
      "50.98625\n",
      "  TALON REFERENCIA  PRECIO FECHA_VENTA CLASIFICACION\n",
      "0    01          A   15.00   11/2/2012         Menor\n",
      "1    02          A   18.00   15/2/2012         Menor\n",
      "2    03          A   14.00   2/10/2013         Menor\n",
      "3    04          D   37.95    6/8/2010         Menor\n",
      "4    05          E  125.95  31/11/2010         Mayor\n",
      "5    06          E  150.00    5/2/2011         Mayor\n",
      "6    07          H   22.99   11/4/2010         Menor\n",
      "7    08          H   24.00    8/8/2011         Menor\n",
      "  TALON  PRECIO CLASIFICACION\n",
      "0    01   15.00         Menor\n",
      "1    02   18.00         Menor\n",
      "2    03   14.00         Menor\n",
      "3    04   37.95         Menor\n",
      "4    05  125.95         Mayor\n",
      "5    06  150.00         Mayor\n",
      "6    07   22.99         Menor\n",
      "7    08   24.00         Menor\n"
     ]
    }
   ],
   "source": [
    "media=df_ventas[\"PRECIO\"].mean()\n",
    "print(media)\n",
    "def Clasificacion (fila,media):\n",
    "    if fila[\"PRECIO\"]<media:\n",
    "         return \"Menor\"\n",
    "    elif fila[\"PRECIO\"]==media:\n",
    "        return \"Igual\"\n",
    "    else:\n",
    "        return \"Mayor\"\n",
    "    \n",
    "df_ventas[\"CLASIFICACION\"]=df_ventas.apply (lambda fila: Clasificacion (fila,media), axis=1)\n",
    "print (df_ventas)\n",
    "\n",
    "talon_precio=df_ventas.iloc[:,0:5:2]\n",
    "print(talon_precio)"
   ]
  },
  {
   "cell_type": "markdown",
   "metadata": {},
   "source": [
    "# 7. Genere una consulta que para cada campaña de tipo “venta” obtenga el talón medio, precio medio, nº de referencias compradas y nº de talones con venta superior al talón medio."
   ]
  },
  {
   "cell_type": "code",
   "execution_count": 156,
   "metadata": {},
   "outputs": [
    {
     "data": {
      "text/html": [
       "<div>\n",
       "<style scoped>\n",
       "    .dataframe tbody tr th:only-of-type {\n",
       "        vertical-align: middle;\n",
       "    }\n",
       "\n",
       "    .dataframe tbody tr th {\n",
       "        vertical-align: top;\n",
       "    }\n",
       "\n",
       "    .dataframe thead th {\n",
       "        text-align: right;\n",
       "    }\n",
       "</style>\n",
       "<table border=\"1\" class=\"dataframe\">\n",
       "  <thead>\n",
       "    <tr style=\"text-align: right;\">\n",
       "      <th></th>\n",
       "      <th>ID_CAMPANIA</th>\n",
       "      <th>TIPO</th>\n",
       "      <th>FECHA_CAMP</th>\n",
       "      <th>ID_DPTO</th>\n",
       "      <th>REFERENCIA</th>\n",
       "      <th>COD_FAMILIA</th>\n",
       "      <th>FECHA_ALTA</th>\n",
       "      <th>TALON</th>\n",
       "      <th>PRECIO</th>\n",
       "      <th>FECHA_VENTA</th>\n",
       "      <th>CLASIFICACION</th>\n",
       "    </tr>\n",
       "  </thead>\n",
       "  <tbody>\n",
       "  </tbody>\n",
       "</table>\n",
       "</div>"
      ],
      "text/plain": [
       "Empty DataFrame\n",
       "Columns: [ID_CAMPANIA, TIPO, FECHA_CAMP, ID_DPTO, REFERENCIA, COD_FAMILIA, FECHA_ALTA, TALON, PRECIO, FECHA_VENTA, CLASIFICACION]\n",
       "Index: []"
      ]
     },
     "execution_count": 156,
     "metadata": {},
     "output_type": "execute_result"
    }
   ],
   "source": [
    "df_ventas_en_campanias\n",
    "\n",
    "df_ventas_en_campanias.groupby(\"ID_CAMPANIA\").mean()\n",
    "\n",
    "df_ventas_en_campanias.groupby(\"ID_CAMPANIA\").count()\n",
    "\n"
   ]
  },
  {
   "cell_type": "markdown",
   "metadata": {},
   "source": [
    "## 8. Genere una o varias consultas que devulevan las combinaciones de familias y campañas cuya venta haya sido superior a 100€."
   ]
  },
  {
   "cell_type": "code",
   "execution_count": 164,
   "metadata": {},
   "outputs": [
    {
     "data": {
      "text/html": [
       "<div>\n",
       "<style scoped>\n",
       "    .dataframe tbody tr th:only-of-type {\n",
       "        vertical-align: middle;\n",
       "    }\n",
       "\n",
       "    .dataframe tbody tr th {\n",
       "        vertical-align: top;\n",
       "    }\n",
       "\n",
       "    .dataframe thead th {\n",
       "        text-align: right;\n",
       "    }\n",
       "</style>\n",
       "<table border=\"1\" class=\"dataframe\">\n",
       "  <thead>\n",
       "    <tr style=\"text-align: right;\">\n",
       "      <th></th>\n",
       "      <th>PRECIO</th>\n",
       "      <th>ID_DPTO</th>\n",
       "      <th>COD_FAMILIA</th>\n",
       "    </tr>\n",
       "  </thead>\n",
       "  <tbody>\n",
       "    <tr>\n",
       "      <th>0</th>\n",
       "      <td>125.95</td>\n",
       "      <td>2</td>\n",
       "      <td>2F1</td>\n",
       "    </tr>\n",
       "    <tr>\n",
       "      <th>1</th>\n",
       "      <td>150.00</td>\n",
       "      <td>2</td>\n",
       "      <td>2F1</td>\n",
       "    </tr>\n",
       "  </tbody>\n",
       "</table>\n",
       "</div>"
      ],
      "text/plain": [
       "   PRECIO ID_DPTO COD_FAMILIA\n",
       "0  125.95       2         2F1\n",
       "1  150.00       2         2F1"
      ]
     },
     "execution_count": 164,
     "metadata": {},
     "output_type": "execute_result"
    }
   ],
   "source": [
    "df_familias_campanias=df_familias.merge(df_depto_campania).merge(df_campanias).merge(df_articulos)\n",
    "df_familias_campanias\n",
    "\n",
    "df_ventas_mayor_100=df_ventas[df_ventas[\"PRECIO\"]>100]\n",
    "df_ventas_mayor_100\n",
    "\n",
    "df_familias_campanias_ventas_mayor_100=df_ventas_mayor_100.merge(df_familias_campanias)\n",
    "df_familias_campanias_ventas_mayor_100[[\"PRECIO\",\"ID_DPTO\",\"COD_FAMILIA\"]]\n"
   ]
  },
  {
   "cell_type": "markdown",
   "metadata": {},
   "source": [
    "## 9. Genere una o varias consultas que permitan catalogar los artículos vendidos y que no son de la Campaña CA1, según si se tratan de artículos de Ropa o Accesorios. En base a los departamentos y familias. NOTA: Se valorará la elaboración de la consulta y no la veracidad del propio catálogo)"
   ]
  },
  {
   "cell_type": "code",
   "execution_count": null,
   "metadata": {},
   "outputs": [],
   "source": []
  },
  {
   "cell_type": "markdown",
   "metadata": {},
   "source": [
    "## 10. Genere una o varias consultas que devuelvan la variación del total de venta entre años. Tomando como variación la siguiente fórmula $$\\dfrac{Year_{n} – Year_{n-1}}{Year_{n-1}}$$ (Se valorará el control de valores 0 en la división o de indeterminaciones)"
   ]
  },
  {
   "cell_type": "markdown",
   "metadata": {},
   "source": [
    "![tablas5](img/Tablas-5.png)"
   ]
  },
  {
   "cell_type": "code",
   "execution_count": null,
   "metadata": {},
   "outputs": [],
   "source": []
  }
 ],
 "metadata": {
  "interpreter": {
   "hash": "bbecac44435c2c981f643c81cfe05fa1d6ef605eda7f5952ee2b272fedf4993e"
  },
  "kernelspec": {
   "display_name": "Python 3 (ipykernel)",
   "language": "python",
   "name": "python3"
  },
  "language_info": {
   "codemirror_mode": {
    "name": "ipython",
    "version": 3
   },
   "file_extension": ".py",
   "mimetype": "text/x-python",
   "name": "python",
   "nbconvert_exporter": "python",
   "pygments_lexer": "ipython3",
   "version": "3.7.4"
  }
 },
 "nbformat": 4,
 "nbformat_minor": 2
}
