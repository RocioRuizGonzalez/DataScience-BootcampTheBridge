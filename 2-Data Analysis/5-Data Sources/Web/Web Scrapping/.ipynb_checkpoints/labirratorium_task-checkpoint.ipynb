{
 "cells": [
  {
   "cell_type": "markdown",
   "metadata": {
    "id": "QyPiRC5a9RZ2"
   },
   "source": [
    "###  Pasos a seguir en el proceso de 'scraping':\n",
    "\n",
    "1. Encuentra la URL que quieres 'escrapear'.\n",
    "2. Inspecciona la página (código fuente).\n",
    "3. Localiza los datos que necesitas obtener.\n",
    "4. Desarrolla tu código en Python.\n",
    "    1. Crea tu sopa\n",
    "    2. Busca los elementos que cotienen los datos y extráelos\n",
    "5. Ejecuta tu código y obten los datos.\n",
    "6. Alamacena los datos en el formato requerido."
   ]
  },
  {
   "cell_type": "code",
   "execution_count": 5,
   "metadata": {
    "id": "dDcNNE0z9RZ8"
   },
   "outputs": [],
   "source": [
    "# Importamos librerías\n",
    "import requests\n",
    "from bs4 import BeautifulSoup as bs\n",
    "import pandas as pd"
   ]
  },
  {
   "cell_type": "markdown",
   "metadata": {
    "id": "C3PbnMEH9RZ9"
   },
   "source": [
    "## Caso 1: Scraping de un catálogo: Labirratorium"
   ]
  },
  {
   "cell_type": "code",
   "execution_count": 6,
   "metadata": {
    "id": "qMIaXLf-9RZ-"
   },
   "outputs": [],
   "source": [
    "URL = \"https://www.labirratorium.com/es/67-cervezas-por-estilo?page=\""
   ]
  },
  {
   "cell_type": "code",
   "execution_count": 50,
   "metadata": {},
   "outputs": [],
   "source": [
    "url = 'https://www.labirratorium.com/es/67-cervezas-por-estilo?page='\n",
    "pagina = 1\n",
    "r = requests.get(url + str(pagina))\n",
    "soup = bs(r.text,'lxml')"
   ]
  },
  {
   "cell_type": "markdown",
   "metadata": {
    "id": "p_S9x1Yu9RZ-"
   },
   "source": [
    "Queremos obtener un dataFrame con todas las cervezas del catálogo y sus características descritas. Analizamos la página para ver qué tenemos que hacer para conseguirlo"
   ]
  },
  {
   "cell_type": "code",
   "execution_count": null,
   "metadata": {
    "id": "6GfrzXyX9RZ-"
   },
   "outputs": [],
   "source": [
    "# La web tiene XX páginas con XX cervezas listadas en cada página."
   ]
  },
  {
   "cell_type": "markdown",
   "metadata": {
    "id": "0sFxJNuY9RZ_"
   },
   "source": [
    "Hacemos la consulta (request) y creamos la SOPA inicial:"
   ]
  },
  {
   "cell_type": "code",
   "execution_count": 48,
   "metadata": {
    "id": "IYDGo8oT9RZ_"
   },
   "outputs": [
    {
     "name": "stdout",
     "output_type": "stream",
     "text": [
      "{'nombre': 'Boon Oude Kriek 37,5cl', 'precio': '7.15', 'desc': 'Cerveza de fermentación espontánea (Lambic) de 6.5% ABV sin filtrar ni pasteurizar de estilo Kriek, elaborada con cerezas naturales.'}\n",
      "{'nombre': 'Augustiner Lagerbier Hell', 'precio': '2.75', 'desc': <span style=\"color:#999999;\">Cerveza de baja fermentación de estilo Munich Helles de 5.2% ABV,. De color amarillo pajizo, con aromas a malta y cereales. Sabor con toques amargos pero suaves propios de su estilo. </span>}\n",
      "{'nombre': 'Schneider Aventinus Weizen-Eisbock', 'precio': '2.85', 'desc': 'Cerveza de color medio oscuro, aromas alcohólico, toques dulces y alicorados. Sabor dulzón, frutos secos y algo afrutada.\\xa0'}\n",
      "{'nombre': 'Aecht Schlenkerla Rauchbier Weizen', 'precio': '2.7', 'desc': 'Rauchbier (cerveza ahumada) de trigo con 5.2% ABV, de aspecto turbio y sin filtrar. Elaborada con una mezcla de malta de cebada ahumada y malta de trigo sin ahumar.\\xa0'}\n",
      "{'nombre': 'Samuel Adams Boston Lager', 'precio': '2.45', 'desc': 'Apariencia: color ambarino cobrizo y espuma persistente y cremosa'}\n",
      "{'nombre': 'Westmalle Dubbel', 'precio': '2.5', 'desc': 'Cerveza Trapista belga con 7% ABV de color marrón oscuro, aromas dulces y maltosos, cremosa y alcohólica. Sabor ligeramente dulzón y retrogusto alcohólico.'}\n",
      "{'nombre': 'Duchesse De Bourgogne', 'precio': '2.95', 'desc': 'Cerveza belga de estilo Ale Roja de 6.2% ABV de marcado carácter ácido y dulce.'}\n",
      "{'nombre': 'Tripel Karmeliet 33 cl.', 'precio': '2.7', 'desc': 'Cerveza de estilo Belgian Tripel con 8.4% ABV. De color amarillo oro, contiene tres cereales: cebada, avena y trigo. El aroma complejo herbáceo y especiado, cítrico, albaricoque, y notas de especias (clavo). El sabor es herbáceo, especiado y cremoso.'}\n",
      "{'nombre': 'Weihenstephaner Vitus', 'precio': '2.95', 'desc': 'Cerveza refrescante de trigo fuerte y aromática considerada una de las mejores del mundo en su estilo.'}\n",
      "{'nombre': 'Oud Beersel Oude Kriek Vieille 75 cl.', 'precio': '15.25', 'desc': 'Oud Beersel Oude Kriek es una cerveza artesana de Lambic. Oud Beersel madurada en viejas barriles de madera y elaborada con guindas naturales. Las cerezas vienen absortas lentamente en el Lambic, en este modo se desarrolla una cerveza de carácter afrutado y de color rojo rubí.'}\n",
      "{'nombre': 'Weihenstephaner Korbinian', 'precio': '3.2', 'desc': 'Cerveza alemanda de estilo Doppelbock de 7.4% ABV.'}\n",
      "{'nombre': 'Aecht Schlenkerla Rauchbier Märzen', 'precio': '2.65', 'desc': 'Rauchbier (cerveza ahumada) de estilo Marzen de 5.1% ABV. Cerveza de color oscuro, con aromas muy marcados a ahumados, sabor ligeramente salino, un poco amarga y final seco.'}\n",
      "                               nombre precio  \\\n",
      "0              Boon Oude Kriek 37,5cl   7.15   \n",
      "1           Augustiner Lagerbier Hell   2.75   \n",
      "2  Schneider Aventinus Weizen-Eisbock   2.85   \n",
      "3  Aecht Schlenkerla Rauchbier Weizen    2.7   \n",
      "4           Samuel Adams Boston Lager   2.45   \n",
      "\n",
      "                                                desc  \n",
      "0  Cerveza de fermentación espontánea (Lambic) de...  \n",
      "1  [Cerveza de baja fermentación de estilo Munich...  \n",
      "2  Cerveza de color medio oscuro, aromas alcohóli...  \n",
      "3  Rauchbier (cerveza ahumada) de trigo con 5.2% ...  \n",
      "4  Apariencia: color ambarino cobrizo y espuma pe...  \n"
     ]
    }
   ],
   "source": [
    "def extraer_info_producto(href):\n",
    "    r = requests.get(href)\n",
    "    soup = bs(r.text,'lxml')\n",
    "    info = {}\n",
    "    nombre = soup.find(\"h1\", recursive=True).contents[0]\n",
    "    precio = soup.find(\"span\", attrs={\"itemprop\": \"price\"}, recursive=True)['content']\n",
    "    descripcion = soup.find(\"div\", attrs={\"class\": \"product-description\"}, recursive=True).p.contents[0]\n",
    "    info['nombre'] = nombre\n",
    "    info['precio'] = precio\n",
    "    info['desc'] = descripcion\n",
    "    return(info)\n",
    "\n",
    "#extraer_info_producto('https://www.labirratorium.com/es/cerveza-lambic/284-boon-kriek-2013.html')\n",
    "\n",
    "#section class: page-not-found\n",
    "results = soup.find_all('div', class_=\"product-meta\")\n",
    "productos_pagina = pd.DataFrame()\n",
    "\n",
    "for elem in results:\n",
    "    nombre = elem.h3.a.contents[0]\n",
    "    enlace = elem.h3.a['href']\n",
    "    info = extraer_info_producto(enlace)\n",
    "    print(info)\n",
    "    productos_pagina = productos_pagina.append(info, ignore_index=True)\n",
    "    \n",
    "print(productos_pagina.head())"
   ]
  },
  {
   "cell_type": "markdown",
   "metadata": {
    "id": "BQy1OuPr9RaF"
   },
   "source": [
    "Ya tenemos todos los datos que queremos de la cerveza: Agrupamos todo en una lista:"
   ]
  },
  {
   "cell_type": "markdown",
   "metadata": {
    "id": "fkQqvgLS9RaG"
   },
   "source": [
    "### Ya sabemos obtener todos los datos que nos interesan de una cerveza, ahora tenemos que aplicar esta lógica para obtener todas las demás "
   ]
  },
  {
   "cell_type": "markdown",
   "metadata": {
    "id": "hk8euclh9RaG"
   },
   "source": [
    "Construir un DataFrame con \n",
    "\n",
    "Nombre,\tprecio,\tdescripcion corta, descripción larga, ruta imagen, marca, barcode,\tEstilo, Origen, % Alc., % Alc. Exacto, Volumen (Cl), Tipo Fermentación, IBU, IBU Exacto, Color, Envase"
   ]
  },
  {
   "cell_type": "code",
   "execution_count": null,
   "metadata": {
    "id": "3NAHdR_M9RaG",
    "outputId": "e8c9ce8b-d4f6-4ce2-ec45-e7e8fbe23731"
   },
   "outputs": [],
   "source": []
  }
 ],
 "metadata": {
  "colab": {
   "name": "labirratorium_task Juan Jose Rodriguez.ipynb",
   "provenance": []
  },
  "hide_input": false,
  "interpreter": {
   "hash": "7c77fdb427e7cbc9bc1367dd530fc2b36aacdbbde1ac83c85833b10dfa8b831c"
  },
  "kernelspec": {
   "display_name": "Python 3 (ipykernel)",
   "language": "python",
   "name": "python3"
  },
  "language_info": {
   "codemirror_mode": {
    "name": "ipython",
    "version": 3
   },
   "file_extension": ".py",
   "mimetype": "text/x-python",
   "name": "python",
   "nbconvert_exporter": "python",
   "pygments_lexer": "ipython3",
   "version": "3.7.4"
  },
  "metadata": {
   "interpreter": {
    "hash": "5c4d2f1fdcd3716c7a5eea90ad07be30193490dd4e63617705244f5fd89ea793"
   }
  },
  "varInspector": {
   "cols": {
    "lenName": 16,
    "lenType": 16,
    "lenVar": 40
   },
   "kernels_config": {
    "python": {
     "delete_cmd_postfix": "",
     "delete_cmd_prefix": "del ",
     "library": "var_list.py",
     "varRefreshCmd": "print(var_dic_list())"
    },
    "r": {
     "delete_cmd_postfix": ") ",
     "delete_cmd_prefix": "rm(",
     "library": "var_list.r",
     "varRefreshCmd": "cat(var_dic_list()) "
    }
   },
   "types_to_exclude": [
    "module",
    "function",
    "builtin_function_or_method",
    "instance",
    "_Feature"
   ],
   "window_display": false
  }
 },
 "nbformat": 4,
 "nbformat_minor": 1
}
