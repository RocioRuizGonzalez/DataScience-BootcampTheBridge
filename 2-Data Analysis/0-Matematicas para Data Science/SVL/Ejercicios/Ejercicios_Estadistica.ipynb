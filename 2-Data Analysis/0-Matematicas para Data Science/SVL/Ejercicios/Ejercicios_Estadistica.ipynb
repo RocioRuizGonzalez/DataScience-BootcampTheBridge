{
 "cells": [
  {
   "cell_type": "markdown",
   "metadata": {},
   "source": [
    "# Ejercicios de Estadística Descriptiva"
   ]
  },
  {
   "cell_type": "markdown",
   "metadata": {},
   "source": [
    "## Univariante"
   ]
  },
  {
   "cell_type": "markdown",
   "metadata": {},
   "source": [
    "# Ejercicio 1\n",
    "\n",
    "Las cifras dadas en la tabla adjunta corresponden a miligramos de hidroxiprolina absorbidos por 1 miligramo de masa intestinal, analizados en distintos pacientes:\n",
    "\n",
    "| hidroxipolina (mg) | 77.3 | 61.2 | 82.4 | 75.9 | 61 | 70.2 | 65 | 80 |\n",
    "|--------------------|------|------|------|------|----|------|----|----|\n",
    "| nº pacientes       | 3    | 10   | 15   | 13   | 8  | 5    | 2  | 0  |\n",
    "\n",
    "Se pide:\n",
    "\n",
    "1. Confeccionar la tabla de frecuencias.\n",
    "2. Calcular la media, mediana, moda y cuartiles.\n",
    "3. Calcular la desviación típica de la muestra.\n",
    "4. ¿Qué porcentaje de observaciones se concentra en el intervalo $(x −5\\sigma,x +5\\sigma)$?"
   ]
  },
  {
   "cell_type": "code",
   "execution_count": 6,
   "metadata": {},
   "outputs": [],
   "source": [
    "import numpy as np\n",
    "import pandas as pd"
   ]
  },
  {
   "cell_type": "code",
   "execution_count": 7,
   "metadata": {},
   "outputs": [],
   "source": [
    "hidroxipolina=[61,61.2,65,70.2,75.9,77.3,80,82.4]\n",
    "num_pacientes=[8,10,2,5,13,3,0,15]"
   ]
  },
  {
   "cell_type": "code",
   "execution_count": 8,
   "metadata": {},
   "outputs": [
    {
     "data": {
      "text/html": [
       "<div>\n",
       "<style scoped>\n",
       "    .dataframe tbody tr th:only-of-type {\n",
       "        vertical-align: middle;\n",
       "    }\n",
       "\n",
       "    .dataframe tbody tr th {\n",
       "        vertical-align: top;\n",
       "    }\n",
       "\n",
       "    .dataframe thead th {\n",
       "        text-align: right;\n",
       "    }\n",
       "</style>\n",
       "<table border=\"1\" class=\"dataframe\">\n",
       "  <thead>\n",
       "    <tr style=\"text-align: right;\">\n",
       "      <th></th>\n",
       "      <th>x_i</th>\n",
       "      <th>n_i</th>\n",
       "    </tr>\n",
       "  </thead>\n",
       "  <tbody>\n",
       "    <tr>\n",
       "      <th>0</th>\n",
       "      <td>61.0</td>\n",
       "      <td>8</td>\n",
       "    </tr>\n",
       "    <tr>\n",
       "      <th>1</th>\n",
       "      <td>61.2</td>\n",
       "      <td>10</td>\n",
       "    </tr>\n",
       "    <tr>\n",
       "      <th>2</th>\n",
       "      <td>65.0</td>\n",
       "      <td>2</td>\n",
       "    </tr>\n",
       "    <tr>\n",
       "      <th>3</th>\n",
       "      <td>70.2</td>\n",
       "      <td>5</td>\n",
       "    </tr>\n",
       "    <tr>\n",
       "      <th>4</th>\n",
       "      <td>75.9</td>\n",
       "      <td>13</td>\n",
       "    </tr>\n",
       "    <tr>\n",
       "      <th>5</th>\n",
       "      <td>77.3</td>\n",
       "      <td>3</td>\n",
       "    </tr>\n",
       "    <tr>\n",
       "      <th>6</th>\n",
       "      <td>80.0</td>\n",
       "      <td>0</td>\n",
       "    </tr>\n",
       "    <tr>\n",
       "      <th>7</th>\n",
       "      <td>82.4</td>\n",
       "      <td>15</td>\n",
       "    </tr>\n",
       "  </tbody>\n",
       "</table>\n",
       "</div>"
      ],
      "text/plain": [
       "    x_i  n_i\n",
       "0  61.0    8\n",
       "1  61.2   10\n",
       "2  65.0    2\n",
       "3  70.2    5\n",
       "4  75.9   13\n",
       "5  77.3    3\n",
       "6  80.0    0\n",
       "7  82.4   15"
      ]
     },
     "execution_count": 8,
     "metadata": {},
     "output_type": "execute_result"
    }
   ],
   "source": [
    "freq=pd.DataFrame({\"x_i\":hidroxipolina,\"n_i\":num_pacientes})\n",
    "freq"
   ]
  },
  {
   "cell_type": "code",
   "execution_count": 9,
   "metadata": {},
   "outputs": [
    {
     "data": {
      "text/html": [
       "<div>\n",
       "<style scoped>\n",
       "    .dataframe tbody tr th:only-of-type {\n",
       "        vertical-align: middle;\n",
       "    }\n",
       "\n",
       "    .dataframe tbody tr th {\n",
       "        vertical-align: top;\n",
       "    }\n",
       "\n",
       "    .dataframe thead th {\n",
       "        text-align: right;\n",
       "    }\n",
       "</style>\n",
       "<table border=\"1\" class=\"dataframe\">\n",
       "  <thead>\n",
       "    <tr style=\"text-align: right;\">\n",
       "      <th></th>\n",
       "      <th>x_i</th>\n",
       "      <th>n_i</th>\n",
       "      <th>N_i</th>\n",
       "    </tr>\n",
       "  </thead>\n",
       "  <tbody>\n",
       "    <tr>\n",
       "      <th>0</th>\n",
       "      <td>61.0</td>\n",
       "      <td>8</td>\n",
       "      <td>8</td>\n",
       "    </tr>\n",
       "    <tr>\n",
       "      <th>1</th>\n",
       "      <td>61.2</td>\n",
       "      <td>10</td>\n",
       "      <td>18</td>\n",
       "    </tr>\n",
       "    <tr>\n",
       "      <th>2</th>\n",
       "      <td>65.0</td>\n",
       "      <td>2</td>\n",
       "      <td>20</td>\n",
       "    </tr>\n",
       "    <tr>\n",
       "      <th>3</th>\n",
       "      <td>70.2</td>\n",
       "      <td>5</td>\n",
       "      <td>25</td>\n",
       "    </tr>\n",
       "    <tr>\n",
       "      <th>4</th>\n",
       "      <td>75.9</td>\n",
       "      <td>13</td>\n",
       "      <td>38</td>\n",
       "    </tr>\n",
       "    <tr>\n",
       "      <th>5</th>\n",
       "      <td>77.3</td>\n",
       "      <td>3</td>\n",
       "      <td>41</td>\n",
       "    </tr>\n",
       "    <tr>\n",
       "      <th>6</th>\n",
       "      <td>80.0</td>\n",
       "      <td>0</td>\n",
       "      <td>41</td>\n",
       "    </tr>\n",
       "    <tr>\n",
       "      <th>7</th>\n",
       "      <td>82.4</td>\n",
       "      <td>15</td>\n",
       "      <td>56</td>\n",
       "    </tr>\n",
       "  </tbody>\n",
       "</table>\n",
       "</div>"
      ],
      "text/plain": [
       "    x_i  n_i  N_i\n",
       "0  61.0    8    8\n",
       "1  61.2   10   18\n",
       "2  65.0    2   20\n",
       "3  70.2    5   25\n",
       "4  75.9   13   38\n",
       "5  77.3    3   41\n",
       "6  80.0    0   41\n",
       "7  82.4   15   56"
      ]
     },
     "execution_count": 9,
     "metadata": {},
     "output_type": "execute_result"
    }
   ],
   "source": [
    "freq[\"N_i\"]=freq[\"n_i\"].cumsum()\n",
    "freq"
   ]
  },
  {
   "cell_type": "code",
   "execution_count": 10,
   "metadata": {},
   "outputs": [
    {
     "data": {
      "text/html": [
       "<div>\n",
       "<style scoped>\n",
       "    .dataframe tbody tr th:only-of-type {\n",
       "        vertical-align: middle;\n",
       "    }\n",
       "\n",
       "    .dataframe tbody tr th {\n",
       "        vertical-align: top;\n",
       "    }\n",
       "\n",
       "    .dataframe thead th {\n",
       "        text-align: right;\n",
       "    }\n",
       "</style>\n",
       "<table border=\"1\" class=\"dataframe\">\n",
       "  <thead>\n",
       "    <tr style=\"text-align: right;\">\n",
       "      <th></th>\n",
       "      <th>x_i</th>\n",
       "      <th>n_i</th>\n",
       "      <th>N_i</th>\n",
       "      <th>f_i</th>\n",
       "    </tr>\n",
       "  </thead>\n",
       "  <tbody>\n",
       "    <tr>\n",
       "      <th>0</th>\n",
       "      <td>61.0</td>\n",
       "      <td>8</td>\n",
       "      <td>8</td>\n",
       "      <td>0.142857</td>\n",
       "    </tr>\n",
       "    <tr>\n",
       "      <th>1</th>\n",
       "      <td>61.2</td>\n",
       "      <td>10</td>\n",
       "      <td>18</td>\n",
       "      <td>0.178571</td>\n",
       "    </tr>\n",
       "    <tr>\n",
       "      <th>2</th>\n",
       "      <td>65.0</td>\n",
       "      <td>2</td>\n",
       "      <td>20</td>\n",
       "      <td>0.035714</td>\n",
       "    </tr>\n",
       "    <tr>\n",
       "      <th>3</th>\n",
       "      <td>70.2</td>\n",
       "      <td>5</td>\n",
       "      <td>25</td>\n",
       "      <td>0.089286</td>\n",
       "    </tr>\n",
       "    <tr>\n",
       "      <th>4</th>\n",
       "      <td>75.9</td>\n",
       "      <td>13</td>\n",
       "      <td>38</td>\n",
       "      <td>0.232143</td>\n",
       "    </tr>\n",
       "    <tr>\n",
       "      <th>5</th>\n",
       "      <td>77.3</td>\n",
       "      <td>3</td>\n",
       "      <td>41</td>\n",
       "      <td>0.053571</td>\n",
       "    </tr>\n",
       "    <tr>\n",
       "      <th>6</th>\n",
       "      <td>80.0</td>\n",
       "      <td>0</td>\n",
       "      <td>41</td>\n",
       "      <td>0.000000</td>\n",
       "    </tr>\n",
       "    <tr>\n",
       "      <th>7</th>\n",
       "      <td>82.4</td>\n",
       "      <td>15</td>\n",
       "      <td>56</td>\n",
       "      <td>0.267857</td>\n",
       "    </tr>\n",
       "  </tbody>\n",
       "</table>\n",
       "</div>"
      ],
      "text/plain": [
       "    x_i  n_i  N_i       f_i\n",
       "0  61.0    8    8  0.142857\n",
       "1  61.2   10   18  0.178571\n",
       "2  65.0    2   20  0.035714\n",
       "3  70.2    5   25  0.089286\n",
       "4  75.9   13   38  0.232143\n",
       "5  77.3    3   41  0.053571\n",
       "6  80.0    0   41  0.000000\n",
       "7  82.4   15   56  0.267857"
      ]
     },
     "execution_count": 10,
     "metadata": {},
     "output_type": "execute_result"
    }
   ],
   "source": [
    "freq[\"f_i\"]=freq['n_i'] / freq['n_i'].sum()\n",
    "freq"
   ]
  },
  {
   "cell_type": "code",
   "execution_count": 11,
   "metadata": {},
   "outputs": [
    {
     "data": {
      "text/html": [
       "<div>\n",
       "<style scoped>\n",
       "    .dataframe tbody tr th:only-of-type {\n",
       "        vertical-align: middle;\n",
       "    }\n",
       "\n",
       "    .dataframe tbody tr th {\n",
       "        vertical-align: top;\n",
       "    }\n",
       "\n",
       "    .dataframe thead th {\n",
       "        text-align: right;\n",
       "    }\n",
       "</style>\n",
       "<table border=\"1\" class=\"dataframe\">\n",
       "  <thead>\n",
       "    <tr style=\"text-align: right;\">\n",
       "      <th></th>\n",
       "      <th>x_i</th>\n",
       "      <th>n_i</th>\n",
       "      <th>N_i</th>\n",
       "      <th>f_i</th>\n",
       "      <th>F_i</th>\n",
       "    </tr>\n",
       "  </thead>\n",
       "  <tbody>\n",
       "    <tr>\n",
       "      <th>0</th>\n",
       "      <td>61.0</td>\n",
       "      <td>8</td>\n",
       "      <td>8</td>\n",
       "      <td>0.142857</td>\n",
       "      <td>0.142857</td>\n",
       "    </tr>\n",
       "    <tr>\n",
       "      <th>1</th>\n",
       "      <td>61.2</td>\n",
       "      <td>10</td>\n",
       "      <td>18</td>\n",
       "      <td>0.178571</td>\n",
       "      <td>0.321429</td>\n",
       "    </tr>\n",
       "    <tr>\n",
       "      <th>2</th>\n",
       "      <td>65.0</td>\n",
       "      <td>2</td>\n",
       "      <td>20</td>\n",
       "      <td>0.035714</td>\n",
       "      <td>0.357143</td>\n",
       "    </tr>\n",
       "    <tr>\n",
       "      <th>3</th>\n",
       "      <td>70.2</td>\n",
       "      <td>5</td>\n",
       "      <td>25</td>\n",
       "      <td>0.089286</td>\n",
       "      <td>0.446429</td>\n",
       "    </tr>\n",
       "    <tr>\n",
       "      <th>4</th>\n",
       "      <td>75.9</td>\n",
       "      <td>13</td>\n",
       "      <td>38</td>\n",
       "      <td>0.232143</td>\n",
       "      <td>0.678571</td>\n",
       "    </tr>\n",
       "    <tr>\n",
       "      <th>5</th>\n",
       "      <td>77.3</td>\n",
       "      <td>3</td>\n",
       "      <td>41</td>\n",
       "      <td>0.053571</td>\n",
       "      <td>0.732143</td>\n",
       "    </tr>\n",
       "    <tr>\n",
       "      <th>6</th>\n",
       "      <td>80.0</td>\n",
       "      <td>0</td>\n",
       "      <td>41</td>\n",
       "      <td>0.000000</td>\n",
       "      <td>0.732143</td>\n",
       "    </tr>\n",
       "    <tr>\n",
       "      <th>7</th>\n",
       "      <td>82.4</td>\n",
       "      <td>15</td>\n",
       "      <td>56</td>\n",
       "      <td>0.267857</td>\n",
       "      <td>1.000000</td>\n",
       "    </tr>\n",
       "  </tbody>\n",
       "</table>\n",
       "</div>"
      ],
      "text/plain": [
       "    x_i  n_i  N_i       f_i       F_i\n",
       "0  61.0    8    8  0.142857  0.142857\n",
       "1  61.2   10   18  0.178571  0.321429\n",
       "2  65.0    2   20  0.035714  0.357143\n",
       "3  70.2    5   25  0.089286  0.446429\n",
       "4  75.9   13   38  0.232143  0.678571\n",
       "5  77.3    3   41  0.053571  0.732143\n",
       "6  80.0    0   41  0.000000  0.732143\n",
       "7  82.4   15   56  0.267857  1.000000"
      ]
     },
     "execution_count": 11,
     "metadata": {},
     "output_type": "execute_result"
    }
   ],
   "source": [
    "freq['F_i'] = freq['f_i'].cumsum()\n",
    "freq"
   ]
  },
  {
   "cell_type": "code",
   "execution_count": 17,
   "metadata": {},
   "outputs": [
    {
     "data": {
      "text/plain": [
       "72.06428571428572"
      ]
     },
     "execution_count": 17,
     "metadata": {},
     "output_type": "execute_result"
    }
   ],
   "source": [
    "Media=(freq['x_i'] * freq['n_i']).sum() / freq['N_i'].iloc[-1]\n",
    "Media"
   ]
  },
  {
   "cell_type": "code",
   "execution_count": 12,
   "metadata": {},
   "outputs": [
    {
     "data": {
      "text/plain": [
       "75.9"
      ]
     },
     "execution_count": 12,
     "metadata": {},
     "output_type": "execute_result"
    }
   ],
   "source": [
    "Mediana=freq[freq['F_i'] >= 0.5].iloc[0, 0]\n",
    "Mediana"
   ]
  },
  {
   "cell_type": "code",
   "execution_count": 13,
   "metadata": {},
   "outputs": [
    {
     "data": {
      "text/plain": [
       "array([82.4])"
      ]
     },
     "execution_count": 13,
     "metadata": {},
     "output_type": "execute_result"
    }
   ],
   "source": [
    "Moda=freq['x_i'][freq['n_i']==freq['n_i'].max()].values\n",
    "Moda"
   ]
  },
  {
   "cell_type": "code",
   "execution_count": 14,
   "metadata": {},
   "outputs": [
    {
     "data": {
      "text/plain": [
       "61.2"
      ]
     },
     "execution_count": 14,
     "metadata": {},
     "output_type": "execute_result"
    }
   ],
   "source": [
    "Primer_cuartil=freq[freq['F_i'] >= 0.25].iloc[0, 0]\n",
    "Primer_cuartil"
   ]
  },
  {
   "cell_type": "code",
   "execution_count": 15,
   "metadata": {},
   "outputs": [
    {
     "data": {
      "text/plain": [
       "82.4"
      ]
     },
     "execution_count": 15,
     "metadata": {},
     "output_type": "execute_result"
    }
   ],
   "source": [
    "Tercer_cuartil=freq[freq['F_i'] >= 0.75].iloc[0, 0]\n",
    "Tercer_cuartil"
   ]
  },
  {
   "cell_type": "code",
   "execution_count": 18,
   "metadata": {},
   "outputs": [
    {
     "data": {
      "text/plain": [
       "74.15658163265309"
      ]
     },
     "execution_count": 18,
     "metadata": {},
     "output_type": "execute_result"
    }
   ],
   "source": [
    "desviaciones = ((freq['x_i'] - Media)** 2) * freq['n_i']\n",
    "Varianza = desviaciones.sum() / freq['N_i'].iloc[-1]\n",
    "Varianza"
   ]
  },
  {
   "cell_type": "code",
   "execution_count": 19,
   "metadata": {},
   "outputs": [
    {
     "data": {
      "text/plain": [
       "8.611421580241737"
      ]
     },
     "execution_count": 19,
     "metadata": {},
     "output_type": "execute_result"
    }
   ],
   "source": [
    "Desviacion_tipica = Varianza ** 0.5\n",
    "Desviacion_tipica"
   ]
  },
  {
   "cell_type": "code",
   "execution_count": 20,
   "metadata": {},
   "outputs": [
    {
     "name": "stdout",
     "output_type": "stream",
     "text": [
      "El 96.000000% de las observaciones que hagamos estarán en 72.06428571428572 más menos 5 veces 8.611421580241737\n"
     ]
    }
   ],
   "source": [
    "prob=1-1/5**2\n",
    "print(f\"El {prob:-2%} de las observaciones que hagamos estarán en {Media} más menos 5 veces {Desviacion_tipica}\")"
   ]
  },
  {
   "cell_type": "markdown",
   "metadata": {},
   "source": [
    "# Multivariante"
   ]
  },
  {
   "cell_type": "markdown",
   "metadata": {},
   "source": [
    "# Ejercicio 2"
   ]
  },
  {
   "cell_type": "markdown",
   "metadata": {},
   "source": [
    "Los valores del pH sanguíneo de 32 individuos son los siguientes:\n",
    "\n",
    "|7.33 |7.31 |7.26 |7.33 |7.37 |7.27 |7.30 |7.33|\n",
    "|-----|-----|-----|-----|-----|-----|-----|----|\n",
    "|7.33 |7.32 |7.35 |7.39 |7.33 |7.38 |7.33 |7.31|\n",
    "|7.37 |7.35 |7.34 |7.32 |7.29 |7.35 |7.38 |7.32|\n",
    "|7.32 |7.33 |7.32 |7.40 |7.33 |7.32 |7.34 |7.33|\n",
    "\n",
    "1. Agrupar los datos en 5 intervalos y confeccionar la tabla de frecuencias.\n",
    "2. Calcular la media aritmética, la moda y la mediana.\n",
    "3. Hallar el tercer decil.\n",
    "4. Determinar el porcentaje de individuos que se concentra fuera del intervalo $(x −4\\sigma,x +4\\sigma)$"
   ]
  },
  {
   "cell_type": "code",
   "execution_count": 19,
   "metadata": {},
   "outputs": [],
   "source": [
    "import numpy as np\n",
    "import pandas as pd"
   ]
  },
  {
   "cell_type": "code",
   "execution_count": 51,
   "metadata": {},
   "outputs": [
    {
     "data": {
      "text/plain": [
       "7.26    1\n",
       "7.27    1\n",
       "7.29    1\n",
       "7.30    1\n",
       "7.31    2\n",
       "7.32    6\n",
       "7.33    9\n",
       "7.34    2\n",
       "7.35    3\n",
       "7.37    2\n",
       "7.38    2\n",
       "7.39    1\n",
       "7.40    1\n",
       "dtype: int64"
      ]
     },
     "execution_count": 51,
     "metadata": {},
     "output_type": "execute_result"
    }
   ],
   "source": [
    "ls_data=[7.33,7.31,7.26,7.33,7.37,7.27,7.30,7.33,7.33,7.32,7.35,7.39,7.33,7.38,7.33,7.31,7.37,7.35,7.34,7.32,7.29,7.35,7.38,7.32,7.32,7.33,7.32,7.40,7.33,7.32,7.34,7.33]\n",
    "\n",
    "df_sample = pd.DataFrame(ls_data)\n",
    "df_sample.value_counts().sort_index()"
   ]
  },
  {
   "cell_type": "code",
   "execution_count": 52,
   "metadata": {},
   "outputs": [
    {
     "data": {
      "text/plain": [
       "7.4"
      ]
     },
     "execution_count": 52,
     "metadata": {},
     "output_type": "execute_result"
    }
   ],
   "source": [
    "max(ls_data)"
   ]
  },
  {
   "cell_type": "code",
   "execution_count": 53,
   "metadata": {},
   "outputs": [
    {
     "data": {
      "text/plain": [
       "7.26"
      ]
     },
     "execution_count": 53,
     "metadata": {},
     "output_type": "execute_result"
    }
   ],
   "source": [
    "min(ls_data)"
   ]
  },
  {
   "cell_type": "code",
   "execution_count": 54,
   "metadata": {},
   "outputs": [
    {
     "data": {
      "text/plain": [
       "0.028000000000000115"
      ]
     },
     "execution_count": 54,
     "metadata": {},
     "output_type": "execute_result"
    }
   ],
   "source": [
    "size = (max(ls_data) - min(ls_data)) / 5\n",
    "size"
   ]
  },
  {
   "cell_type": "code",
   "execution_count": 90,
   "metadata": {},
   "outputs": [
    {
     "name": "stdout",
     "output_type": "stream",
     "text": [
      "[7.25986 7.288   7.316   7.344   7.372   7.4    ]\n",
      "[7.288 7.316 7.344 7.372 7.4  ]\n"
     ]
    }
   ],
   "source": [
    "out, bins = pd.cut(df_sample[0], 5, retbins=True)\n",
    "\n",
    "print(bins)\n",
    "print(bins[1:])"
   ]
  },
  {
   "cell_type": "code",
   "execution_count": 91,
   "metadata": {},
   "outputs": [
    {
     "name": "stdout",
     "output_type": "stream",
     "text": [
      "[(7.25986, 7.288), (7.288, 7.316), (7.316, 7.344), (7.344, 7.372), (7.372, 7.4)]\n",
      "[7.27393, 7.302, 7.33, 7.3580000000000005, 7.386]\n"
     ]
    }
   ],
   "source": [
    "intervals = list(zip(bins, bins[1:]))\n",
    "print(ls_aux)\n",
    "c_i = [(x + y)/2 for x, y in ls_aux]\n",
    "print(c_i)"
   ]
  },
  {
   "cell_type": "code",
   "execution_count": 92,
   "metadata": {},
   "outputs": [
    {
     "data": {
      "text/html": [
       "<div>\n",
       "<style scoped>\n",
       "    .dataframe tbody tr th:only-of-type {\n",
       "        vertical-align: middle;\n",
       "    }\n",
       "\n",
       "    .dataframe tbody tr th {\n",
       "        vertical-align: top;\n",
       "    }\n",
       "\n",
       "    .dataframe thead th {\n",
       "        text-align: right;\n",
       "    }\n",
       "</style>\n",
       "<table border=\"1\" class=\"dataframe\">\n",
       "  <thead>\n",
       "    <tr style=\"text-align: right;\">\n",
       "      <th></th>\n",
       "      <th>l_i</th>\n",
       "      <th>c_i</th>\n",
       "    </tr>\n",
       "  </thead>\n",
       "  <tbody>\n",
       "    <tr>\n",
       "      <th>0</th>\n",
       "      <td>(7.25986, 7.288)</td>\n",
       "      <td>7.27393</td>\n",
       "    </tr>\n",
       "    <tr>\n",
       "      <th>1</th>\n",
       "      <td>(7.288, 7.316)</td>\n",
       "      <td>7.30200</td>\n",
       "    </tr>\n",
       "    <tr>\n",
       "      <th>2</th>\n",
       "      <td>(7.316, 7.344)</td>\n",
       "      <td>7.33000</td>\n",
       "    </tr>\n",
       "    <tr>\n",
       "      <th>3</th>\n",
       "      <td>(7.344, 7.372)</td>\n",
       "      <td>7.35800</td>\n",
       "    </tr>\n",
       "    <tr>\n",
       "      <th>4</th>\n",
       "      <td>(7.372, 7.4)</td>\n",
       "      <td>7.38600</td>\n",
       "    </tr>\n",
       "  </tbody>\n",
       "</table>\n",
       "</div>"
      ],
      "text/plain": [
       "                l_i      c_i\n",
       "0  (7.25986, 7.288)  7.27393\n",
       "1    (7.288, 7.316)  7.30200\n",
       "2    (7.316, 7.344)  7.33000\n",
       "3    (7.344, 7.372)  7.35800\n",
       "4      (7.372, 7.4)  7.38600"
      ]
     },
     "execution_count": 92,
     "metadata": {},
     "output_type": "execute_result"
    }
   ],
   "source": [
    "df_freq = pd.DataFrame({'l_i':intervals, 'c_i':c_i})\n",
    "df_freq"
   ]
  },
  {
   "cell_type": "code",
   "execution_count": 93,
   "metadata": {},
   "outputs": [
    {
     "data": {
      "text/plain": [
       "{(7.25986, 7.288): 2,\n",
       " (7.288, 7.316): 4,\n",
       " (7.316, 7.344): 17,\n",
       " (7.344, 7.372): 5,\n",
       " (7.372, 7.4): 3}"
      ]
     },
     "execution_count": 93,
     "metadata": {},
     "output_type": "execute_result"
    }
   ],
   "source": [
    "d_intervals = dict(zip(intervals, [0] * len(intervals)))\n",
    "for num in ls_data:\n",
    "    for inter in intervals:\n",
    "        if inter[0] <= num < inter[1]:\n",
    "            d_intervals[inter] += 1\n",
    "\n",
    "\n",
    "d_intervals"
   ]
  },
  {
   "cell_type": "code",
   "execution_count": 96,
   "metadata": {},
   "outputs": [],
   "source": [
    "df_freq['n_i'] = df_freq['l_i'].map(d_intervals)\n",
    "\n",
    "N = df_freq['n_i'].sum()"
   ]
  },
  {
   "cell_type": "code",
   "execution_count": 97,
   "metadata": {},
   "outputs": [
    {
     "data": {
      "text/html": [
       "<div>\n",
       "<style scoped>\n",
       "    .dataframe tbody tr th:only-of-type {\n",
       "        vertical-align: middle;\n",
       "    }\n",
       "\n",
       "    .dataframe tbody tr th {\n",
       "        vertical-align: top;\n",
       "    }\n",
       "\n",
       "    .dataframe thead th {\n",
       "        text-align: right;\n",
       "    }\n",
       "</style>\n",
       "<table border=\"1\" class=\"dataframe\">\n",
       "  <thead>\n",
       "    <tr style=\"text-align: right;\">\n",
       "      <th></th>\n",
       "      <th>l_i</th>\n",
       "      <th>c_i</th>\n",
       "      <th>n_i</th>\n",
       "      <th>f_i</th>\n",
       "      <th>F_i</th>\n",
       "    </tr>\n",
       "  </thead>\n",
       "  <tbody>\n",
       "    <tr>\n",
       "      <th>0</th>\n",
       "      <td>(7.25986, 7.288)</td>\n",
       "      <td>7.27393</td>\n",
       "      <td>2</td>\n",
       "      <td>0.064516</td>\n",
       "      <td>0.064516</td>\n",
       "    </tr>\n",
       "    <tr>\n",
       "      <th>1</th>\n",
       "      <td>(7.288, 7.316)</td>\n",
       "      <td>7.30200</td>\n",
       "      <td>4</td>\n",
       "      <td>0.129032</td>\n",
       "      <td>0.193548</td>\n",
       "    </tr>\n",
       "    <tr>\n",
       "      <th>2</th>\n",
       "      <td>(7.316, 7.344)</td>\n",
       "      <td>7.33000</td>\n",
       "      <td>17</td>\n",
       "      <td>0.548387</td>\n",
       "      <td>0.741935</td>\n",
       "    </tr>\n",
       "    <tr>\n",
       "      <th>3</th>\n",
       "      <td>(7.344, 7.372)</td>\n",
       "      <td>7.35800</td>\n",
       "      <td>5</td>\n",
       "      <td>0.161290</td>\n",
       "      <td>0.903226</td>\n",
       "    </tr>\n",
       "    <tr>\n",
       "      <th>4</th>\n",
       "      <td>(7.372, 7.4)</td>\n",
       "      <td>7.38600</td>\n",
       "      <td>3</td>\n",
       "      <td>0.096774</td>\n",
       "      <td>1.000000</td>\n",
       "    </tr>\n",
       "  </tbody>\n",
       "</table>\n",
       "</div>"
      ],
      "text/plain": [
       "                l_i      c_i  n_i       f_i       F_i\n",
       "0  (7.25986, 7.288)  7.27393    2  0.064516  0.064516\n",
       "1    (7.288, 7.316)  7.30200    4  0.129032  0.193548\n",
       "2    (7.316, 7.344)  7.33000   17  0.548387  0.741935\n",
       "3    (7.344, 7.372)  7.35800    5  0.161290  0.903226\n",
       "4      (7.372, 7.4)  7.38600    3  0.096774  1.000000"
      ]
     },
     "execution_count": 97,
     "metadata": {},
     "output_type": "execute_result"
    }
   ],
   "source": [
    "df_freq['f_i'] = df_freq['n_i'] / N\n",
    "df_freq['F_i'] = df_freq['f_i'].cumsum()\n",
    "df_freq"
   ]
  },
  {
   "cell_type": "code",
   "execution_count": 99,
   "metadata": {},
   "outputs": [
    {
     "data": {
      "text/plain": [
       "0    7.332812\n",
       "dtype: float64"
      ]
     },
     "execution_count": 99,
     "metadata": {},
     "output_type": "execute_result"
    }
   ],
   "source": [
    "media=df_sample.mean()\n",
    "media"
   ]
  },
  {
   "cell_type": "code",
   "execution_count": 100,
   "metadata": {},
   "outputs": [
    {
     "data": {
      "text/html": [
       "<div>\n",
       "<style scoped>\n",
       "    .dataframe tbody tr th:only-of-type {\n",
       "        vertical-align: middle;\n",
       "    }\n",
       "\n",
       "    .dataframe tbody tr th {\n",
       "        vertical-align: top;\n",
       "    }\n",
       "\n",
       "    .dataframe thead th {\n",
       "        text-align: right;\n",
       "    }\n",
       "</style>\n",
       "<table border=\"1\" class=\"dataframe\">\n",
       "  <thead>\n",
       "    <tr style=\"text-align: right;\">\n",
       "      <th></th>\n",
       "      <th>0</th>\n",
       "    </tr>\n",
       "  </thead>\n",
       "  <tbody>\n",
       "    <tr>\n",
       "      <th>0</th>\n",
       "      <td>7.33</td>\n",
       "    </tr>\n",
       "  </tbody>\n",
       "</table>\n",
       "</div>"
      ],
      "text/plain": [
       "      0\n",
       "0  7.33"
      ]
     },
     "execution_count": 100,
     "metadata": {},
     "output_type": "execute_result"
    }
   ],
   "source": [
    "moda=df_sample.mode()\n",
    "moda"
   ]
  },
  {
   "cell_type": "code",
   "execution_count": 101,
   "metadata": {},
   "outputs": [
    {
     "data": {
      "text/plain": [
       "0    7.33\n",
       "dtype: float64"
      ]
     },
     "execution_count": 101,
     "metadata": {},
     "output_type": "execute_result"
    }
   ],
   "source": [
    "mediana=df_sample.median()\n",
    "mediana"
   ]
  },
  {
   "cell_type": "code",
   "execution_count": 103,
   "metadata": {},
   "outputs": [
    {
     "data": {
      "text/plain": [
       "(7.316, 7.344)"
      ]
     },
     "execution_count": 103,
     "metadata": {},
     "output_type": "execute_result"
    }
   ],
   "source": [
    "tercer_decil=df_freq[df_freq['F_i'] >= 0.3].iloc[0, 0]\n",
    "tercer_decil"
   ]
  },
  {
   "cell_type": "markdown",
   "metadata": {},
   "source": [
    "# Ejercicio 3"
   ]
  },
  {
   "cell_type": "markdown",
   "metadata": {},
   "source": [
    "En pacientes con distrofia muscular progresiva (enfermedad de Duchenne), la actividad de creatinquinasa sérica se eleva llamativamente sobre el valor normal de 50 unidades por litro. Los siguientes\n",
    "datos son niveles séricos de creatinquinasa (en unidades por litro) medidos en 24 jóvenes pacientes con la enfermedad confirmada:\n",
    "\n",
    "|3720 |3795 |3340 |5600 |3800 |3580|\n",
    "|-----|-----|-----|-----|-----|----|\n",
    "|5500 |2000 |1570 |2360 |1500 |1840|\n",
    "|3725 |3790 |3345 |3805 |5595 |3575|\n",
    "|1995 |5505 |2055 |1575 |1835 |1505|\n",
    "\n",
    "Se pide:\n",
    "\n",
    "1. Agrupar los datos en 5 intervalos de clase.\n",
    "2. Determinar la media y la desviación típica. Calcular la moda y la mediana.\n",
    "3. Determinar el tercer cuartil, el séptimo decil y el centil 25."
   ]
  },
  {
   "cell_type": "code",
   "execution_count": 104,
   "metadata": {},
   "outputs": [],
   "source": [
    "import numpy as np\n",
    "import pandas as pd"
   ]
  },
  {
   "cell_type": "code",
   "execution_count": 105,
   "metadata": {},
   "outputs": [],
   "source": [
    "ls_data=[3720,3795,3340,5600,3800,3580,5500,2000,1570,2360,1500,1840,3725,3790,3345,3805,5595,3575,1995,5505,2055,1575,1835,1505]"
   ]
  },
  {
   "cell_type": "code",
   "execution_count": 106,
   "metadata": {},
   "outputs": [
    {
     "data": {
      "text/plain": [
       "1500    1\n",
       "1505    1\n",
       "1570    1\n",
       "1575    1\n",
       "1835    1\n",
       "1840    1\n",
       "1995    1\n",
       "2000    1\n",
       "2055    1\n",
       "2360    1\n",
       "3340    1\n",
       "3345    1\n",
       "3575    1\n",
       "3580    1\n",
       "3720    1\n",
       "3725    1\n",
       "3790    1\n",
       "3795    1\n",
       "3800    1\n",
       "3805    1\n",
       "5500    1\n",
       "5505    1\n",
       "5595    1\n",
       "5600    1\n",
       "dtype: int64"
      ]
     },
     "execution_count": 106,
     "metadata": {},
     "output_type": "execute_result"
    }
   ],
   "source": [
    "df_sample = pd.DataFrame(ls_data)\n",
    "df_sample.value_counts().sort_index()"
   ]
  },
  {
   "cell_type": "code",
   "execution_count": 107,
   "metadata": {},
   "outputs": [
    {
     "data": {
      "text/plain": [
       "5600"
      ]
     },
     "execution_count": 107,
     "metadata": {},
     "output_type": "execute_result"
    }
   ],
   "source": [
    "max(ls_data)"
   ]
  },
  {
   "cell_type": "code",
   "execution_count": 108,
   "metadata": {},
   "outputs": [
    {
     "data": {
      "text/plain": [
       "1500"
      ]
     },
     "execution_count": 108,
     "metadata": {},
     "output_type": "execute_result"
    }
   ],
   "source": [
    "min(ls_data)"
   ]
  },
  {
   "cell_type": "code",
   "execution_count": 109,
   "metadata": {},
   "outputs": [
    {
     "data": {
      "text/plain": [
       "820.0"
      ]
     },
     "execution_count": 109,
     "metadata": {},
     "output_type": "execute_result"
    }
   ],
   "source": [
    "size = (max(ls_data) - min(ls_data)) / 5\n",
    "size"
   ]
  },
  {
   "cell_type": "code",
   "execution_count": 110,
   "metadata": {},
   "outputs": [
    {
     "name": "stdout",
     "output_type": "stream",
     "text": [
      "[1495.9 2320.  3140.  3960.  4780.  5600. ]\n",
      "[2320. 3140. 3960. 4780. 5600.]\n"
     ]
    }
   ],
   "source": [
    "out, bins = pd.cut(df_sample[0], 5, retbins=True)\n",
    "\n",
    "print(bins)\n",
    "print(bins[1:])"
   ]
  },
  {
   "cell_type": "code",
   "execution_count": 111,
   "metadata": {},
   "outputs": [
    {
     "name": "stdout",
     "output_type": "stream",
     "text": [
      "[(7.25986, 7.288), (7.288, 7.316), (7.316, 7.344), (7.344, 7.372), (7.372, 7.4)]\n",
      "[7.27393, 7.302, 7.33, 7.3580000000000005, 7.386]\n"
     ]
    }
   ],
   "source": [
    "intervals = list(zip(bins, bins[1:]))\n",
    "print(ls_aux)\n",
    "c_i = [(x + y)/2 for x, y in ls_aux]\n",
    "print(c_i)"
   ]
  },
  {
   "cell_type": "code",
   "execution_count": 112,
   "metadata": {},
   "outputs": [
    {
     "data": {
      "text/html": [
       "<div>\n",
       "<style scoped>\n",
       "    .dataframe tbody tr th:only-of-type {\n",
       "        vertical-align: middle;\n",
       "    }\n",
       "\n",
       "    .dataframe tbody tr th {\n",
       "        vertical-align: top;\n",
       "    }\n",
       "\n",
       "    .dataframe thead th {\n",
       "        text-align: right;\n",
       "    }\n",
       "</style>\n",
       "<table border=\"1\" class=\"dataframe\">\n",
       "  <thead>\n",
       "    <tr style=\"text-align: right;\">\n",
       "      <th></th>\n",
       "      <th>l_i</th>\n",
       "      <th>c_i</th>\n",
       "    </tr>\n",
       "  </thead>\n",
       "  <tbody>\n",
       "    <tr>\n",
       "      <th>0</th>\n",
       "      <td>(1495.9, 2320.0)</td>\n",
       "      <td>7.27393</td>\n",
       "    </tr>\n",
       "    <tr>\n",
       "      <th>1</th>\n",
       "      <td>(2320.0, 3140.0)</td>\n",
       "      <td>7.30200</td>\n",
       "    </tr>\n",
       "    <tr>\n",
       "      <th>2</th>\n",
       "      <td>(3140.0, 3960.0)</td>\n",
       "      <td>7.33000</td>\n",
       "    </tr>\n",
       "    <tr>\n",
       "      <th>3</th>\n",
       "      <td>(3960.0, 4780.0)</td>\n",
       "      <td>7.35800</td>\n",
       "    </tr>\n",
       "    <tr>\n",
       "      <th>4</th>\n",
       "      <td>(4780.0, 5600.0)</td>\n",
       "      <td>7.38600</td>\n",
       "    </tr>\n",
       "  </tbody>\n",
       "</table>\n",
       "</div>"
      ],
      "text/plain": [
       "                l_i      c_i\n",
       "0  (1495.9, 2320.0)  7.27393\n",
       "1  (2320.0, 3140.0)  7.30200\n",
       "2  (3140.0, 3960.0)  7.33000\n",
       "3  (3960.0, 4780.0)  7.35800\n",
       "4  (4780.0, 5600.0)  7.38600"
      ]
     },
     "execution_count": 112,
     "metadata": {},
     "output_type": "execute_result"
    }
   ],
   "source": [
    "df_freq = pd.DataFrame({'l_i':intervals, 'c_i':c_i})\n",
    "df_freq"
   ]
  },
  {
   "cell_type": "code",
   "execution_count": 113,
   "metadata": {},
   "outputs": [
    {
     "data": {
      "text/plain": [
       "{(1495.9, 2320.0): 9,\n",
       " (2320.0, 3140.0): 1,\n",
       " (3140.0, 3960.0): 10,\n",
       " (3960.0, 4780.0): 0,\n",
       " (4780.0, 5600.0): 3}"
      ]
     },
     "execution_count": 113,
     "metadata": {},
     "output_type": "execute_result"
    }
   ],
   "source": [
    "d_intervals = dict(zip(intervals, [0] * len(intervals)))\n",
    "for num in ls_data:\n",
    "    for inter in intervals:\n",
    "        if inter[0] <= num < inter[1]:\n",
    "            d_intervals[inter] += 1\n",
    "\n",
    "\n",
    "d_intervals"
   ]
  },
  {
   "cell_type": "code",
   "execution_count": 114,
   "metadata": {},
   "outputs": [],
   "source": [
    "df_freq['n_i'] = df_freq['l_i'].map(d_intervals)\n",
    "\n",
    "N = df_freq['n_i'].sum()"
   ]
  },
  {
   "cell_type": "code",
   "execution_count": 115,
   "metadata": {},
   "outputs": [
    {
     "data": {
      "text/html": [
       "<div>\n",
       "<style scoped>\n",
       "    .dataframe tbody tr th:only-of-type {\n",
       "        vertical-align: middle;\n",
       "    }\n",
       "\n",
       "    .dataframe tbody tr th {\n",
       "        vertical-align: top;\n",
       "    }\n",
       "\n",
       "    .dataframe thead th {\n",
       "        text-align: right;\n",
       "    }\n",
       "</style>\n",
       "<table border=\"1\" class=\"dataframe\">\n",
       "  <thead>\n",
       "    <tr style=\"text-align: right;\">\n",
       "      <th></th>\n",
       "      <th>l_i</th>\n",
       "      <th>c_i</th>\n",
       "      <th>n_i</th>\n",
       "      <th>f_i</th>\n",
       "      <th>F_i</th>\n",
       "    </tr>\n",
       "  </thead>\n",
       "  <tbody>\n",
       "    <tr>\n",
       "      <th>0</th>\n",
       "      <td>(1495.9, 2320.0)</td>\n",
       "      <td>7.27393</td>\n",
       "      <td>9</td>\n",
       "      <td>0.391304</td>\n",
       "      <td>0.391304</td>\n",
       "    </tr>\n",
       "    <tr>\n",
       "      <th>1</th>\n",
       "      <td>(2320.0, 3140.0)</td>\n",
       "      <td>7.30200</td>\n",
       "      <td>1</td>\n",
       "      <td>0.043478</td>\n",
       "      <td>0.434783</td>\n",
       "    </tr>\n",
       "    <tr>\n",
       "      <th>2</th>\n",
       "      <td>(3140.0, 3960.0)</td>\n",
       "      <td>7.33000</td>\n",
       "      <td>10</td>\n",
       "      <td>0.434783</td>\n",
       "      <td>0.869565</td>\n",
       "    </tr>\n",
       "    <tr>\n",
       "      <th>3</th>\n",
       "      <td>(3960.0, 4780.0)</td>\n",
       "      <td>7.35800</td>\n",
       "      <td>0</td>\n",
       "      <td>0.000000</td>\n",
       "      <td>0.869565</td>\n",
       "    </tr>\n",
       "    <tr>\n",
       "      <th>4</th>\n",
       "      <td>(4780.0, 5600.0)</td>\n",
       "      <td>7.38600</td>\n",
       "      <td>3</td>\n",
       "      <td>0.130435</td>\n",
       "      <td>1.000000</td>\n",
       "    </tr>\n",
       "  </tbody>\n",
       "</table>\n",
       "</div>"
      ],
      "text/plain": [
       "                l_i      c_i  n_i       f_i       F_i\n",
       "0  (1495.9, 2320.0)  7.27393    9  0.391304  0.391304\n",
       "1  (2320.0, 3140.0)  7.30200    1  0.043478  0.434783\n",
       "2  (3140.0, 3960.0)  7.33000   10  0.434783  0.869565\n",
       "3  (3960.0, 4780.0)  7.35800    0  0.000000  0.869565\n",
       "4  (4780.0, 5600.0)  7.38600    3  0.130435  1.000000"
      ]
     },
     "execution_count": 115,
     "metadata": {},
     "output_type": "execute_result"
    }
   ],
   "source": [
    "df_freq['f_i'] = df_freq['n_i'] / N\n",
    "df_freq['F_i'] = df_freq['f_i'].cumsum()\n",
    "df_freq"
   ]
  },
  {
   "cell_type": "code",
   "execution_count": 116,
   "metadata": {},
   "outputs": [
    {
     "data": {
      "text/plain": [
       "0    3204.583333\n",
       "dtype: float64"
      ]
     },
     "execution_count": 116,
     "metadata": {},
     "output_type": "execute_result"
    }
   ],
   "source": [
    "media=df_sample.mean()\n",
    "media"
   ]
  },
  {
   "cell_type": "code",
   "execution_count": 118,
   "metadata": {},
   "outputs": [
    {
     "data": {
      "text/html": [
       "<div>\n",
       "<style scoped>\n",
       "    .dataframe tbody tr th:only-of-type {\n",
       "        vertical-align: middle;\n",
       "    }\n",
       "\n",
       "    .dataframe tbody tr th {\n",
       "        vertical-align: top;\n",
       "    }\n",
       "\n",
       "    .dataframe thead th {\n",
       "        text-align: right;\n",
       "    }\n",
       "</style>\n",
       "<table border=\"1\" class=\"dataframe\">\n",
       "  <thead>\n",
       "    <tr style=\"text-align: right;\">\n",
       "      <th></th>\n",
       "      <th>0</th>\n",
       "    </tr>\n",
       "  </thead>\n",
       "  <tbody>\n",
       "    <tr>\n",
       "      <th>0</th>\n",
       "      <td>1500</td>\n",
       "    </tr>\n",
       "    <tr>\n",
       "      <th>1</th>\n",
       "      <td>1505</td>\n",
       "    </tr>\n",
       "    <tr>\n",
       "      <th>2</th>\n",
       "      <td>1570</td>\n",
       "    </tr>\n",
       "    <tr>\n",
       "      <th>3</th>\n",
       "      <td>1575</td>\n",
       "    </tr>\n",
       "    <tr>\n",
       "      <th>4</th>\n",
       "      <td>1835</td>\n",
       "    </tr>\n",
       "    <tr>\n",
       "      <th>5</th>\n",
       "      <td>1840</td>\n",
       "    </tr>\n",
       "    <tr>\n",
       "      <th>6</th>\n",
       "      <td>1995</td>\n",
       "    </tr>\n",
       "    <tr>\n",
       "      <th>7</th>\n",
       "      <td>2000</td>\n",
       "    </tr>\n",
       "    <tr>\n",
       "      <th>8</th>\n",
       "      <td>2055</td>\n",
       "    </tr>\n",
       "    <tr>\n",
       "      <th>9</th>\n",
       "      <td>2360</td>\n",
       "    </tr>\n",
       "    <tr>\n",
       "      <th>10</th>\n",
       "      <td>3340</td>\n",
       "    </tr>\n",
       "    <tr>\n",
       "      <th>11</th>\n",
       "      <td>3345</td>\n",
       "    </tr>\n",
       "    <tr>\n",
       "      <th>12</th>\n",
       "      <td>3575</td>\n",
       "    </tr>\n",
       "    <tr>\n",
       "      <th>13</th>\n",
       "      <td>3580</td>\n",
       "    </tr>\n",
       "    <tr>\n",
       "      <th>14</th>\n",
       "      <td>3720</td>\n",
       "    </tr>\n",
       "    <tr>\n",
       "      <th>15</th>\n",
       "      <td>3725</td>\n",
       "    </tr>\n",
       "    <tr>\n",
       "      <th>16</th>\n",
       "      <td>3790</td>\n",
       "    </tr>\n",
       "    <tr>\n",
       "      <th>17</th>\n",
       "      <td>3795</td>\n",
       "    </tr>\n",
       "    <tr>\n",
       "      <th>18</th>\n",
       "      <td>3800</td>\n",
       "    </tr>\n",
       "    <tr>\n",
       "      <th>19</th>\n",
       "      <td>3805</td>\n",
       "    </tr>\n",
       "    <tr>\n",
       "      <th>20</th>\n",
       "      <td>5500</td>\n",
       "    </tr>\n",
       "    <tr>\n",
       "      <th>21</th>\n",
       "      <td>5505</td>\n",
       "    </tr>\n",
       "    <tr>\n",
       "      <th>22</th>\n",
       "      <td>5595</td>\n",
       "    </tr>\n",
       "    <tr>\n",
       "      <th>23</th>\n",
       "      <td>5600</td>\n",
       "    </tr>\n",
       "  </tbody>\n",
       "</table>\n",
       "</div>"
      ],
      "text/plain": [
       "       0\n",
       "0   1500\n",
       "1   1505\n",
       "2   1570\n",
       "3   1575\n",
       "4   1835\n",
       "5   1840\n",
       "6   1995\n",
       "7   2000\n",
       "8   2055\n",
       "9   2360\n",
       "10  3340\n",
       "11  3345\n",
       "12  3575\n",
       "13  3580\n",
       "14  3720\n",
       "15  3725\n",
       "16  3790\n",
       "17  3795\n",
       "18  3800\n",
       "19  3805\n",
       "20  5500\n",
       "21  5505\n",
       "22  5595\n",
       "23  5600"
      ]
     },
     "execution_count": 118,
     "metadata": {},
     "output_type": "execute_result"
    }
   ],
   "source": [
    "moda=df_sample.mode()\n",
    "moda"
   ]
  },
  {
   "cell_type": "code",
   "execution_count": 119,
   "metadata": {},
   "outputs": [
    {
     "data": {
      "text/plain": [
       "0    3460.0\n",
       "dtype: float64"
      ]
     },
     "execution_count": 119,
     "metadata": {},
     "output_type": "execute_result"
    }
   ],
   "source": [
    "mediana=df_sample.median()\n",
    "mediana"
   ]
  },
  {
   "cell_type": "code",
   "execution_count": 120,
   "metadata": {},
   "outputs": [
    {
     "data": {
      "text/plain": [
       "0    1355.242842\n",
       "dtype: float64"
      ]
     },
     "execution_count": 120,
     "metadata": {},
     "output_type": "execute_result"
    }
   ],
   "source": [
    "desviacion_tipica=df_sample.std(ddof=0)\n",
    "desviacion_tipica"
   ]
  },
  {
   "cell_type": "code",
   "execution_count": 121,
   "metadata": {},
   "outputs": [
    {
     "data": {
      "text/plain": [
       "(3140.0, 3960.0)"
      ]
     },
     "execution_count": 121,
     "metadata": {},
     "output_type": "execute_result"
    }
   ],
   "source": [
    "tercer_cuartil=df_freq[df_freq['F_i'] >= 0.75].iloc[0, 0]\n",
    "tercer_cuartil"
   ]
  },
  {
   "cell_type": "code",
   "execution_count": 122,
   "metadata": {},
   "outputs": [
    {
     "data": {
      "text/plain": [
       "(3140.0, 3960.0)"
      ]
     },
     "execution_count": 122,
     "metadata": {},
     "output_type": "execute_result"
    }
   ],
   "source": [
    "septimo_decil=df_freq[df_freq['F_i'] >= 0.7].iloc[0, 0]\n",
    "septimo_decil"
   ]
  },
  {
   "cell_type": "code",
   "execution_count": 123,
   "metadata": {},
   "outputs": [
    {
     "data": {
      "text/plain": [
       "(1495.9, 2320.0)"
      ]
     },
     "execution_count": 123,
     "metadata": {},
     "output_type": "execute_result"
    }
   ],
   "source": [
    "centil_25=df_freq[df_freq['F_i'] >= 0.25].iloc[0, 0]\n",
    "centil_25"
   ]
  },
  {
   "cell_type": "markdown",
   "metadata": {},
   "source": []
  }
 ],
 "metadata": {
  "kernelspec": {
   "display_name": "Python 3 (ipykernel)",
   "language": "python",
   "name": "python3"
  },
  "language_info": {
   "codemirror_mode": {
    "name": "ipython",
    "version": 3
   },
   "file_extension": ".py",
   "mimetype": "text/x-python",
   "name": "python",
   "nbconvert_exporter": "python",
   "pygments_lexer": "ipython3",
   "version": "3.7.4"
  },
  "vscode": {
   "interpreter": {
    "hash": "7600a12950a547366bb7a6732117e300ffd26224351912980486e1126c5d0f9a"
   }
  }
 },
 "nbformat": 4,
 "nbformat_minor": 2
}
