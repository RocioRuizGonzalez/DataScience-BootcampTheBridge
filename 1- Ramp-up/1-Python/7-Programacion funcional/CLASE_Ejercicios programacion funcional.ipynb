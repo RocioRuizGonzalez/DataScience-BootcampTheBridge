{
 "cells": [
  {
   "cell_type": "code",
   "execution_count": 1,
   "metadata": {},
   "outputs": [],
   "source": [
    "from functools import reduce"
   ]
  },
  {
   "cell_type": "markdown",
   "metadata": {},
   "source": [
    "![imagen](./img/ejercicios.png)\n",
    "\n",
    "# Ejercicios Programación funcional\n",
    "## Ejercicio 1\n",
    "Utiliza `reduce` para concatenar estas palabras en una frase\n",
    "```Python\n",
    "ejer_1 = (\"to\", \"be\", \"or\", \"not\", \"to\", \"be\", \"that\", \"is\", \"the\", \"question\")\n",
    "```"
   ]
  },
  {
   "cell_type": "code",
   "execution_count": 2,
   "metadata": {},
   "outputs": [
    {
     "name": "stdout",
     "output_type": "stream",
     "text": [
      "to be or not to be that is the question\n"
     ]
    }
   ],
   "source": [
    "\n",
    "ejer_1 = (\"to\", \"be\", \"or\", \"not\", \"to\", \"be\", \"that\", \"is\", \"the\", \"question\")\n",
    "\n",
    "res = reduce(lambda x, y: x + ' ' + y, ejer_1)\n",
    "print(res)"
   ]
  },
  {
   "cell_type": "code",
   "execution_count": 8,
   "metadata": {},
   "outputs": [
    {
     "name": "stdout",
     "output_type": "stream",
     "text": [
      "('be', 'or', 'not', 'to', 'be', 'that', 'is', 'the', 'question')\n",
      "[' be', ' or', ' not', ' to', ' be', ' that', ' is', ' the', ' question']\n",
      "to be or not to be that is the question\n"
     ]
    }
   ],
   "source": [
    "ejer_1_aux = ejer_1[1:]\n",
    "print(ejer_1_aux)\n",
    "\n",
    "ejer_1_sp = list(map(lambda x: ' ' + x, ejer_1_aux))\n",
    "print(ejer_1_sp)\n",
    "\n",
    "res_2 = reduce(lambda x, y: x + y, ejer_1_sp, ejer_1[0])\n",
    "print(res_2)"
   ]
  },
  {
   "cell_type": "markdown",
   "metadata": {},
   "source": [
    "## Ejercicio 2\n",
    "Obtén una nueva tupla con el cuadrado de cada elemento de la siguiente tupla\n",
    "\n",
    "```Python\n",
    "ejer_2 = (1,2,3,4,5)\n",
    "```"
   ]
  },
  {
   "cell_type": "code",
   "execution_count": 9,
   "metadata": {},
   "outputs": [
    {
     "name": "stdout",
     "output_type": "stream",
     "text": [
      "(1, 4, 9, 16, 25)\n"
     ]
    }
   ],
   "source": [
    "ejer_2 = (1,2,3,4,5)\n",
    "\n",
    "ejer_2_2 = tuple(map(lambda x: x**2, ejer_2))\n",
    "\n",
    "print(ejer_2_2)"
   ]
  },
  {
   "cell_type": "markdown",
   "metadata": {},
   "source": [
    "## Ejercicio 3\n",
    "Filtra aquellos elementos que sean multiplos de 3 o de 5\n",
    "```Python\n",
    "ejer_3 = (1,2,3,4,5,15,21,22,33,34,35)\n",
    "```"
   ]
  },
  {
   "cell_type": "code",
   "execution_count": 18,
   "metadata": {},
   "outputs": [
    {
     "name": "stdout",
     "output_type": "stream",
     "text": [
      "[3, 5, 15, 21, 33, 35]\n",
      "[3, 5, 15, 21, 33, 35]\n"
     ]
    }
   ],
   "source": [
    "ejer_3 = (1,2,3,4,5,15,21,22,33,34,35)\n",
    "\n",
    "def mult_num(x):\n",
    "    if (x%3 == 0) | (x%5 == 0):\n",
    "        return True\n",
    "\n",
    "print(list(filter(mult_num, ejer_3)))\n",
    "\n",
    "print(list(filter(lambda x: True if ((x%3 == 0) | (x%5 == 0)) else False, ejer_3)))"
   ]
  },
  {
   "cell_type": "markdown",
   "metadata": {},
   "source": [
    "## Ejercicio 4\n",
    "Convierte la siguiente tupla de pesetas a euros\n",
    "```Python\n",
    "ejer_4 = (1000, 8000, 20000000, 40000000)\n",
    "```"
   ]
  },
  {
   "cell_type": "code",
   "execution_count": 23,
   "metadata": {},
   "outputs": [
    {
     "name": "stdout",
     "output_type": "stream",
     "text": [
      "[6, 48, 120000, 240000]\n"
     ]
    }
   ],
   "source": [
    "ejer_4 = (1000, 8000, 20000000, 40000000)\n",
    "\n",
    "print(list(map(lambda x: int(x * 0.006), ejer_4)))"
   ]
  },
  {
   "cell_type": "markdown",
   "metadata": {},
   "source": [
    "## Ejercicio 5\n",
    "Convierte la siguiente lista de desconocidos a mayusculas\n",
    "```Python\n",
    "ejer_5 = (\"Arya\", \"John\", \"Robb\", \"Bran\", \"Sansa\", \"Rickon\")\n",
    "```"
   ]
  },
  {
   "cell_type": "code",
   "execution_count": 26,
   "metadata": {},
   "outputs": [
    {
     "name": "stdout",
     "output_type": "stream",
     "text": [
      "['ARYA', 'JOHN', 'ROBB', 'BRAN', 'SANSA', 'RICKON']\n",
      "['ARYA', 'JOHN', 'ROBB', 'BRAN', 'SANSA', 'RICKON']\n"
     ]
    }
   ],
   "source": [
    "ejer_5 = (\"Arya\", \"John\", \"Robb\", \"Bran\", \"Sansa\", \"Rickon\")\n",
    "\n",
    "print(list(map(lambda x: x.upper(), ejer_5)))\n",
    "\n",
    "print(list(map(str.upper, ejer_5)))"
   ]
  },
  {
   "cell_type": "markdown",
   "metadata": {},
   "source": [
    "## Ejercicio 6\n",
    "Realiza un conversor de dias de la semana en texto a numerico (1-7), usando `map`.\n",
    "```Python\n",
    "ejer_6 = (\"Lunes\", \"Martes\", \"Miércoles\", \"Jueves\", \"Viernes\", \"Sábado\", \"Domingo\")\n",
    "```"
   ]
  },
  {
   "cell_type": "code",
   "execution_count": 27,
   "metadata": {},
   "outputs": [
    {
     "name": "stdout",
     "output_type": "stream",
     "text": [
      "[1, 2, 3, 4, 5, 6, 7]\n"
     ]
    }
   ],
   "source": [
    "ejer_6 = (\"Lunes\", \"Martes\", \"Miércoles\", \"Jueves\", \"Viernes\", \"Sábado\", \"Domingo\")\n",
    "\n",
    "def weeknum(x):\n",
    "    d_wd2num = {\"Lunes\":1, \"Martes\":2, \"Miércoles\":3, \n",
    "                    \"Jueves\":4, \"Viernes\":5, \"Sábado\":6, \"Domingo\":7\n",
    "                }\n",
    "    return d_wd2num[x]\n",
    "\n",
    "print(list(map(weeknum, ejer_6)))"
   ]
  },
  {
   "cell_type": "markdown",
   "metadata": {},
   "source": [
    "## Ejercicio 7\n",
    "Utiliza `map` para multiplicar elemento a elemento estas dos tuplas\n",
    "```Python\n",
    "ejer_7_1 = (2, 5, 8)\n",
    "ejer_7_2 = (6, 3, 2)\n",
    "```"
   ]
  },
  {
   "cell_type": "code",
   "execution_count": 31,
   "metadata": {},
   "outputs": [
    {
     "data": {
      "text/plain": [
       "[12, 15, 16]"
      ]
     },
     "execution_count": 31,
     "metadata": {},
     "output_type": "execute_result"
    }
   ],
   "source": [
    "ejer_7_1 = (2, 5, 8)\n",
    "ejer_7_2 = (6, 3, 2)\n",
    "\n",
    "# print(list())\n",
    "\n",
    "list(map(lambda x, y: x * y, ejer_7_1, ejer_7_2))"
   ]
  },
  {
   "cell_type": "code",
   "execution_count": 30,
   "metadata": {},
   "outputs": [
    {
     "data": {
      "text/plain": [
       "[12, 15]"
      ]
     },
     "execution_count": 30,
     "metadata": {},
     "output_type": "execute_result"
    }
   ],
   "source": [
    "ejer_7_1 = (2, 5, 8)\n",
    "ejer_7_2 = (6, 3)\n",
    "\n",
    "# print(list())\n",
    "\n",
    "list(map(lambda x, y: x * y, ejer_7_1, ejer_7_2))"
   ]
  },
  {
   "cell_type": "markdown",
   "metadata": {},
   "source": [
    "## Ejercicio 8\n",
    "Crea una tupla nueva con todos los coches que no sean VW :)\n",
    "\n",
    "```Python\n",
    "ejer_8 = (\"VW\", \"Audi\", \"Renault\", \"VW\", \"BMW\")\n",
    "```"
   ]
  },
  {
   "cell_type": "code",
   "execution_count": 39,
   "metadata": {},
   "outputs": [
    {
     "name": "stdout",
     "output_type": "stream",
     "text": [
      "('Audi', 'Renault', 'BMW')\n"
     ]
    }
   ],
   "source": [
    "ejer_8 = (\"VW\", \"Audi\", \"Renault\", \"VW\", \"BMW\")\n",
    "\n",
    "print(tuple(filter(lambda x: x != \"VW\", ejer_8)))"
   ]
  },
  {
   "cell_type": "markdown",
   "metadata": {},
   "source": [
    "## Ejercicio 9\n",
    "Dadas las siguientes fechas en formato string, quedate con aquellas del año 2020\n",
    "\n",
    "```Python\n",
    "ejer_9 = (\"2019-04-08\", \"2020-10-10\", \"2020-01-22\", \"2019-07-13\", \"2019-02-01\")\n",
    "```"
   ]
  },
  {
   "cell_type": "code",
   "execution_count": 43,
   "metadata": {},
   "outputs": [
    {
     "name": "stdout",
     "output_type": "stream",
     "text": [
      "['2020-10-10', '2020-01-22']\n",
      "['2020-10-10', '2020-01-22']\n",
      "['2020-10-10', '2020-01-22']\n"
     ]
    }
   ],
   "source": [
    "ejer_9 = (\"2019-04-08\", \"2020-10-10\", \"2020-01-22\", \"2019-07-13\", \"2019-02-01\")\n",
    "\n",
    "# Forma 1 filter string\n",
    "print(list(filter(lambda x: \"2020\" in x, ejer_9)))\n",
    "\n",
    "# Forma 2 regex\n",
    "import re\n",
    "pat = r'2020-.*'\n",
    "print(list(filter(lambda x: re.match(pat, x), ejer_9)))\n",
    "\n",
    "# Forma 3\n",
    "from datetime import datetime\n",
    "print(list(filter(lambda x: datetime.strptime(x, \"%Y-%M-%d\").year == 2020, ejer_9)))"
   ]
  },
  {
   "cell_type": "code",
   "execution_count": 45,
   "metadata": {},
   "outputs": [
    {
     "name": "stdout",
     "output_type": "stream",
     "text": [
      "['2019-01-08', '2020-01-22', '2019-02-01']\n"
     ]
    }
   ],
   "source": [
    "ejer_9 = (\"2019-01-08\", \"2020-10-10\", \"2020-01-22\", \"2019-07-13\", \"2019-02-01\")\n",
    "\n",
    "# Forma 1 filter string\n",
    "print(list(filter(lambda x: \"-01\" in x, ejer_9)))\n",
    "\n",
    "# # Forma 2 regex\n",
    "# import re\n",
    "# pat = r'2020-.*'\n",
    "# print(list(filter(lambda x: re.match(pat, x), ejer_9)))\n",
    "\n",
    "# # Forma 3\n",
    "# from datetime import datetime\n",
    "# print(list(filter(lambda x: datetime.strptime(x, \"%Y-%M-%d\").year == 2020, ejer_9)))"
   ]
  },
  {
   "cell_type": "code",
   "execution_count": 47,
   "metadata": {},
   "outputs": [
    {
     "name": "stdout",
     "output_type": "stream",
     "text": [
      "['2020-10-10', '2020-01-22']\n"
     ]
    }
   ],
   "source": [
    "ejer_9 = (\"2019-04-08\", \"2020-10-10\", \"2020-01-22\", \"2019-07-13\", \"2019-02-01\")\n",
    "def strtoyear(x):\n",
    "    splited = x.split(\"-\")\n",
    "    if splited[0] == \"2020\":\n",
    "        return x\n",
    "lista_output = filter(strtoyear, ejer_9)\n",
    "print(list(lista_output))"
   ]
  },
  {
   "cell_type": "markdown",
   "metadata": {},
   "source": [
    "## Ejercicio 10\n",
    "Filtra aquellos strings que sean [palíndromos](https://es.wikipedia.org/wiki/Pal%C3%ADndromo)\n",
    "```Python\n",
    "ejer_10 = (\"php\", \"w3r\", \"Python\", \"abcd\", \"Java\", \"aaa\")\n",
    "```"
   ]
  },
  {
   "cell_type": "code",
   "execution_count": 70,
   "metadata": {},
   "outputs": [],
   "source": [
    "def pali(x):\n",
    "    x = x.lower()\n",
    "    pali_rev = x[::-1]\n",
    "    return x == pali_rev\n",
    "\n",
    "def pali_red(x):\n",
    "    x = x.lower()\n",
    "    pali_rev = list(x)\n",
    "    pali_rev.reverse()\n",
    "    pali_rev = reduce(lambda x, y: x + y, pali_rev)\n",
    "    return x == pali_rev\n"
   ]
  },
  {
   "cell_type": "code",
   "execution_count": 71,
   "metadata": {},
   "outputs": [
    {
     "name": "stdout",
     "output_type": "stream",
     "text": [
      "['php', 'aaa']\n",
      "['php', 'aaa']\n"
     ]
    }
   ],
   "source": [
    "ejer_10 = (\"php\", \"w3r\", \"Python\", \"abcd\", \"Java\", \"aaa\")\n",
    "\n",
    "print(list(filter(pali, ejer_10)))\n",
    "print(list(filter(pali_red, ejer_10)))"
   ]
  }
 ],
 "metadata": {
  "interpreter": {
   "hash": "b8ee907ad2201c6d9588d3f44c3076f7bb061a669037d938a152617689572a16"
  },
  "kernelspec": {
   "display_name": "Python 3.7.4 64-bit",
   "language": "python",
   "name": "python3"
  },
  "language_info": {
   "codemirror_mode": {
    "name": "ipython",
    "version": 3
   },
   "file_extension": ".py",
   "mimetype": "text/x-python",
   "name": "python",
   "nbconvert_exporter": "python",
   "pygments_lexer": "ipython3",
   "version": "3.7.4"
  }
 },
 "nbformat": 4,
 "nbformat_minor": 4
}
