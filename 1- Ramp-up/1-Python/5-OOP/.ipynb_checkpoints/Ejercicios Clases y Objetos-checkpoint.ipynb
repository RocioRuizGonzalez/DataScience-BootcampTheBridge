{
 "cells": [
  {
   "cell_type": "markdown",
   "metadata": {},
   "source": [
    "![imagen](./img/ejercicios.png)\n",
    "\n",
    "# Ejercicios Clases y Objetos"
   ]
  },
  {
   "cell_type": "markdown",
   "metadata": {},
   "source": [
    "## Ejercicio 1\n",
    "Somos una empresa que tiene varias tiendas de electrodomesticos. Necesitamos un programa para manejar las tiendas, ver las ventas que han tenido, cuántos empleados hay, etc... Para ello vamos a modelizar la tienda en una clase, que tendrá las siguientes características:\n",
    "* Nombre clase: \"Tienda\"\n",
    "* Atributos comunes:\n",
    "    * Tipo: \"Electrodomésticos\"\n",
    "    * Abierta: True\n",
    "* Atributos propios de cada tienda:\n",
    "    * Nombre - String\n",
    "    * Dirección - String\n",
    "    * Número de empleados - int\n",
    "    * Ventas ultimos 3 meses - Lista de 3 numeros\n",
    "* Método para calcular las ventas de todos los meses, que devuelva un numero con todas las ventas.\n",
    "* Método que calcula la media de ventas de los ultimos meses, por empleado\n",
    "* Método que devuelve en un string el nombre de la tienda, junto con su dirección.\n",
    "* Método que obtiene las ventas del último mes.\n",
    "* Método para dar una proyección de las ventas en caso de haber invertido X dinero en marketing en esa tienda. Siendo X el parámetro de entrada. Si X es menor de 1000, las ventas de los ultimos 3 meses hubiesen sido de (1.2 x ventas), si es mayor o igual de 1000, las ventas hubiesen sido de (1.5 x venta). El método reescribe el atributo de ventas en los últimos 3 meses, y además devuelve las ventas con el aumento.\n",
    "\n",
    "Se pide:\n",
    "1. Implementar la clase \"Tienda\"\n",
    "2. Crear tres tiendas con datos inventados\n",
    "3. Comprueba en al menos una de ellas, todo lo implementado en la clase tienda (sus atributos, media de ventas, ventas/empleado...)\n",
    "3. Calcular las ventas del último mes de todas las tiendas. Para ello usa el bucle `for`\n",
    "4. Imprime por pantalla los nombres de las tiendas cuya dirección lleve el string \"Avenida\"\n",
    "5. Seguro que ya has hecho este apartado... Documenta la clase :)"
   ]
  },
  {
   "cell_type": "code",
   "execution_count": 174,
   "metadata": {},
   "outputs": [],
   "source": [
    "class Tienda:\n",
    "    tipo=\"Electrodomésticos\"\n",
    "    abierta=True\n",
    "    def __init__ (self, nombre, direccion, num_empleados, ventas_ultimos_3_meses):\n",
    "        self.nombre=nombre\n",
    "        self.direccion=direccion\n",
    "        self.num_empleados=num_empleados\n",
    "        self.ventas_ultimos_3_meses=ventas_ultimos_3_meses  \n",
    "        \n",
    "    '''\n",
    "    Método para hacer la suma de las ventas de los últimos 3 meses\n",
    "    '''  \n",
    "    def total_ventas(self):\n",
    "        return sum(self.ventas_ultimos_3_meses)\n",
    "    \n",
    "    '''\n",
    "    Para hacer la media de las ventas por empleado, hacemos la media de las ventas de los últimos 3 meses \n",
    "    y lo dividimo entre el número de empleados\n",
    "    '''\n",
    "    def media_venta_empleado(self):\n",
    "        return self.total_ventas()/(len(self.ventas_ultimos_3_meses)*self.num_empleados)\n",
    "    \n",
    "    '''\n",
    "    Método que devuelve el nombre de la tienda junto con su dirección\n",
    "    '''\n",
    "    def nombre_y_direccion(self):\n",
    "        return self.nombre + \": \" + self.direccion\n",
    "    \n",
    "    \n",
    "    '''\n",
    "    Método que devuelve las ventas del último mes\n",
    "    '''\n",
    "    def ventas_ultimo_mes(self):\n",
    "        return self.ventas_ultimos_3_meses[-1]\n",
    "    \n",
    "    '''\n",
    "    Método para ver la inversión en Marketing\n",
    "    '''\n",
    "    def proyeccion_marketing(self,marketing):\n",
    "        marketing_update=[]\n",
    "        for i in self.ventas_ultimos_3_meses:\n",
    "            if marketing<1000:                \n",
    "                 marketing_update.append(i*1.2)\n",
    "            else: \n",
    "                 marketing_update.append(i*1.5)\n",
    "        \n",
    "        self.cambio_ventas_ultimos_3_meses(marketing_update)\n",
    "        return marketing_update\n",
    "        \n",
    "    def cambio_ventas_ultimos_3_meses (self,ventas_ultimos_3_meses):\n",
    "        self.ventas_ultimos_3_meses=ventas_ultimos_3_meses\n",
    "        \n"
   ]
  },
  {
   "cell_type": "code",
   "execution_count": 167,
   "metadata": {},
   "outputs": [],
   "source": [
    "Tienda_1=Tienda(\"detodo\", \"Sierpes\", 4, [30000, 32000, 31500])\n",
    "Tienda_2=Tienda(\"superelectro\", \"Jose Gestoso\", 2, [25000,28000, 30000])\n",
    "Tienda_3=Tienda(\"electrotenia\", \"Plaza Magdalena\", 5, [50000, 47000, 52700])"
   ]
  },
  {
   "cell_type": "code",
   "execution_count": 168,
   "metadata": {},
   "outputs": [
    {
     "name": "stdout",
     "output_type": "stream",
     "text": [
      "93500\n"
     ]
    }
   ],
   "source": [
    "print(Tienda_1.total_ventas())"
   ]
  },
  {
   "cell_type": "code",
   "execution_count": 169,
   "metadata": {},
   "outputs": [
    {
     "name": "stdout",
     "output_type": "stream",
     "text": [
      "7791.666666666667\n"
     ]
    }
   ],
   "source": [
    "print(Tienda_1.media_venta_empleado())"
   ]
  },
  {
   "cell_type": "code",
   "execution_count": 170,
   "metadata": {},
   "outputs": [
    {
     "name": "stdout",
     "output_type": "stream",
     "text": [
      "detodo: Sierpes\n"
     ]
    }
   ],
   "source": [
    "print(Tienda_1.nombre_y_direccion())"
   ]
  },
  {
   "cell_type": "code",
   "execution_count": 171,
   "metadata": {},
   "outputs": [
    {
     "name": "stdout",
     "output_type": "stream",
     "text": [
      "31500\n"
     ]
    }
   ],
   "source": [
    "print(Tienda_1.ventas_ultimo_mes())"
   ]
  },
  {
   "cell_type": "code",
   "execution_count": 172,
   "metadata": {},
   "outputs": [
    {
     "name": "stdout",
     "output_type": "stream",
     "text": [
      "[36000.0, 38400.0, 37800.0]\n",
      "[54000.0, 57600.0, 56700.0]\n"
     ]
    }
   ],
   "source": [
    "print(Tienda_1.proyeccion_marketing(600))\n",
    "\n",
    "print(Tienda_1.proyeccion_marketing(2000))"
   ]
  },
  {
   "cell_type": "code",
   "execution_count": 202,
   "metadata": {},
   "outputs": [],
   "source": [
    "'''\n",
    "Ver las ventas de todas las tiendas en el último mes (bucle for)\n",
    "'''    \n",
    "def tiendas_ventas_ultimo_mes(tiendas_ventas):\n",
    "    ventas=0\n",
    "    for tienda in tiendas_ventas:\n",
    "        ventas = ventas + tienda.ventas_ultimo_mes()\n",
    "    return ventas\n",
    "            \n",
    "'''\n",
    "Ver todas las tiendas que contienen la palabra Plaza en su dirección\n",
    "'''\n",
    "def nombre_con_plaza(tiendas):\n",
    "    for i in tiendas:\n",
    "        if i.direccion.find(\"Plaza\")>-1:\n",
    "            print (i.nombre_y_direccion())"
   ]
  },
  {
   "cell_type": "code",
   "execution_count": 203,
   "metadata": {},
   "outputs": [
    {
     "name": "stdout",
     "output_type": "stream",
     "text": [
      "139400.0\n"
     ]
    }
   ],
   "source": [
    "total_todas_tiendas = tiendas_ventas_ultimo_mes([Tienda_1, Tienda_2, Tienda_3])\n",
    "\n",
    "print(total_todas_tiendas)"
   ]
  },
  {
   "cell_type": "code",
   "execution_count": 205,
   "metadata": {},
   "outputs": [
    {
     "name": "stdout",
     "output_type": "stream",
     "text": [
      "electrotenia: Plaza Magdalena\n"
     ]
    }
   ],
   "source": [
    "tiendas_en_plaza= nombre_con_plaza([Tienda_1, Tienda_2, Tienda_3])"
   ]
  },
  {
   "cell_type": "markdown",
   "metadata": {},
   "source": [
    "## Ejercicio 2\n",
    "En este ejercicio vamos a implementar una clase *Perro* en Python. La clase tiene las siguientes características:\n",
    "* Cosas que sabemos seguro que tiene un perro\n",
    "    * Tiene 4 patas\n",
    "    * 2 orejas\n",
    "    * 2 ojos\n",
    "    * Una velocidad de 0. Por defecto, el perro está parado\n",
    "* Cuando se inicialice:\n",
    "    * El perro será de una determinada raza\n",
    "    * Por defecto tendrá pelo \"Marrón\", a no ser que se diga lo contrario.\n",
    "    * Por defecto no tendrá dueño, a no ser que se diga lo contrario.\n",
    "    \n",
    "* Dispondrá también de un método llamado andar, que tiene un argumento de entrada (aumento_velocidad). Este valor se le sumará a la velocidad que ya llevaba el perro.\n",
    "* Necesita otro método (parar), donde pondremos la velocidad a 0.\n",
    "* Otro método llamado \"ladrar\", que tendrá un argumento de entrada, y la salida será el siguiente string: \"GUAU!\" + el argumento de entrada.\n",
    "\n",
    "\n",
    "Se pide:\n",
    "* Implementa la clase *Perro*\n",
    "* Crea un objeto de tipo *Perro*, sin dueño\n",
    "* Comprueba que están bien todos sus atributos\n",
    "* Prueba que ande, y comprueba su velocidad\n",
    "* Páralo\n",
    "* Documenta la clase *Perro*"
   ]
  },
  {
   "cell_type": "code",
   "execution_count": 245,
   "metadata": {},
   "outputs": [],
   "source": [
    "class Perro:\n",
    "    patas=4\n",
    "    orejas=2\n",
    "    ojos=2\n",
    "    velocidad=0\n",
    "    \n",
    "    '''\n",
    "    Creando los atributos\n",
    "    '''    \n",
    "    \n",
    "    def __init__(self,raza,pelo=\"marron\", propiedad=\"No dueño\"):\n",
    "        self.raza=raza\n",
    "        self.pelo=pelo\n",
    "        self.propiedad=propiedad\n",
    "        \n",
    "    '''\n",
    "    Método andar\n",
    "    '''\n",
    "        \n",
    "    def andar (self, aumento_velocidad):\n",
    "        self.velocidad=self.velocidad + aumento_velocidad\n",
    "        \n",
    "    '''\n",
    "    Método parar\n",
    "    '''\n",
    "    \n",
    "    def parar(self):\n",
    "        self.velocidad=0\n",
    "        \n",
    "    '''\n",
    "    Método ladrar\n",
    "    '''\n",
    "    \n",
    "    def ladrar (ladrido):\n",
    "        return f\"GUAU!\" + {ladrido}\n",
    "        \n",
    "        \n",
    "    "
   ]
  },
  {
   "cell_type": "code",
   "execution_count": 247,
   "metadata": {},
   "outputs": [],
   "source": [
    "Perro_1=Perro(\"chiguagua\", 10)"
   ]
  },
  {
   "cell_type": "code",
   "execution_count": 240,
   "metadata": {},
   "outputs": [
    {
     "name": "stdout",
     "output_type": "stream",
     "text": [
      "chiguagua\n"
     ]
    }
   ],
   "source": [
    "print(Perro_1.raza)"
   ]
  },
  {
   "cell_type": "code",
   "execution_count": 241,
   "metadata": {},
   "outputs": [
    {
     "name": "stdout",
     "output_type": "stream",
     "text": [
      "rubio\n"
     ]
    }
   ],
   "source": [
    "print(Perro_1.pelo)"
   ]
  },
  {
   "cell_type": "code",
   "execution_count": 242,
   "metadata": {},
   "outputs": [
    {
     "name": "stdout",
     "output_type": "stream",
     "text": [
      "20\n"
     ]
    }
   ],
   "source": [
    "Perro_1.andar (20)\n",
    "print(Perro_1.velocidad)"
   ]
  },
  {
   "cell_type": "code",
   "execution_count": 243,
   "metadata": {},
   "outputs": [
    {
     "name": "stdout",
     "output_type": "stream",
     "text": [
      "0\n"
     ]
    }
   ],
   "source": [
    "Perro_1.parar ()\n",
    "print (Perro_1.velocidad)"
   ]
  },
  {
   "cell_type": "code",
   "execution_count": 244,
   "metadata": {},
   "outputs": [
    {
     "name": "stdout",
     "output_type": "stream",
     "text": [
      "<bound method Perro.ladrar of <__main__.Perro object at 0x000001624799E588>>\n"
     ]
    }
   ],
   "source": [
    "Perro_1.ladrar (\"que te calles!\")\n",
    "print (Perro_1.ladrar)"
   ]
  },
  {
   "cell_type": "code",
   "execution_count": null,
   "metadata": {},
   "outputs": [],
   "source": []
  }
 ],
 "metadata": {
  "kernelspec": {
   "display_name": "Python 3 (ipykernel)",
   "language": "python",
   "name": "python3"
  },
  "language_info": {
   "codemirror_mode": {
    "name": "ipython",
    "version": 3
   },
   "file_extension": ".py",
   "mimetype": "text/x-python",
   "name": "python",
   "nbconvert_exporter": "python",
   "pygments_lexer": "ipython3",
   "version": "3.7.4"
  }
 },
 "nbformat": 4,
 "nbformat_minor": 4
}
