{
 "cells": [
  {
   "cell_type": "code",
   "execution_count": 2,
   "metadata": {},
   "outputs": [
    {
     "data": {
      "text/plain": [
       "b'<!doctype html>\\n<html lang=en>\\n<title>404 Not Found</title>\\n<h1>Not Found</h1>\\n<p>The requested URL was not found on the server. If you entered the URL manually please check your spelling and try again.</p>\\n'"
      ]
     },
     "execution_count": 2,
     "metadata": {},
     "output_type": "execute_result"
    }
   ],
   "source": [
    "import requests\n",
    "root_path=\"http://127.0.0.1:5000\"\n",
    "response=requests.get(root_path)\n",
    "response.content"
   ]
  },
  {
   "cell_type": "code",
   "execution_count": 9,
   "metadata": {},
   "outputs": [
    {
     "data": {
      "text/plain": [
       "[{'author': 'Ursula K. Le Guin',\n",
       "  'first_sentence': 'With a clamor of bells that set the swallows soaring, the Festival of Summer came to the city Omelas, bright-towered by the sea.',\n",
       "  'id': 1,\n",
       "  'published': '1973',\n",
       "  'title': 'The Ones Who Walk Away From Omelas'}]"
      ]
     },
     "execution_count": 9,
     "metadata": {},
     "output_type": "execute_result"
    }
   ],
   "source": [
    "url_id=\"/api/v1/resources/books\"\n",
    "id=1\n",
    "response=requests.get(root_path+url_id+f\"?id={id}\")\n",
    "response.json()"
   ]
  },
  {
   "cell_type": "code",
   "execution_count": 5,
   "metadata": {},
   "outputs": [
    {
     "data": {
      "text/plain": [
       "b'<h1>Distant Reading Archive</h1><p>This site is a prototype API for distant reading of science fiction novels.</p>'"
      ]
     },
     "execution_count": 5,
     "metadata": {},
     "output_type": "execute_result"
    }
   ],
   "source": [
    "url_title=\"/api/v1/resources/books\"\n",
    "title=\"The Ones Who Walk Away From Omelas\"\n",
    "title=title.replace(\" \",\"%20\")\n",
    "\n",
    "response=requests.get(root_path+url_title+title{title}\")\n",
    "response.json()"
   ]
  },
  {
   "cell_type": "code",
   "execution_count": null,
   "metadata": {},
   "outputs": [],
   "source": [
    "url_id=\"/api/v1/resources/books\"\n",
    "body={\"id\":\"1\"}\n",
    "response=requests.get(root_path+url_id,json=body)\n",
    "response.json()"
   ]
  }
 ],
 "metadata": {
  "kernelspec": {
   "display_name": "Python 3",
   "language": "python",
   "name": "python3"
  },
  "language_info": {
   "codemirror_mode": {
    "name": "ipython",
    "version": 3
   },
   "file_extension": ".py",
   "mimetype": "text/x-python",
   "name": "python",
   "nbconvert_exporter": "python",
   "pygments_lexer": "ipython3",
   "version": "3.7.4"
  },
  "orig_nbformat": 4,
  "vscode": {
   "interpreter": {
    "hash": "14374c167b9d94b221ba82ad6ca64b6a438b64cfd78be01f83f58990cbda8a04"
   }
  }
 },
 "nbformat": 4,
 "nbformat_minor": 2
}
