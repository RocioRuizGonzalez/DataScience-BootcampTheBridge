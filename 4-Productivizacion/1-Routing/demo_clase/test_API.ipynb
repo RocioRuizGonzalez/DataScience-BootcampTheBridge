{
 "cells": [
  {
   "cell_type": "code",
   "execution_count": 2,
   "metadata": {},
   "outputs": [
    {
     "data": {
      "text/plain": [
       "'<!doctype html>\\n<html lang=en>\\n<title>404 Not Found</title>\\n<h1>Not Found</h1>\\n<p>The requested URL was not found on the server. If you entered the URL manually please check your spelling and try again.</p>\\n'"
      ]
     },
     "execution_count": 2,
     "metadata": {},
     "output_type": "execute_result"
    }
   ],
   "source": [
    "import requests\n",
    "\n",
    "root_path = \"http://127.0.0.1:5000\"\n",
    "response = requests.get(root_path)\n",
    "response.text"
   ]
  },
  {
   "cell_type": "code",
   "execution_count": 3,
   "metadata": {},
   "outputs": [
    {
     "data": {
      "text/plain": [
       "[{'author': 'Vernor Vinge',\n",
       "  'first_sentence': 'The coldsleep itself was dreamless.',\n",
       "  'id': 0,\n",
       "  'title': 'A Fire Upon the Deep',\n",
       "  'year_published': '1992'},\n",
       " {'author': 'Ursula K. Le Guin',\n",
       "  'first_sentence': 'With a clamor of bells that set the swallows soaring, the Festival of Summer came to the city Omelas, bright-towered by the sea.',\n",
       "  'id': 1,\n",
       "  'published': '1973',\n",
       "  'title': 'The Ones Who Walk Away From Omelas'},\n",
       " {'author': 'Samuel R. Delany',\n",
       "  'first_sentence': 'to wound the autumnal city.',\n",
       "  'id': 2,\n",
       "  'published': '1975',\n",
       "  'title': 'Dhalgren'}]"
      ]
     },
     "execution_count": 3,
     "metadata": {},
     "output_type": "execute_result"
    }
   ],
   "source": [
    "url_all = \"/api/v1/resources/books/all\"\n",
    "response = requests.get(root_path + url_all)\n",
    "response.json()"
   ]
  },
  {
   "cell_type": "code",
   "execution_count": 7,
   "metadata": {},
   "outputs": [
    {
     "data": {
      "text/plain": [
       "200"
      ]
     },
     "execution_count": 7,
     "metadata": {},
     "output_type": "execute_result"
    }
   ],
   "source": [
    "response.status_code"
   ]
  },
  {
   "cell_type": "code",
   "execution_count": 9,
   "metadata": {},
   "outputs": [
    {
     "data": {
      "text/plain": [
       "[{'author': 'Ursula K. Le Guin',\n",
       "  'first_sentence': 'With a clamor of bells that set the swallows soaring, the Festival of Summer came to the city Omelas, bright-towered by the sea.',\n",
       "  'id': 1,\n",
       "  'published': '1973',\n",
       "  'title': 'The Ones Who Walk Away From Omelas'}]"
      ]
     },
     "execution_count": 9,
     "metadata": {},
     "output_type": "execute_result"
    }
   ],
   "source": [
    "url_id = \"/api/v1/resources/books\"\n",
    "id = 1\n",
    "response = requests.get(root_path + url_id + f'?id={id}')\n",
    "response.json()"
   ]
  },
  {
   "cell_type": "code",
   "execution_count": 12,
   "metadata": {},
   "outputs": [
    {
     "name": "stdout",
     "output_type": "stream",
     "text": [
      "[{'author': 'Ursula K. Le Guin', 'first_sentence': 'With a clamor of bells that set the swallows soaring, the Festival of Summer came to the city Omelas, bright-towered by the sea.', 'id': 1, 'published': '1973', 'title': 'The Ones Who Walk Away From Omelas'}]\n"
     ]
    }
   ],
   "source": [
    "url_title = '/api/v1/resources/books/'\n",
    "title = 'The Ones Who Walk Away From Omelas'\n",
    "title = title.replace(' ', '%20')\n",
    "\n",
    "response = requests.get(root_path + url_title + title)\n",
    "\n",
    "print(response.json())"
   ]
  },
  {
   "cell_type": "code",
   "execution_count": 17,
   "metadata": {},
   "outputs": [
    {
     "data": {
      "text/plain": [
       "{'author': 'Ursula K. Le Guin',\n",
       " 'first_sentence': 'With a clamor of bells that set the swallows soaring, the Festival of Summer came to the city Omelas, bright-towered by the sea.',\n",
       " 'id': 1,\n",
       " 'published': '1973',\n",
       " 'title': 'The Ones Who Walk Away From Omelas'}"
      ]
     },
     "execution_count": 17,
     "metadata": {},
     "output_type": "execute_result"
    }
   ],
   "source": [
    "url_id = \"/api/v2/resources/books\"\n",
    "body = {\"id\":1}\n",
    "response = requests.get(root_path + url_id, json=body)\n",
    "response.json()"
   ]
  },
  {
   "cell_type": "code",
   "execution_count": 22,
   "metadata": {},
   "outputs": [
    {
     "data": {
      "text/plain": [
       "{'author': 'Miguel de Cervantes',\n",
       " 'first_sentence': 'En un lugar de La Mancha...',\n",
       " 'id': 3,\n",
       " 'published': '1605',\n",
       " 'title': 'Don Quijote de La Mancha'}"
      ]
     },
     "execution_count": 22,
     "metadata": {},
     "output_type": "execute_result"
    }
   ],
   "source": [
    "body = {\n",
    "        'id': 3, \n",
    "        'title': 'Don Quijote de La Mancha', \n",
    "        'author': 'Miguel de Cervantes', \n",
    "        'first_sentence': 'En un lugar de La Mancha...', \n",
    "        'published': '1605'\n",
    "        }\n",
    "\n",
    "url_id = \"/api/v1/resources/books\"\n",
    "response = requests.post(root_path + url_id, json=body)\n",
    "response.json()"
   ]
  },
  {
   "cell_type": "code",
   "execution_count": 23,
   "metadata": {},
   "outputs": [
    {
     "data": {
      "text/plain": [
       "201"
      ]
     },
     "execution_count": 23,
     "metadata": {},
     "output_type": "execute_result"
    }
   ],
   "source": [
    "response.status_code"
   ]
  }
 ],
 "metadata": {
  "kernelspec": {
   "display_name": "Python 3",
   "language": "python",
   "name": "python3"
  },
  "language_info": {
   "codemirror_mode": {
    "name": "ipython",
    "version": 3
   },
   "file_extension": ".py",
   "mimetype": "text/x-python",
   "name": "python",
   "nbconvert_exporter": "python",
   "pygments_lexer": "ipython3",
   "version": "3.10.8 (tags/v3.10.8:aaaf517, Oct 11 2022, 16:50:30) [MSC v.1933 64 bit (AMD64)]"
  },
  "orig_nbformat": 4,
  "vscode": {
   "interpreter": {
    "hash": "7600a12950a547366bb7a6732117e300ffd26224351912980486e1126c5d0f9a"
   }
  }
 },
 "nbformat": 4,
 "nbformat_minor": 2
}
