{
 "cells": [
  {
   "cell_type": "markdown",
   "metadata": {},
   "source": [
    "![imagen](./img/ejercicios.png)"
   ]
  },
  {
   "cell_type": "markdown",
   "metadata": {},
   "source": [
    "## Ejercicio 1\n",
    "Dada la siguiente lista:\n",
    "> ```ejer_1 = [1,2,3,4,5]```\n",
    "\n",
    "Inviértela para que quede de la siguiente manera\n",
    "> ```ejer_1 = [5,4,3,2,1]```"
   ]
  },
  {
   "cell_type": "code",
   "execution_count": 3,
   "metadata": {},
   "outputs": [
    {
     "name": "stdout",
     "output_type": "stream",
     "text": [
      "[5, 4, 3, 2, 1]\n"
     ]
    }
   ],
   "source": [
    "ejer_1=[1,2,3,4,5]\n",
    "rev=list(reversed(ejer_1))\n",
    "print(rev)"
   ]
  },
  {
   "cell_type": "markdown",
   "metadata": {},
   "source": [
    "## Ejercicio 2\n",
    "Eleva todos los elementos de la lista al cuadrado\n",
    "> ```ejer_2 = [1,2,3,4,5]```"
   ]
  },
  {
   "cell_type": "code",
   "execution_count": 10,
   "metadata": {},
   "outputs": [
    {
     "name": "stdout",
     "output_type": "stream",
     "text": [
      "1 4 9 16 25 "
     ]
    }
   ],
   "source": [
    "ejer_2=[1,2,3,4,5]\n",
    "for i in ejer_2:\n",
    "    print(i**2,end=\" \")"
   ]
  },
  {
   "cell_type": "markdown",
   "metadata": {},
   "source": [
    "## Ejercicio 3\n",
    "Crea una lista nueva con todas las combinaciones de las siguientes dos listas:\n",
    "> ```ejer_3_1 = [\"Hola\", \"amigo\"]```\n",
    ">\n",
    "> ```ejer_3_2 = [\"Que\", \"tal\"]```\n",
    "\n",
    "Obten el siguiente output:\n",
    "\n",
    "['Hola Que', 'Hola tal', 'amigo Que', 'amigo tal']"
   ]
  },
  {
   "cell_type": "code",
   "execution_count": 2,
   "metadata": {},
   "outputs": [
    {
     "name": "stdout",
     "output_type": "stream",
     "text": [
      "['Hola Que´, `Hola tal´, `amigo Que´, `amigo tal']\n"
     ]
    }
   ],
   "source": [
    "ejer_3_1 = [\"Hola\", \"amigo\"]\n",
    "ejer_3_2 = [\"Que\", \"tal\"]\n",
    "solucion=[ejer_3_1[0]+\" \"+ejer_3_2[0]+\"´\"+\",\"+\" \"+\"`\"+ejer_3_1[0]+\" \"+ejer_3_2[1]+\"´\"+\",\"+\" \"+\"`\"+ejer_3_1[1]+\" \"+ejer_3_2[0]+\"´\"+\",\"+\" \"+\"`\"+ejer_3_1[1]+\" \"+ejer_3_2[1]]\n",
    "print(solucion)"
   ]
  },
  {
   "cell_type": "markdown",
   "metadata": {},
   "source": [
    "## Ejercicio 4\n",
    "Dada la siguiente lista, encuentra el índice del valor 45 y sustitúyelo por el 0\n",
    "> ```ejer_4 = [20, 47, 19, 29, 45, 67, 78, 90]```"
   ]
  },
  {
   "cell_type": "code",
   "execution_count": 13,
   "metadata": {},
   "outputs": [
    {
     "name": "stdout",
     "output_type": "stream",
     "text": [
      "4\n",
      "[20, 47, 19, 29, 0, 67, 78, 90]\n"
     ]
    }
   ],
   "source": [
    "ejer_4=[20,47,19,29,45,67,78,90]\n",
    "x=ejer_4.index(45)\n",
    "print(x)\n",
    "ejer_4[4]=0\n",
    "print(ejer_4)"
   ]
  },
  {
   "cell_type": "markdown",
   "metadata": {},
   "source": [
    "## Ejercicio 5\n",
    "Dada la siguiente lista, elimina todos los valores iguales a 3\n",
    "> ```ejer_5 = [3, 20, 3, 47, 19, 3, 29, 45, 67, 78, 90, 3, 3]```\n",
    "\n",
    "TIP: No intentes eliminar elementos sobre la lista que estás iterando. Haz una copia con `ejer_5.copy()`."
   ]
  },
  {
   "cell_type": "code",
   "execution_count": 39,
   "metadata": {},
   "outputs": [
    {
     "name": "stdout",
     "output_type": "stream",
     "text": [
      "[20, 47, 19, 29, 45, 67, 78, 90]\n"
     ]
    }
   ],
   "source": [
    "ejer_5 = [3, 20, 3, 47, 19, 3, 29, 45, 67, 78, 90, 3, 3]\n",
    "#x=ejer_5.copy()\n",
    "while 3 in ejer_5:\n",
    "    ejer_5.remove(3)\n",
    "print(ejer_5)"
   ]
  },
  {
   "cell_type": "markdown",
   "metadata": {},
   "source": [
    "## Ejercicio 6\n",
    "1. Crea una tupla con 3 elementos\n",
    "2. Crea otra tupla con un elemento y comprueba su tipo\n",
    "3. Crea una tupla con elementos de diferentes tipos\n",
    "4. Imprime por pantalla el primer y ultimo elemento de la tupla del apartado 3. Usa `len` para el ultimo\n",
    "5. Añade un elemento a la tupla del apartado 3.\n",
    "6. Eliminar un elemento de la tupla del apartado 5, que se encuentre más o menos en la mitad.\n",
    "7. Convierte la tupla del apartado 5 en una lista"
   ]
  },
  {
   "cell_type": "code",
   "execution_count": 45,
   "metadata": {},
   "outputs": [
    {
     "name": "stdout",
     "output_type": "stream",
     "text": [
      "<class 'tuple'>\n",
      "<class 'tuple'>\n",
      "mesa\n",
      "True\n",
      "('mesa', 2, True, 8)\n",
      "['mesa', 2, True, 8]\n",
      "['mesa', 2, True]\n",
      "('mesa', 2, True)\n"
     ]
    }
   ],
   "source": [
    "tupla1=(\"casa\", \"coche\", \"llaves\")\n",
    "tupla2=tuple(\"boli\")\n",
    "print(type(tupla2))\n",
    "tupla3=(\"mesa\", 2, True)\n",
    "print(type(tupla3))\n",
    "print(tupla3[0])\n",
    "print(tupla3[len(tupla3)-1])\n",
    "tupla4=(8,)\n",
    "tupla5=(tupla3)+(tupla4)\n",
    "print(tupla5)\n",
    "ls=list(tupla5)\n",
    "print(ls)\n",
    "ls.pop(3)\n",
    "print(ls)\n",
    "tupla6=tuple(ls)\n",
    "print(tupla6)"
   ]
  },
  {
   "cell_type": "markdown",
   "metadata": {},
   "source": [
    "## Ejercicio 7\n",
    "Concatena todos los elementos de la tupla en un unico string. Para ello utiliza el metodo `.join()` de los Strings\n",
    "> ```ejer_7 = (\"cien\", \"cañones\", \"por\", \"banda\")```\n",
    "\n",
    "Resultado: `cien cañones por banda`"
   ]
  },
  {
   "cell_type": "code",
   "execution_count": 47,
   "metadata": {},
   "outputs": [
    {
     "name": "stdout",
     "output_type": "stream",
     "text": [
      "cien cañones por banda\n"
     ]
    }
   ],
   "source": [
    "ejer_7 = (\"cien\", \"cañones\", \"por\", \"banda\")\n",
    "resultado=ejer_7[0]+\" \"+ejer_7[1]+\" \"+ejer_7[2]+\" \"+ejer_7[3]\n",
    "print(resultado)"
   ]
  },
  {
   "cell_type": "markdown",
   "metadata": {},
   "source": [
    "## Ejercicio 8\n",
    "Obten el tercer elemento de la siguiente tupla, y el tercero empezando por la cola\n",
    "> ```ejer_8 = (3, 20, 3, 47, 19, 3, 29, 45, 67, 78, 90, 3, 3)```"
   ]
  },
  {
   "cell_type": "code",
   "execution_count": 49,
   "metadata": {},
   "outputs": [
    {
     "name": "stdout",
     "output_type": "stream",
     "text": [
      "3\n",
      "90\n"
     ]
    }
   ],
   "source": [
    "ejer_8 = (3, 20, 3, 47, 19, 3, 29, 45, 67, 78, 90, 3, 3)\n",
    "print(ejer_8[2])\n",
    "print(ejer_8[-3])"
   ]
  },
  {
   "cell_type": "markdown",
   "metadata": {},
   "source": [
    "## Ejercicio 9\n",
    "1. ¿Cuántas veces se repite el 3 en la siguiente tupla?\n",
    "2. Crea una tupla nueva con los elementos desde la posicion 5 a la 10.\n",
    "3. ¿Cuántos elementos tiene la tupla `ejer_9`?\n",
    "> ```ejer_9 = (3, 20, 3, 47, 19, 3, 29, 45, 67, 78, 90, 3, 3, 5, 2, 4, 7, 9, 4, 2, 4, 3, 3, 4, 6, 7)```"
   ]
  },
  {
   "cell_type": "code",
   "execution_count": 3,
   "metadata": {},
   "outputs": [
    {
     "name": "stdout",
     "output_type": "stream",
     "text": [
      "7\n",
      "(3, 29, 45, 67, 78, 90)\n",
      "26\n"
     ]
    }
   ],
   "source": [
    "ejer_9 = (3, 20, 3, 47, 19, 3, 29, 45, 67, 78, 90, 3, 3, 5, 2, 4, 7, 9, 4, 2, 4, 3, 3, 4, 6, 7)\n",
    "x=ejer_9.count(3)\n",
    "print(x)\n",
    "\n",
    "tupla_nueva=ejer_9[5:11]\n",
    "print(tupla_nueva)\n",
    "\n",
    "y=len(ejer_9)\n",
    "print(y)"
   ]
  },
  {
   "cell_type": "markdown",
   "metadata": {},
   "source": [
    "## Ejercicio 10\n",
    "Comprueba si el numero 60 esta en la tupla del ejercicio 9"
   ]
  },
  {
   "cell_type": "code",
   "execution_count": 4,
   "metadata": {},
   "outputs": [
    {
     "ename": "ValueError",
     "evalue": "tuple.index(x): x not in tuple",
     "output_type": "error",
     "traceback": [
      "\u001b[1;31m---------------------------------------------------------------------------\u001b[0m",
      "\u001b[1;31mValueError\u001b[0m                                Traceback (most recent call last)",
      "\u001b[1;32m~\\AppData\\Local\\Temp\\ipykernel_3044\\2427372888.py\u001b[0m in \u001b[0;36m<module>\u001b[1;34m\u001b[0m\n\u001b[1;32m----> 1\u001b[1;33m \u001b[0mz\u001b[0m\u001b[1;33m=\u001b[0m\u001b[0mejer_9\u001b[0m\u001b[1;33m.\u001b[0m\u001b[0mindex\u001b[0m\u001b[1;33m(\u001b[0m\u001b[1;36m60\u001b[0m\u001b[1;33m)\u001b[0m\u001b[1;33m\u001b[0m\u001b[1;33m\u001b[0m\u001b[0m\n\u001b[0m\u001b[0;32m      2\u001b[0m \u001b[0mprint\u001b[0m\u001b[1;33m(\u001b[0m\u001b[0mz\u001b[0m\u001b[1;33m)\u001b[0m\u001b[1;33m\u001b[0m\u001b[1;33m\u001b[0m\u001b[0m\n\u001b[0;32m      3\u001b[0m \u001b[1;33m\u001b[0m\u001b[0m\n\u001b[0;32m      4\u001b[0m \u001b[1;33m\u001b[0m\u001b[0m\n",
      "\u001b[1;31mValueError\u001b[0m: tuple.index(x): x not in tuple"
     ]
    }
   ],
   "source": [
    "z=ejer_9.index(60)\n",
    "print(z)\n",
    "\n",
    "\n"
   ]
  },
  {
   "cell_type": "markdown",
   "metadata": {},
   "source": [
    "## Ejercicio 11\n",
    "1. Convierte la tupla del apartado 10 en una lista\n",
    "2. Convierte la tupla del apartado 10 en un set\n",
    "3. Convierte la tupla del apartado 10 en un diccionario. Usa también los indices"
   ]
  },
  {
   "cell_type": "code",
   "execution_count": 66,
   "metadata": {},
   "outputs": [
    {
     "name": "stdout",
     "output_type": "stream",
     "text": [
      "[3, 20, 3, 47, 19, 3, 29, 45, 67, 78, 90, 3, 3, 5, 2, 4, 7, 9, 4, 2, 4, 3, 3, 4, 6, 7]\n",
      "{2, 3, 67, 5, 4, 7, 6, 9, 45, 78, 47, 19, 20, 90, 29}\n",
      "{1: 3, 2: 20, 3: 3, 4: 47, 5: 19, 6: 3, 7: 29, 8: 45, 9: 67, 10: 78, 11: 90, 12: 3, 13: 3, 14: 5, 15: 2, 16: 4, 17: 7, 18: 9, 19: 4, 20: 2, 21: 4, 22: 3, 23: 3, 24: 4, 25: 6, 26: 7}\n"
     ]
    }
   ],
   "source": [
    "ejer_11_lista=list(ejer_9)\n",
    "print(ejer_11_lista)\n",
    "\n",
    "ejer_11_set=set(ejer_9)\n",
    "print(ejer_11_set)\n",
    "\n",
    "#ejer_11_dic=((0,3),(1,20),(2,3),(3,47),(4,19),(5,3),(6,29),(7,45),(8,67),(9,78),(10,90),(11,3),(12,3),(13,5),(14,2),(15,4),(16,7),(17,9),(18,4),(19,2),(20,4),(21,3),(22,3),(23,4),(24,6),(25,7))\n",
    "ejer_9 = (3, 20, 3, 47, 19, 3, 29, 45, 67, 78, 90, 3, 3, 5, 2, 4, 7, 9, 4, 2, 4, 3, 3, 4, 6, 7)\n",
    "ejer_11_nueva=[]\n",
    "x=0\n",
    "for i in ejer_9:\n",
    "    x=x+1\n",
    "    ejer_11_nueva.append((x,i))\n",
    "ejer_11_dic=dict(ejer_11_nueva)\n",
    "print(ejer_11_dic)  "
   ]
  },
  {
   "cell_type": "code",
   "execution_count": 47,
   "metadata": {},
   "outputs": [
    {
     "name": "stdout",
     "output_type": "stream",
     "text": [
      "0 3\n",
      "1 20\n",
      "2 3\n",
      "3 47\n",
      "4 19\n",
      "5 3\n",
      "6 29\n",
      "7 45\n",
      "8 67\n",
      "9 78\n",
      "10 90\n",
      "11 3\n",
      "12 3\n",
      "13 5\n",
      "14 2\n",
      "15 4\n",
      "16 7\n",
      "17 9\n",
      "18 4\n",
      "19 2\n",
      "20 4\n",
      "21 3\n",
      "22 3\n",
      "23 4\n",
      "24 6\n",
      "25 7\n"
     ]
    }
   ],
   "source": [
    "for idx,val in enumerate(ejer_9):\n",
    "    print (idx,val)"
   ]
  },
  {
   "cell_type": "markdown",
   "metadata": {},
   "source": [
    "## Ejercicio 12\n",
    "Convierte la siguiente tupla en un diccionario\n",
    "> ```ejer_12 = [(\"x\", 1), (\"x\", 2), (\"x\", 3), (\"y\", 1), (\"y\", 2), (\"z\", 1)]```\n",
    "\n",
    "TIP: Puedes usar dos variables de control en un bucle `for`. Una por cada valor de las tuplas."
   ]
  },
  {
   "cell_type": "code",
   "execution_count": 44,
   "metadata": {},
   "outputs": [
    {
     "name": "stdout",
     "output_type": "stream",
     "text": [
      "{'x': 1}\n",
      "{'x': 2}\n",
      "{'x': 3}\n",
      "{'x': 3, 'y': 1}\n",
      "{'x': 3, 'y': 2}\n",
      "{'x': 3, 'y': 2, 'z': 1}\n"
     ]
    }
   ],
   "source": [
    "ejer_12 = [(\"x\", 1), (\"x\", 2), (\"x\", 3), (\"y\", 1), (\"y\", 2), (\"z\", 1)]\n",
    "ejer_12_dic={}\n",
    "    \n",
    "\n",
    "for clave,valor in ejer_12:\n",
    "    ejer_12_dic[clave]=valor\n",
    "    print(ejer_12_dic)"
   ]
  },
  {
   "cell_type": "markdown",
   "metadata": {},
   "source": [
    "## Ejercicio 13\n",
    "1. Crea una lista ordenada ascendente con las claves del diccionario\n",
    "2. Crea otra lista ordenada descendente con los valores\n",
    "3. Añade una nueva clave/valor\n",
    "4. Busca la clave 2 dentro del diccionario\n",
    "5. Itera la clave y el valor del diccionario con un unico for\n",
    "> ```ejer_13 = {4:78, 2:98, 8:234, 5:29}```"
   ]
  },
  {
   "cell_type": "code",
   "execution_count": 4,
   "metadata": {},
   "outputs": [
    {
     "name": "stdout",
     "output_type": "stream",
     "text": [
      "{'a': 26, 'b': 25, 'c': 24, 'd': 23, 'e': 22, 'f': 21, 'g': 20, 'h': 19, 'i': 18, 'j': 17, 'k': 16, 'l': 15, 'm': 14, 'n': 13, 'o': 12, 'p': 11, 'q': 10, 'r': 9, 's': 8, 't': 7, 'u': 6, 'v': 5, 'w': 4, 'x': 3, 'y': 2, 'z': 1}\n"
     ]
    }
   ],
   "source": [
    "abecedario=[\"a\",\"b\",\"c\",\"d\",\"e\",\"f\",\"g\",\"h\",\"i\",\"j\",\"k\",\"l\",\"m\",\"n\",\"o\",\"p\",\"q\",\"r\",\"s\",\"t\",\"u\",\"v\",\"w\",\"x\",\"y\",\"z\"]\n",
    "valores=[26,25,24,23,22,21,20,19,18,17,16,15,14,13,12,11,10,9,8,7,6,5,4,3,2,1]\n",
    "clave_valor={}\n",
    "for k in abecedario:\n",
    "    for v in valores:\n",
    "        clave_valor[k] = v\n",
    "        valores.remove(v)\n",
    "        break\n",
    "\n",
    "print(clave_valor)"
   ]
  },
  {
   "cell_type": "code",
   "execution_count": 13,
   "metadata": {},
   "outputs": [
    {
     "name": "stdout",
     "output_type": "stream",
     "text": [
      "['a', 'b', 'c', 'd', 'e', 'f', 'g', 'h', 'i', 'j', 'k', 'l', 'm', 'n', 'o', 'p', 'q', 'r', 's', 't', 'u', 'v', 'w', 'x', 'y', 'z']\n",
      "c\n"
     ]
    }
   ],
   "source": [
    "claves=list(clave_valor.keys())\n",
    "print(claves)\n",
    "print(claves[2])"
   ]
  },
  {
   "cell_type": "code",
   "execution_count": 15,
   "metadata": {},
   "outputs": [
    {
     "name": "stdout",
     "output_type": "stream",
     "text": [
      "a 26\n",
      "b 25\n",
      "c 24\n",
      "d 23\n",
      "e 22\n",
      "f 21\n",
      "g 20\n",
      "h 19\n",
      "i 18\n",
      "j 17\n",
      "k 16\n",
      "l 15\n",
      "m 14\n",
      "n 13\n",
      "o 12\n",
      "p 11\n",
      "q 10\n",
      "r 9\n",
      "s 8\n",
      "t 7\n",
      "u 6\n",
      "v 5\n",
      "w 4\n",
      "x 3\n",
      "y 2\n",
      "z 1\n"
     ]
    }
   ],
   "source": [
    "for k,v in clave_valor.items():\n",
    "    print (k,v)\n"
   ]
  },
  {
   "cell_type": "markdown",
   "metadata": {},
   "source": [
    "## Ejercicio 14\n",
    "Junta ambos diccionarios. Para ello, utiliza `update`\n",
    "> ```ejer_14_1 = {1: 11, 2: 22}```\n",
    ">\n",
    "> ```ejer_14_2 = {3: 33, 4: 44}```"
   ]
  },
  {
   "cell_type": "code",
   "execution_count": 17,
   "metadata": {},
   "outputs": [
    {
     "name": "stdout",
     "output_type": "stream",
     "text": [
      "{3: 33, 4: 44, 1: 11, 2: 22}\n"
     ]
    }
   ],
   "source": [
    "ejer_14_1 = {1: 11, 2: 22}\n",
    "ejer_14_2 = {3: 33, 4: 44}\n",
    "diccionario_conjunto=ejer_14_2.update(ejer_14_1)\n",
    "print(ejer_14_2)"
   ]
  },
  {
   "cell_type": "markdown",
   "metadata": {},
   "source": [
    "## Ejercicio 15\n",
    "Suma todos los valores del dicionario\n",
    "> ```ejer_15 = {1: 11, 2: 22, 3: 33, 4: 44, 5: 55}```"
   ]
  },
  {
   "cell_type": "code",
   "execution_count": 20,
   "metadata": {},
   "outputs": [
    {
     "name": "stdout",
     "output_type": "stream",
     "text": [
      "165\n"
     ]
    }
   ],
   "source": [
    "ejer_15 = {1: 11, 2: 22, 3: 33, 4: 44, 5: 55}\n",
    "total = sum(ejer_15.values())\n",
    "print(total)"
   ]
  },
  {
   "cell_type": "markdown",
   "metadata": {},
   "source": [
    "## Ejercicio 16\n",
    "Multiplica todos los valores del diccionario\n",
    "> ```ejer_16 = {1: 11, 2: 22, 3: 33, 4: 44, 5: 55}```"
   ]
  },
  {
   "cell_type": "code",
   "execution_count": 21,
   "metadata": {},
   "outputs": [
    {
     "name": "stdout",
     "output_type": "stream",
     "text": [
      "19326120\n"
     ]
    }
   ],
   "source": [
    "ejer_16 = {1: 11, 2: 22, 3: 33, 4: 44, 5: 55}\n",
    "answer = 1\n",
    "  \n",
    "for i in ejer_16: \n",
    "    answer = answer*ejer_16[i] \n",
    "\n",
    "print(answer)"
   ]
  },
  {
   "cell_type": "markdown",
   "metadata": {},
   "source": [
    "## Ejercicio 17\n",
    "1. Crea un set de tres elementos\n",
    "2. Añade un cuarto\n",
    "3. Elimina el utlimo elemento añadido\n",
    "4. Elimina el elemento 10, si está presente. Usa `discard()`"
   ]
  },
  {
   "cell_type": "code",
   "execution_count": 31,
   "metadata": {},
   "outputs": [
    {
     "data": {
      "text/plain": [
       "{1, 3, 7, 'a'}"
      ]
     },
     "execution_count": 31,
     "metadata": {},
     "output_type": "execute_result"
    }
   ],
   "source": [
    "ejer_17={1,\"a\",3}\n",
    "ejer_17.add(7)\n",
    "ejer_17"
   ]
  },
  {
   "cell_type": "code",
   "execution_count": 32,
   "metadata": {},
   "outputs": [
    {
     "data": {
      "text/plain": [
       "{1, 3, 'a'}"
      ]
     },
     "execution_count": 32,
     "metadata": {},
     "output_type": "execute_result"
    }
   ],
   "source": [
    "ejer_17.remove(7)\n",
    "ejer_17"
   ]
  },
  {
   "cell_type": "code",
   "execution_count": 33,
   "metadata": {},
   "outputs": [
    {
     "data": {
      "text/plain": [
       "{1, 3, 'a'}"
      ]
     },
     "execution_count": 33,
     "metadata": {},
     "output_type": "execute_result"
    }
   ],
   "source": [
    "ejer_17.discard(10)\n",
    "ejer_17"
   ]
  }
 ],
 "metadata": {
  "kernelspec": {
   "display_name": "Python 3 (ipykernel)",
   "language": "python",
   "name": "python3"
  },
  "language_info": {
   "codemirror_mode": {
    "name": "ipython",
    "version": 3
   },
   "file_extension": ".py",
   "mimetype": "text/x-python",
   "name": "python",
   "nbconvert_exporter": "python",
   "pygments_lexer": "ipython3",
   "version": "3.7.4"
  }
 },
 "nbformat": 4,
 "nbformat_minor": 4
}
