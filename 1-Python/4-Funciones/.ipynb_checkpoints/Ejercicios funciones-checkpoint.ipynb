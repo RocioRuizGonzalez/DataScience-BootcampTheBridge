{
 "cells": [
  {
   "cell_type": "markdown",
   "metadata": {},
   "source": [
    "![imagen](./img/ejercicios.png)"
   ]
  },
  {
   "cell_type": "markdown",
   "metadata": {},
   "source": [
    "# Ejercicios funciones\n",
    "## Ejercicio 1\n",
    "Escribe una función que convierta números del 1 al 7 en nombres de los dias de la semana. La función constará de un único argumento numérico y una salida de tipo string"
   ]
  },
  {
   "cell_type": "code",
   "execution_count": 5,
   "metadata": {},
   "outputs": [
    {
     "name": "stdout",
     "output_type": "stream",
     "text": [
      "viernes\n"
     ]
    }
   ],
   "source": [
    "def dias_de_la_semana (num):\n",
    "    dia=[\"lunes\",\"martes\",\"miercoles\",\"jueves\",\"viernes\",\"sabado\",\"domingo\"]\n",
    "    return dia[num-1]\n",
    "\n",
    "num=5\n",
    "print(dias_de_la_semana(num))"
   ]
  },
  {
   "cell_type": "markdown",
   "metadata": {},
   "source": [
    "## Ejercicio 2\n",
    "En el ejercicio 8 de bucles, creábamos una pirámide invertida, cuyo número de pisos venía determinado por un input del usuario. Crear una función que replique el comportamiento de la pirámide, y utiliza un único parámetro de entrada de la función para determinar el número de filas de la pirámide, es decir, elimina la sentencia input."
   ]
  },
  {
   "cell_type": "code",
   "execution_count": 7,
   "metadata": {},
   "outputs": [
    {
     "name": "stdout",
     "output_type": "stream",
     "text": [
      "* * * * * \n",
      "* * * * \n",
      "* * * \n",
      "* * \n",
      "* \n"
     ]
    }
   ],
   "source": [
    "def piramide (n): \n",
    "    for i in range(n):\n",
    "        for j in range (i, n):\n",
    "            print(\"*\", end=\" \")\n",
    "        print()\n",
    "\n",
    "n=5\n",
    "piramide(5)\n",
    "    "
   ]
  },
  {
   "cell_type": "markdown",
   "metadata": {},
   "source": [
    "## Ejercicio 3\n",
    "Escibe una función que compare dos números. La función tiene dos argumentos y hay tres salidas posibles: que sean iguales, que el primero se  mayor que el segundo, o que el segundo sea mayor que el primero"
   ]
  },
  {
   "cell_type": "code",
   "execution_count": 10,
   "metadata": {},
   "outputs": [
    {
     "name": "stdout",
     "output_type": "stream",
     "text": [
      "son iguales\n"
     ]
    }
   ],
   "source": [
    "def comparacion (x,y):\n",
    "    if (x==y):\n",
    "        return \"son iguales\"\n",
    "    elif (x>y):\n",
    "        return \"primero mayor que segundo\"\n",
    "    else:\n",
    "        return \"segundo mayor que primero\"\n",
    "    \n",
    "\n",
    "print(comparacion(3,3))"
   ]
  },
  {
   "cell_type": "markdown",
   "metadata": {},
   "source": [
    "## Ejercicio 4\n",
    "Escribe una función que sea un contador de letras. En el primer argumento tienes que introducir un texto, y el segundo que sea la letra a contar. La función tiene que devolver un entero con el número de veces que aparece esa letra, tanto mayuscula, como minúscula"
   ]
  },
  {
   "cell_type": "code",
   "execution_count": 8,
   "metadata": {},
   "outputs": [
    {
     "name": "stdout",
     "output_type": "stream",
     "text": [
      "2\n"
     ]
    }
   ],
   "source": [
    "def contador_letras(txt,letra):\n",
    "    x=int(txt.lower().count(letra.lower()))\n",
    "    return x\n",
    "\n",
    "txt=\"cAsa\"\n",
    "letra=\"a\"\n",
    "print (contador_letras(txt,letra))\n",
    "    "
   ]
  },
  {
   "cell_type": "markdown",
   "metadata": {},
   "source": [
    "## Ejercicio 5\n",
    "Escribe una función que tenga un único argumento, un string. La salida de la función tiene que ser un diccionario con el conteo de todas las letras de ese string."
   ]
  },
  {
   "cell_type": "code",
   "execution_count": 18,
   "metadata": {},
   "outputs": [
    {
     "name": "stdout",
     "output_type": "stream",
     "text": [
      "{'a': 2, 'b': 0, 'c': 1, 'd': 0, 'e': 0, 'f': 0, 'g': 0, 'h': 0, 'i': 0, 'j': 0, 'k': 0, 'l': 0, 'm': 0, 'n': 0, 'o': 0, 'p': 0, 'q': 0, 'r': 0, 's': 1, 't': 0, 'u': 0, 'v': 0, 'w': 0, 'x': 0, 'y': 0, 'z': 0}\n"
     ]
    }
   ],
   "source": [
    "def conteo(txt):\n",
    "    abecedario=[\"a\",\"b\",\"c\",\"d\",\"e\",\"f\",\"g\",\"h\",\"i\",\"j\",\"k\",\"l\",\"m\",\"n\",\"o\",\"p\",\"q\",\"r\",\"s\",\"t\",\"u\",\"v\",\"w\",\"x\",\"y\",\"z\"]\n",
    "    dic = {}\n",
    "    for letra in abecedario:\n",
    "        n = contador_letras(txt,letra)\n",
    "        dic[letra] = n\n",
    "    return dic\n",
    "           \n",
    "\n",
    "h=\"casa\"\n",
    "\n",
    "\n",
    "resultado = conteo(\"casa\")\n",
    "print(resultado)"
   ]
  },
  {
   "cell_type": "markdown",
   "metadata": {},
   "source": [
    "## Ejercicio 6\n",
    "Escribir una función que añada o elimine elementos en una lista. La función necesita los siguientes argumentos:\n",
    "* lista: la lista donde se añadirán o eliminarán los elementos\n",
    "* comando: \"add\" o \"remove\"\n",
    "* elemento: Por defecto es None."
   ]
  },
  {
   "cell_type": "code",
   "execution_count": 30,
   "metadata": {},
   "outputs": [
    {
     "name": "stdout",
     "output_type": "stream",
     "text": [
      "['perro', 'gato']\n"
     ]
    }
   ],
   "source": [
    "def funcion (ls,comando,elemento=None):\n",
    "    if (comando==\"add\"):\n",
    "        ls.append(elemento)\n",
    "    if (comando==\"remove\"):\n",
    "        ls.remove(elemento)\n",
    "    return ls\n",
    "        \n",
    "lista_ejer_6=[\"casa\", \"perro\", \"gato\"]\n",
    "\n",
    "        \n",
    "print(funcion(lista_ejer_6,\"remove\",\"casa\"))"
   ]
  },
  {
   "cell_type": "markdown",
   "metadata": {},
   "source": [
    "## Ejercicio 7\n",
    "Crea una función que reciba un número arbitrario de palabras, y devuelva una frase completa, separando las palabras con espacios."
   ]
  },
  {
   "cell_type": "code",
   "execution_count": 35,
   "metadata": {},
   "outputs": [
    {
     "name": "stdout",
     "output_type": "stream",
     "text": [
      "Hola que tal estas\n"
     ]
    }
   ],
   "source": [
    "def frase (palabra_1,palabra_2,palabra_3,palabra_4):\n",
    "    x= palabra_1+ \" \"+palabra_2+\" \"+palabra_3+\" \"+palabra_4\n",
    "    return x\n",
    "    \n",
    "palabra_1=\"Hola\"\n",
    "palabra_2=\"que\"\n",
    "palabra_3=\"tal\"\n",
    "palabra_4=\"estas\"\n",
    "\n",
    "print(frase(palabra_1,palabra_2,palabra_3,palabra_4))\n",
    "    \n",
    "    "
   ]
  },
  {
   "cell_type": "markdown",
   "metadata": {},
   "source": [
    "## Ejercicio 8\n",
    "Escribe un programa que obtenga el enésimo número de la [serie de Fibonacci](https://es.wikipedia.org/wiki/Sucesi%C3%B3n_de_Fibonacci). Tienes que crear una función recursiva con un único argumento.\n",
    "\n",
    "```Python\n",
    "fibonacci(2) = 1\n",
    "fibonacci(4) = 3\n",
    "fibonacci(5) = 5\n",
    "fibonacci(8) = 21\n",
    "```"
   ]
  },
  {
   "cell_type": "code",
   "execution_count": null,
   "metadata": {},
   "outputs": [],
   "source": []
  },
  {
   "cell_type": "markdown",
   "metadata": {},
   "source": [
    "## Ejercicio 9\n",
    "Define en una única celda las siguientes funciones:\n",
    "* Función que calcule el área de un cuadrado\n",
    "* Función que calcule el area de un triángulo\n",
    "* Función que calcule el área de un círculo\n",
    "\n",
    "En otra celda, calcular el area de:\n",
    "* Dos círculos de radio 10 + un triángulo de base 3 y altura 7\n",
    "* Un cuadrado de lado = 10 + 3 círculos (uno de radio = 4 y los otros dos de radio = 6) + 5 triángulos de base = 2 + altura = 4"
   ]
  },
  {
   "cell_type": "code",
   "execution_count": 38,
   "metadata": {},
   "outputs": [
    {
     "name": "stdout",
     "output_type": "stream",
     "text": [
      "9\n",
      "8.0\n",
      "78.53981633974483\n"
     ]
    }
   ],
   "source": [
    "def area_cuadrado (lado):\n",
    "    x=lado*lado\n",
    "    return x\n",
    "print(area_cuadrado(3))\n",
    "\n",
    "def area_triangulo (base,altura):\n",
    "    x=(base*altura)/2\n",
    "    return x\n",
    "print (area_triangulo(2,8))\n",
    "\n",
    "def area_circulo (radio):\n",
    "    import math\n",
    "    x=math.pi*radio**2\n",
    "    return x\n",
    "print (area_circulo(5))\n",
    "    "
   ]
  },
  {
   "cell_type": "code",
   "execution_count": 42,
   "metadata": {},
   "outputs": [
    {
     "name": "stdout",
     "output_type": "stream",
     "text": [
      "638.8185307179587\n",
      "396.46015351590177\n"
     ]
    }
   ],
   "source": [
    "area_1=(area_circulo(10)*2)+area_triangulo(3,7)\n",
    "print(area_1)\n",
    "\n",
    "area_2=area_cuadrado(10)+area_circulo(4)+(2*area_circulo(6))+(5*area_triangulo(2,4))\n",
    "print(area_2)"
   ]
  },
  {
   "cell_type": "code",
   "execution_count": null,
   "metadata": {},
   "outputs": [],
   "source": []
  }
 ],
 "metadata": {
  "kernelspec": {
   "display_name": "Python 3 (ipykernel)",
   "language": "python",
   "name": "python3"
  },
  "language_info": {
   "codemirror_mode": {
    "name": "ipython",
    "version": 3
   },
   "file_extension": ".py",
   "mimetype": "text/x-python",
   "name": "python",
   "nbconvert_exporter": "python",
   "pygments_lexer": "ipython3",
   "version": "3.7.4"
  }
 },
 "nbformat": 4,
 "nbformat_minor": 4
}
